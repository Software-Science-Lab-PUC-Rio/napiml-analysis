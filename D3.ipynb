{
 "cells": [
  {
   "cell_type": "markdown",
   "id": "e51a08d7",
   "metadata": {},
   "source": [
    "# Question D3"
   ]
  },
  {
   "cell_type": "markdown",
   "id": "2fd949b9",
   "metadata": {},
   "source": [
    "*Question*: What is the size of the organization you currently work for?"
   ]
  },
  {
   "cell_type": "markdown",
   "id": "909b1af1",
   "metadata": {},
   "source": [
    "*Answer Type*: Single Option"
   ]
  },
  {
   "cell_type": "markdown",
   "id": "9e69ad6a",
   "metadata": {},
   "source": [
    "*Options*: [1-10 employees, 11-50 employees, 51-250 employees, 251-500 employees, 501-1,000 employees, 1,001-2,000 employees, More than 2,000 employees]"
   ]
  },
  {
   "cell_type": "markdown",
   "id": "abaedda1",
   "metadata": {},
   "source": [
    "### Necessary Libraries"
   ]
  },
  {
   "cell_type": "code",
   "execution_count": 1,
   "id": "473efead",
   "metadata": {},
   "outputs": [],
   "source": [
    "import pandas as pd\n",
    "from utils.basic import rename_values\n",
    "from utils.dataframe import DataframeUtils\n",
    "from utils.plot import PlotUtils\n",
    "from utils.bootstrapping import BootstrappingUtils"
   ]
  },
  {
   "cell_type": "markdown",
   "id": "c3bb768b",
   "metadata": {},
   "source": [
    "### Dataframe Init"
   ]
  },
  {
   "cell_type": "code",
   "execution_count": 2,
   "id": "83000cd3",
   "metadata": {},
   "outputs": [],
   "source": [
    "dataframe_obj = DataframeUtils('./data/main_data.csv', ';', './data/unused_columns.txt', './data/formatted_columns.txt')\n",
    "# the index is not important, but when we internally format df we need to reset index\n",
    "dataframe_obj.df = dataframe_obj.df.reset_index(drop=True)"
   ]
  },
  {
   "cell_type": "markdown",
   "id": "e40434b0-410c-4275-b985-592c780ba000",
   "metadata": {},
   "source": [
    "In this research, we conservatively considered those who fully completed the survey. So, we discarded suspended submissions."
   ]
  },
  {
   "cell_type": "code",
   "execution_count": 3,
   "id": "7e79b560-feeb-4d9d-b5c1-3a521ebf25d7",
   "metadata": {},
   "outputs": [],
   "source": [
    "dataframe_obj.df.drop(dataframe_obj.df[dataframe_obj.df['Status'] == 'Suspended (22)'].index, inplace = True)"
   ]
  },
  {
   "cell_type": "markdown",
   "id": "5b60fc63",
   "metadata": {},
   "source": [
    "### Basic Analysis"
   ]
  },
  {
   "cell_type": "code",
   "execution_count": 4,
   "id": "a8ee2770",
   "metadata": {},
   "outputs": [
    {
     "data": {
      "text/plain": [
       "0        1,001-2,000 employees\n",
       "1    More than 2,000 employees\n",
       "2             51-250 employees\n",
       "3    More than 2,000 employees\n",
       "4          501-1,000 employees\n",
       "Name: D3_Company_Size, dtype: object"
      ]
     },
     "execution_count": 4,
     "metadata": {},
     "output_type": "execute_result"
    }
   ],
   "source": [
    "dataframe_obj.df['D3_Company_Size'].head()"
   ]
  },
  {
   "cell_type": "code",
   "execution_count": 5,
   "id": "579ec790",
   "metadata": {},
   "outputs": [],
   "source": [
    "# mapping of old labels to new one\n",
    "d3_rename_mapping = {\n",
    "    '1-10 employees': '1-10',\n",
    "    '11-50 employees': '11-50',\n",
    "    '51-250 employees': '51-250',\n",
    "    '251-500 employees': '251-500',\n",
    "    '501-1,000 employees': '501-1000',\n",
    "    '1,001-2,000 employees': '1001-2000',\n",
    "    'More than 2,000 employees': '+2000'\n",
    "}"
   ]
  },
  {
   "cell_type": "code",
   "execution_count": 6,
   "id": "9d9ea3d6",
   "metadata": {},
   "outputs": [],
   "source": [
    "# update values in D3 column\n",
    "dataframe_obj.df['D3_Company_Size'] = rename_values(rename_mapping=d3_rename_mapping,  \n",
    "                                                    values=list(dataframe_obj.df['D3_Company_Size']))"
   ]
  },
  {
   "cell_type": "code",
   "execution_count": 7,
   "id": "94123c10",
   "metadata": {},
   "outputs": [],
   "source": [
    "# cleaning data\n",
    "dataframe_obj.remove_value_from_df('0','D3_Company_Size')"
   ]
  },
  {
   "cell_type": "code",
   "execution_count": 8,
   "id": "ff0f4020",
   "metadata": {},
   "outputs": [],
   "source": [
    "positions_mapping = {\n",
    "    '+2000': 6,\n",
    "    '51-250': 2,\n",
    "    '11-50': 1,\n",
    "    '1001-2000': 5,\n",
    "    '1-10': 0,\n",
    "    '251-500': 3,\n",
    "    '501-1000': 4\n",
    "}"
   ]
  },
  {
   "cell_type": "code",
   "execution_count": 9,
   "id": "f0858245",
   "metadata": {},
   "outputs": [],
   "source": [
    "# barplot data\n",
    "indexes = list(dataframe_obj.df['D3_Company_Size'].value_counts().index)\n",
    "values = list(dataframe_obj.df['D3_Company_Size'].value_counts())\n",
    "chart_positions = [positions_mapping[idx] for idx in indexes]"
   ]
  },
  {
   "cell_type": "code",
   "execution_count": 10,
   "id": "fdd04b3e",
   "metadata": {},
   "outputs": [],
   "source": [
    "# plot object\n",
    "d3_plot = PlotUtils(pd.DataFrame(\n",
    "    data={'Company Size': indexes, 'Answers': values, 'Chart Position': chart_positions}\n",
    ").sort_values(by=['Chart Position'], ascending=True))"
   ]
  },
  {
   "cell_type": "code",
   "execution_count": 11,
   "id": "7ae02664",
   "metadata": {},
   "outputs": [
    {
     "data": {
      "text/html": [
       "<div>\n",
       "<style scoped>\n",
       "    .dataframe tbody tr th:only-of-type {\n",
       "        vertical-align: middle;\n",
       "    }\n",
       "\n",
       "    .dataframe tbody tr th {\n",
       "        vertical-align: top;\n",
       "    }\n",
       "\n",
       "    .dataframe thead th {\n",
       "        text-align: right;\n",
       "    }\n",
       "</style>\n",
       "<table border=\"1\" class=\"dataframe\">\n",
       "  <thead>\n",
       "    <tr style=\"text-align: right;\">\n",
       "      <th></th>\n",
       "      <th>Company Size</th>\n",
       "      <th>Answers</th>\n",
       "      <th>Chart Position</th>\n",
       "    </tr>\n",
       "  </thead>\n",
       "  <tbody>\n",
       "    <tr>\n",
       "      <th>3</th>\n",
       "      <td>1-10</td>\n",
       "      <td>16</td>\n",
       "      <td>0</td>\n",
       "    </tr>\n",
       "    <tr>\n",
       "      <th>2</th>\n",
       "      <td>11-50</td>\n",
       "      <td>21</td>\n",
       "      <td>1</td>\n",
       "    </tr>\n",
       "    <tr>\n",
       "      <th>1</th>\n",
       "      <td>51-250</td>\n",
       "      <td>25</td>\n",
       "      <td>2</td>\n",
       "    </tr>\n",
       "    <tr>\n",
       "      <th>5</th>\n",
       "      <td>251-500</td>\n",
       "      <td>14</td>\n",
       "      <td>3</td>\n",
       "    </tr>\n",
       "    <tr>\n",
       "      <th>6</th>\n",
       "      <td>501-1000</td>\n",
       "      <td>6</td>\n",
       "      <td>4</td>\n",
       "    </tr>\n",
       "    <tr>\n",
       "      <th>4</th>\n",
       "      <td>1001-2000</td>\n",
       "      <td>15</td>\n",
       "      <td>5</td>\n",
       "    </tr>\n",
       "    <tr>\n",
       "      <th>0</th>\n",
       "      <td>+2000</td>\n",
       "      <td>80</td>\n",
       "      <td>6</td>\n",
       "    </tr>\n",
       "  </tbody>\n",
       "</table>\n",
       "</div>"
      ],
      "text/plain": [
       "  Company Size  Answers  Chart Position\n",
       "3         1-10       16               0\n",
       "2        11-50       21               1\n",
       "1       51-250       25               2\n",
       "5      251-500       14               3\n",
       "6     501-1000        6               4\n",
       "4    1001-2000       15               5\n",
       "0        +2000       80               6"
      ]
     },
     "execution_count": 11,
     "metadata": {},
     "output_type": "execute_result"
    }
   ],
   "source": [
    "d3_plot.df"
   ]
  },
  {
   "cell_type": "code",
   "execution_count": 12,
   "id": "2a821cac",
   "metadata": {},
   "outputs": [
    {
     "data": {
      "image/png": "[encoded data removed]",
      "text/plain": [
       "<Figure size 1012.22x500 with 1 Axes>"
      ]
     },
     "metadata": {},
     "output_type": "display_data"
    }
   ],
   "source": [
    "total_answers = 'N = ' + str(len(list(dataframe_obj.df['D3_Company_Size'])))\n",
    "total_answers_int = len(list(dataframe_obj.df['D3_Company_Size']))\n",
    "\n",
    "d3_plot.single_barplot(x_axis=\"Company Size\", y_axis=\"Answers\", \n",
    "                       title=\"What is the size of the organization you currently work for?\",\n",
    "                       x_label=\"Company Size\", y_label=\"Valid Answers\", x_label_rotation=0, color=\"#429bf5\", \n",
    "                       total_answers=total_answers, bar_orientation='vertical')"
   ]
  },
  {
   "cell_type": "markdown",
   "id": "2362eae7",
   "metadata": {},
   "source": [
    "### Bootstrapping Analysis"
   ]
  },
  {
   "cell_type": "code",
   "execution_count": 13,
   "id": "82c8c82f",
   "metadata": {},
   "outputs": [],
   "source": [
    "valid_options_list = list(dataframe_obj.df['D3_Company_Size'].unique())\n",
    "valid_answers_list = list(dataframe_obj.df['D3_Company_Size'])"
   ]
  },
  {
   "cell_type": "code",
   "execution_count": 14,
   "id": "303fb546",
   "metadata": {},
   "outputs": [],
   "source": [
    "replacements = 1000\n",
    "population_sample_size = total_answers_int # equals n - total valid answers\n",
    "\n",
    "bootstrapping_obj = BootstrappingUtils(valid_answers_list, valid_options_list, replacements, population_sample_size, 95)"
   ]
  },
  {
   "cell_type": "code",
   "execution_count": 15,
   "id": "b5a50018",
   "metadata": {},
   "outputs": [],
   "source": [
    "bootstrapped_dict_data = bootstrapping_obj.bootstrapping('single')"
   ]
  },
  {
   "cell_type": "code",
   "execution_count": 16,
   "id": "2e5f70b2",
   "metadata": {},
   "outputs": [],
   "source": [
    "# get a pair of values between dict key and all the list values inside that key \n",
    "# key: [val_1, val_2] ---> [(key, val_1), (key, val_2)...]\n",
    "indexes = []\n",
    "values = []\n",
    "chart_positions = []\n",
    "for idx in bootstrapped_dict_data:\n",
    "    indexes += [idx for _ in range(len(bootstrapped_dict_data[idx]['population']))]\n",
    "    values += bootstrapped_dict_data[idx]['population']\n",
    "    chart_positions += [positions_mapping[idx] for _ in range(len(bootstrapped_dict_data[idx]['population']))]"
   ]
  },
  {
   "cell_type": "code",
   "execution_count": 17,
   "id": "a7ed3e11",
   "metadata": {},
   "outputs": [],
   "source": [
    "values = [100 * v for v in values]"
   ]
  },
  {
   "cell_type": "code",
   "execution_count": 18,
   "id": "9f4fc8fc",
   "metadata": {},
   "outputs": [],
   "source": [
    "# plot object for bootstrapped data\n",
    "d3_boot_plot = PlotUtils(pd.DataFrame(\n",
    "    data={'Company Size': indexes, 'Value': values, 'Chart Position': chart_positions}\n",
    ").sort_values(by=['Chart Position'], ascending=True))"
   ]
  },
  {
   "cell_type": "code",
   "execution_count": 19,
   "id": "69cb3170",
   "metadata": {},
   "outputs": [
    {
     "data": {
      "image/png": "[encoded data removed]",
      "text/plain": [
       "<Figure size 1012.22x500 with 1 Axes>"
      ]
     },
     "metadata": {},
     "output_type": "display_data"
    }
   ],
   "source": [
    "d3_boot_plot.single_barplot(x_axis=\"Company Size\", y_axis=\"Value\", \n",
    "                       title=\"Bootstrapping - 95% confidence \\n What is the size of the organization you currently work for?\",\n",
    "                       x_label=\"Percentage of Answers (%)\", y_label=\"Company Size\", x_label_rotation=0, color=\"#429bf5\", \n",
    "                       total_answers=total_answers, bar_orientation='vertical')"
   ]
  },
  {
   "cell_type": "code",
   "execution_count": 20,
   "id": "064dca6a",
   "metadata": {},
   "outputs": [
    {
     "name": "stdout",
     "output_type": "stream",
     "text": [
      "Option: (Lower Value, Mean, Upper Value)\n",
      "1001-2000:(0.08353597473218648, 0.08487005649717513, 0.08620413826216379)\n",
      "+2000:(0.4494888002369912, 0.4517909604519775, 0.4540931206669637)\n",
      "51-250:(0.14046628973396214, 0.14208474576271188, 0.14370320179146162)\n",
      "501-1000:(0.032723637340651916, 0.033542372881355934, 0.03436110842205995)\n",
      "1-10:(0.08923391147366005, 0.0904237288135593, 0.09161354615345854)\n",
      "251-500:(0.07785974747292768, 0.07902824858757061, 0.08019674970221355)\n",
      "11-50:(0.11684775848144158, 0.11825988700564972, 0.11967201552985787)\n"
     ]
    }
   ],
   "source": [
    "# confidence for each option\n",
    "print(\"Option: (Lower Value, Mean, Upper Value)\")\n",
    "for idx in bootstrapped_dict_data:\n",
    "    print(idx + ':' + str(bootstrapped_dict_data[idx]['confidence']))"
   ]
  },
  {
   "cell_type": "code",
   "execution_count": 21,
   "id": "503768d1",
   "metadata": {},
   "outputs": [
    {
     "name": "stdout",
     "output_type": "stream",
     "text": [
      "Option: (Lower Value, Mean, Upper Value)\n",
      "1001-2000:: P = 8.487 [8.354, 8.62]\n",
      "+2000:: P = 45.179 [44.949, 45.409]\n",
      "51-250:: P = 14.208 [14.047, 14.37]\n",
      "501-1000:: P = 3.354 [3.272, 3.436]\n",
      "1-10:: P = 9.042 [8.923, 9.161]\n",
      "251-500:: P = 7.903 [7.786, 8.02]\n",
      "11-50:: P = 11.826 [11.685, 11.967]\n"
     ]
    }
   ],
   "source": [
    "# confidence for each option\n",
    "print(\"Option: (Lower Value, Mean, Upper Value)\")\n",
    "for idx in bootstrapped_dict_data:\n",
    "    print(idx + ':: P = ' + str(round((bootstrapped_dict_data[idx]['confidence'][1] * 100), 3)) + \" [\" + str(round((bootstrapped_dict_data[idx]['confidence'][0] * 100), 3)) + \", \" + str(round((bootstrapped_dict_data[idx]['confidence'][2] * 100), 3)) + \"]\")"
   ]
  }
 ],
 "metadata": {
  "kernelspec": {
   "display_name": "Python 3 (ipykernel)",
   "language": "python",
   "name": "python3"
  },
  "language_info": {
   "codemirror_mode": {
    "name": "ipython",
    "version": 3
   },
   "file_extension": ".py",
   "mimetype": "text/x-python",
   "name": "python",
   "nbconvert_exporter": "python",
   "pygments_lexer": "ipython3",
   "version": "3.10.9"
  }
 },
 "nbformat": 4,
 "nbformat_minor": 5
}

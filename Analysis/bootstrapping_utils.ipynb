{
 "cells": [
  {
   "cell_type": "code",
   "execution_count": 1,
   "id": "f47c7df2",
   "metadata": {},
   "outputs": [],
   "source": [
    "# importing important libs\n",
    "import random\n",
    "import math\n",
    "from statistics import mean, pstdev"
   ]
  },
  {
   "cell_type": "code",
   "execution_count": 2,
   "id": "00b336f0",
   "metadata": {},
   "outputs": [],
   "source": [
    "def single_option_sampling(*, main_answers: list, options: list, population_size: int):\n",
    "    # ensure that all options will be filled - with 0 at least\n",
    "    population_answers = {option: 0 for option in options}\n",
    "    \n",
    "    # will take r times a random chosen option\n",
    "    for _ in range(population_size):\n",
    "        rand_idx = random.randrange(len(main_answers))\n",
    "        random_option = main_answers[rand_idx]\n",
    "        # increase option total of answers\n",
    "        population_answers[random_option] += 1\n",
    "        \n",
    "    return population_answers"
   ]
  },
  {
   "cell_type": "code",
   "execution_count": 3,
   "id": "fd03cd8e",
   "metadata": {},
   "outputs": [],
   "source": [
    "def multiple_option_sampling(*, main_answers: list, options: list, population_size: int):\n",
    "    # ensure that all options will be filled - with 0 at least\n",
    "    population_answers = {option: 0 for option in options}\n",
    "    \n",
    "    # will take r times a random chosen option\n",
    "    for _ in range(population_size):\n",
    "        rand_idx = random.randrange(len(main_answers))\n",
    "        # in this case, we will have an array of options assigned\n",
    "        random_option_list = main_answers[rand_idx]\n",
    "        # increase option total of answers for each one assigned\n",
    "        for random_option in random_option_list:\n",
    "            population_answers[random_option] += 1\n",
    "    \n",
    "    return population_answers"
   ]
  },
  {
   "cell_type": "code",
   "execution_count": 4,
   "id": "726d066d",
   "metadata": {},
   "outputs": [],
   "source": [
    "def numerical_field_sampling(*, main_answers: list, population_size: int):\n",
    "    population_answers = []\n",
    "    \n",
    "    # will take r times a random chosen option\n",
    "    for _ in range(population_size):\n",
    "        # only choose one value inside of what people have chosen\n",
    "        rand_idx = random.randrange(len(main_answers))\n",
    "        random_option = main_answers[rand_idx]\n",
    "        # add new answer \n",
    "        population_answers.append(random_option)\n",
    "        \n",
    "    return population_answers"
   ]
  },
  {
   "cell_type": "code",
   "execution_count": 5,
   "id": "190a4c27",
   "metadata": {},
   "outputs": [],
   "source": [
    "def bootstrapping(*, answers: list, all_options: list, replacements: int, population_size: int, question_type: str = 'single'):\n",
    "    populations = []\n",
    "    for _ in range(replacements):\n",
    "        if question_type == 'single':\n",
    "            population = single_option_sampling(main_answers=answers, options=all_options, \n",
    "                                                population_size=population_size)\n",
    "        elif question_type == 'multiple':\n",
    "            population = multiple_option_sampling(main_answers=answers, options=all_options, \n",
    "                                                  population_size=population_size)\n",
    "        \n",
    "        # add population new answers\n",
    "        populations.append(population)\n",
    "    \n",
    "    # now we have all answers distributed over Replacements populations\n",
    "    # lets compute the percentage of answers in each option\n",
    "    population_metrics = {option: [] for option in all_options}\n",
    "    for population in populations:\n",
    "        for option in population:\n",
    "            population_metrics[option].append( (population[option] / population_size) * 100 )\n",
    "    \n",
    "    return population_metrics"
   ]
  },
  {
   "cell_type": "code",
   "execution_count": 6,
   "id": "83fb23ea",
   "metadata": {},
   "outputs": [],
   "source": [
    "def bootstrapping_numerical_fields(*, answers: list, population_size: int):\n",
    "    population = numerical_field_sampling(main_answers=answers, population_size=population_size)\n",
    "    \n",
    "    return population"
   ]
  },
  {
   "cell_type": "code",
   "execution_count": 7,
   "id": "6c71571d",
   "metadata": {},
   "outputs": [],
   "source": [
    "def confidence_interval(*, data_points: list, confidence: float = 0.95):\n",
    "    # https://www.indeed.com/career-advice/career-development/how-to-calculate-confidence-interval\n",
    "    # mean\n",
    "    X = mean(data_points)\n",
    "    # population standard deviation\n",
    "    S = pstdev(data_points)\n",
    "    # data points length\n",
    "    n = len(data_points)\n",
    "    # square root data_points length\n",
    "    sr_n = math.sqrt(n)\n",
    "    # standard error\n",
    "    standard_error = S / n\n",
    "    # margin error\n",
    "    margin_error = standard_error * 2\n",
    "    \n",
    "    lower_value = X - (confidence * (S / sr_n))\n",
    "    upper_value = X + (confidence * (S / sr_n))\n",
    "    \n",
    "    return lower_value, X, upper_value"
   ]
  }
 ],
 "metadata": {
  "kernelspec": {
   "display_name": "Python 3 (ipykernel)",
   "language": "python",
   "name": "python3"
  },
  "language_info": {
   "codemirror_mode": {
    "name": "ipython",
    "version": 3
   },
   "file_extension": ".py",
   "mimetype": "text/x-python",
   "name": "python",
   "nbconvert_exporter": "python",
   "pygments_lexer": "ipython3",
   "version": "3.9.12"
  }
 },
 "nbformat": 4,
 "nbformat_minor": 5
}

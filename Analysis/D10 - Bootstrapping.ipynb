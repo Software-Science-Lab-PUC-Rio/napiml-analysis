{
 "cells": [
  {
   "cell_type": "code",
   "execution_count": 1,
   "id": "01dfafec",
   "metadata": {},
   "outputs": [],
   "source": [
    "import pandas as pd\n",
    "import numpy as np\n",
    "import random\n",
    "import math\n",
    "import seaborn as sns\n",
    "import matplotlib.pyplot as plt\n",
    "from ipynb.fs.full.utils import get_df, rename_values,remove_value\n",
    "from ipynb.fs.full.plots import single_barplot\n",
    "from ipynb.fs.full.bootstrapping_utils import bootstrapping, confidence_interval\n",
    "from statistics import mean, pstdev"
   ]
  },
  {
   "cell_type": "code",
   "execution_count": 2,
   "id": "8845b158",
   "metadata": {},
   "outputs": [
    {
     "data": {
      "text/html": [
       "<div>\n",
       "<style scoped>\n",
       "    .dataframe tbody tr th:only-of-type {\n",
       "        vertical-align: middle;\n",
       "    }\n",
       "\n",
       "    .dataframe tbody tr th {\n",
       "        vertical-align: top;\n",
       "    }\n",
       "\n",
       "    .dataframe thead th {\n",
       "        text-align: right;\n",
       "    }\n",
       "</style>\n",
       "<table border=\"1\" class=\"dataframe\">\n",
       "  <thead>\n",
       "    <tr style=\"text-align: right;\">\n",
       "      <th></th>\n",
       "      <th>D10_ML_Management_Framework_None</th>\n",
       "      <th>D10_ML_Management_Framework_CRISP-DM</th>\n",
       "      <th>D10_ML_Management_Framework_Kanban</th>\n",
       "      <th>D10_ML_Management_Framework_Lean</th>\n",
       "      <th>D10_ML_Management_Framework_RUP</th>\n",
       "      <th>D10_ML_Management_Framework_SAFe</th>\n",
       "      <th>D10_ML_Management_Framework_Scrum</th>\n",
       "      <th>D10_ML_Management_Framework_Others</th>\n",
       "    </tr>\n",
       "  </thead>\n",
       "  <tbody>\n",
       "    <tr>\n",
       "      <th>2</th>\n",
       "      <td>not quoted</td>\n",
       "      <td>not quoted</td>\n",
       "      <td>not quoted</td>\n",
       "      <td>not quoted</td>\n",
       "      <td>not quoted</td>\n",
       "      <td>not quoted</td>\n",
       "      <td>not quoted</td>\n",
       "      <td>not quoted</td>\n",
       "    </tr>\n",
       "    <tr>\n",
       "      <th>3</th>\n",
       "      <td>not quoted</td>\n",
       "      <td>not quoted</td>\n",
       "      <td>not quoted</td>\n",
       "      <td>not quoted</td>\n",
       "      <td>not quoted</td>\n",
       "      <td>not quoted</td>\n",
       "      <td>quoted</td>\n",
       "      <td>not quoted</td>\n",
       "    </tr>\n",
       "    <tr>\n",
       "      <th>4</th>\n",
       "      <td>quoted</td>\n",
       "      <td>not quoted</td>\n",
       "      <td>not quoted</td>\n",
       "      <td>not quoted</td>\n",
       "      <td>not quoted</td>\n",
       "      <td>not quoted</td>\n",
       "      <td>not quoted</td>\n",
       "      <td>not quoted</td>\n",
       "    </tr>\n",
       "    <tr>\n",
       "      <th>5</th>\n",
       "      <td>not quoted</td>\n",
       "      <td>not quoted</td>\n",
       "      <td>not quoted</td>\n",
       "      <td>not quoted</td>\n",
       "      <td>not quoted</td>\n",
       "      <td>not quoted</td>\n",
       "      <td>quoted</td>\n",
       "      <td>not quoted</td>\n",
       "    </tr>\n",
       "    <tr>\n",
       "      <th>6</th>\n",
       "      <td>not quoted</td>\n",
       "      <td>not quoted</td>\n",
       "      <td>quoted</td>\n",
       "      <td>not quoted</td>\n",
       "      <td>not quoted</td>\n",
       "      <td>not quoted</td>\n",
       "      <td>not quoted</td>\n",
       "      <td>not quoted</td>\n",
       "    </tr>\n",
       "    <tr>\n",
       "      <th>7</th>\n",
       "      <td>not quoted</td>\n",
       "      <td>not quoted</td>\n",
       "      <td>quoted</td>\n",
       "      <td>not quoted</td>\n",
       "      <td>not quoted</td>\n",
       "      <td>not quoted</td>\n",
       "      <td>quoted</td>\n",
       "      <td>not quoted</td>\n",
       "    </tr>\n",
       "    <tr>\n",
       "      <th>8</th>\n",
       "      <td>quoted</td>\n",
       "      <td>not quoted</td>\n",
       "      <td>not quoted</td>\n",
       "      <td>not quoted</td>\n",
       "      <td>not quoted</td>\n",
       "      <td>not quoted</td>\n",
       "      <td>quoted</td>\n",
       "      <td>not quoted</td>\n",
       "    </tr>\n",
       "    <tr>\n",
       "      <th>9</th>\n",
       "      <td>not quoted</td>\n",
       "      <td>not quoted</td>\n",
       "      <td>quoted</td>\n",
       "      <td>not quoted</td>\n",
       "      <td>not quoted</td>\n",
       "      <td>not quoted</td>\n",
       "      <td>not quoted</td>\n",
       "      <td>not quoted</td>\n",
       "    </tr>\n",
       "    <tr>\n",
       "      <th>10</th>\n",
       "      <td>not quoted</td>\n",
       "      <td>not quoted</td>\n",
       "      <td>not quoted</td>\n",
       "      <td>not quoted</td>\n",
       "      <td>not quoted</td>\n",
       "      <td>not quoted</td>\n",
       "      <td>not quoted</td>\n",
       "      <td>not quoted</td>\n",
       "    </tr>\n",
       "    <tr>\n",
       "      <th>11</th>\n",
       "      <td>not quoted</td>\n",
       "      <td>not quoted</td>\n",
       "      <td>not quoted</td>\n",
       "      <td>not quoted</td>\n",
       "      <td>not quoted</td>\n",
       "      <td>not quoted</td>\n",
       "      <td>not quoted</td>\n",
       "      <td>not quoted</td>\n",
       "    </tr>\n",
       "  </tbody>\n",
       "</table>\n",
       "</div>"
      ],
      "text/plain": [
       "   D10_ML_Management_Framework_None D10_ML_Management_Framework_CRISP-DM  \\\n",
       "2                        not quoted                           not quoted   \n",
       "3                        not quoted                           not quoted   \n",
       "4                            quoted                           not quoted   \n",
       "5                        not quoted                           not quoted   \n",
       "6                        not quoted                           not quoted   \n",
       "7                        not quoted                           not quoted   \n",
       "8                            quoted                           not quoted   \n",
       "9                        not quoted                           not quoted   \n",
       "10                       not quoted                           not quoted   \n",
       "11                       not quoted                           not quoted   \n",
       "\n",
       "   D10_ML_Management_Framework_Kanban D10_ML_Management_Framework_Lean  \\\n",
       "2                          not quoted                       not quoted   \n",
       "3                          not quoted                       not quoted   \n",
       "4                          not quoted                       not quoted   \n",
       "5                          not quoted                       not quoted   \n",
       "6                              quoted                       not quoted   \n",
       "7                              quoted                       not quoted   \n",
       "8                          not quoted                       not quoted   \n",
       "9                              quoted                       not quoted   \n",
       "10                         not quoted                       not quoted   \n",
       "11                         not quoted                       not quoted   \n",
       "\n",
       "   D10_ML_Management_Framework_RUP D10_ML_Management_Framework_SAFe  \\\n",
       "2                       not quoted                       not quoted   \n",
       "3                       not quoted                       not quoted   \n",
       "4                       not quoted                       not quoted   \n",
       "5                       not quoted                       not quoted   \n",
       "6                       not quoted                       not quoted   \n",
       "7                       not quoted                       not quoted   \n",
       "8                       not quoted                       not quoted   \n",
       "9                       not quoted                       not quoted   \n",
       "10                      not quoted                       not quoted   \n",
       "11                      not quoted                       not quoted   \n",
       "\n",
       "   D10_ML_Management_Framework_Scrum D10_ML_Management_Framework_Others  \n",
       "2                         not quoted                         not quoted  \n",
       "3                             quoted                         not quoted  \n",
       "4                         not quoted                         not quoted  \n",
       "5                             quoted                         not quoted  \n",
       "6                         not quoted                         not quoted  \n",
       "7                             quoted                         not quoted  \n",
       "8                             quoted                         not quoted  \n",
       "9                         not quoted                         not quoted  \n",
       "10                        not quoted                         not quoted  \n",
       "11                        not quoted                         not quoted  "
      ]
     },
     "execution_count": 2,
     "metadata": {},
     "output_type": "execute_result"
    }
   ],
   "source": [
    "# get formatted and ready to use dataframe\n",
    "df = get_df()\n",
    "df = df[['D10_ML_Management_Framework_None', 'D10_ML_Management_Framework_CRISP-DM', 'D10_ML_Management_Framework_Kanban',\n",
    "         'D10_ML_Management_Framework_Lean','D10_ML_Management_Framework_RUP', 'D10_ML_Management_Framework_SAFe', \n",
    "         'D10_ML_Management_Framework_Scrum', 'D10_ML_Management_Framework_Others']]\n",
    "df.head(10)"
   ]
  },
  {
   "cell_type": "code",
   "execution_count": 3,
   "id": "9ddd4771",
   "metadata": {},
   "outputs": [],
   "source": [
    "# the possible answers are the ones in columns\n",
    "valid_options_list = [column.split(\"D10_ML_Management_Framework_\")[1] for column in list(df.columns)]"
   ]
  },
  {
   "cell_type": "code",
   "execution_count": 4,
   "id": "9d891b33",
   "metadata": {},
   "outputs": [],
   "source": [
    "# answers could be composed by more than one option, so we will have an array of selected options\n",
    "valid_answers_list = []\n",
    "prefix = 'D10_ML_Management_Framework_'\n",
    "for idx, row in df.iterrows():\n",
    "    answer = []\n",
    "    for option in valid_options_list:\n",
    "        # if the option was selected, we add to our current answer\n",
    "        if row[prefix + option] == 'quoted':\n",
    "            answer.append(option)\n",
    "    \n",
    "    # if answer is empty, we assume that 'None' was assigned - in terms of meaning 'I don't know'\n",
    "    if not answer:\n",
    "        answer = ['None']\n",
    "    valid_answers_list.append(answer)"
   ]
  },
  {
   "cell_type": "code",
   "execution_count": 5,
   "id": "d2acdf31",
   "metadata": {},
   "outputs": [],
   "source": [
    "bootstrapped_dict_data = bootstrapping(answers=valid_answers_list, all_options=valid_options_list,\n",
    "                                       replacements=1000, population_size=1000, question_type='multiple')"
   ]
  },
  {
   "cell_type": "code",
   "execution_count": 8,
   "id": "00be9e62",
   "metadata": {},
   "outputs": [
    {
     "name": "stdout",
     "output_type": "stream",
     "text": [
      "Mean: 14.8082| Lower: 14.774133620446252| Uper: 14.842266379553747\n"
     ]
    }
   ],
   "source": [
    "lower, X_mean, upper = confidence_interval(data_points=bootstrapped_dict_data['CRISP-DM'])\n",
    "print(\"Mean: \" + str(X_mean) + \"| Lower: \" + str(lower) + \"| Uper: \" + str(upper))"
   ]
  },
  {
   "cell_type": "code",
   "execution_count": 9,
   "id": "66133954",
   "metadata": {},
   "outputs": [],
   "source": [
    "# get a pair of values between dict key and all the list values inside that key \n",
    "# key: [val_1, val_2] ---> [(key, val_1), (key, val_2)...]\n",
    "indexes = []\n",
    "values = []\n",
    "for idx in bootstrapped_dict_data:\n",
    "    indexes += [idx for _ in range(len(bootstrapped_dict_data[idx]))]\n",
    "    values += bootstrapped_dict_data[idx]\n"
   ]
  },
  {
   "cell_type": "code",
   "execution_count": 10,
   "id": "aa69bb1c",
   "metadata": {},
   "outputs": [],
   "source": [
    "# build a dataframe from the population metrics\n",
    "bootstrapped_df = pd.DataFrame()\n",
    "bootstrapped_df['Framework'] = indexes\n",
    "bootstrapped_df['Value'] = values"
   ]
  },
  {
   "cell_type": "code",
   "execution_count": 11,
   "id": "555a5027",
   "metadata": {},
   "outputs": [
    {
     "data": {
      "text/plain": [
       "<seaborn.axisgrid.FacetGrid at 0x7f6e0b487c10>"
      ]
     },
     "execution_count": 11,
     "metadata": {},
     "output_type": "execute_result"
    },
    {
     "data": {
      "image/png": "[encoded data removed]",
      "text/plain": [
       "<Figure size 432x432 with 1 Axes>"
      ]
     },
     "metadata": {
      "needs_background": "light"
     },
     "output_type": "display_data"
    }
   ],
   "source": [
    "# draw bar plot graphics\n",
    "d10_plot = sns.catplot(data=bootstrapped_df.sort_values(by=['Value'], ascending = False), \n",
    "                      kind=\"bar\", x=\"Value\", y=\"Framework\", ci=\"sd\", \n",
    "                      palette=\"dark\", alpha=.6, height=6)\n",
    "d10_plot.despine(left=True)\n",
    "d10_plot.set_axis_labels(\"Percentage of Answers\", \"Framework\")"
   ]
  },
  {
   "cell_type": "code",
   "execution_count": null,
   "id": "d9f7d536",
   "metadata": {},
   "outputs": [],
   "source": []
  }
 ],
 "metadata": {
  "kernelspec": {
   "display_name": "Python 3 (ipykernel)",
   "language": "python",
   "name": "python3"
  },
  "language_info": {
   "codemirror_mode": {
    "name": "ipython",
    "version": 3
   },
   "file_extension": ".py",
   "mimetype": "text/x-python",
   "name": "python",
   "nbconvert_exporter": "python",
   "pygments_lexer": "ipython3",
   "version": "3.10.6"
  }
 },
 "nbformat": 4,
 "nbformat_minor": 5
}

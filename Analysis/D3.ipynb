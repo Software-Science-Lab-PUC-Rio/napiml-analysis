{
 "cells": [
  {
   "cell_type": "code",
   "execution_count": 1,
   "id": "01dfafec",
   "metadata": {},
   "outputs": [],
   "source": [
    "import pandas as pd\n",
    "from ipynb.fs.full.utils import get_df, rename_values,remove_value\n",
    "from ipynb.fs.full.plots import single_barplot"
   ]
  },
  {
   "cell_type": "code",
   "execution_count": 2,
   "id": "8845b158",
   "metadata": {},
   "outputs": [],
   "source": [
    "# get formatted and ready to use dataframe\n",
    "df = get_df()"
   ]
  },
  {
   "cell_type": "code",
   "execution_count": 3,
   "id": "bb538024",
   "metadata": {},
   "outputs": [
    {
     "data": {
      "text/plain": [
       "2         1,001-2,000 employees\n",
       "3     More than 2,000 employees\n",
       "4              51-250 employees\n",
       "5     More than 2,000 employees\n",
       "6           501-1,000 employees\n",
       "7         1,001-2,000 employees\n",
       "8                1-10 employees\n",
       "9     More than 2,000 employees\n",
       "10                            0\n",
       "11                            0\n",
       "Name: D3_Company_Size, dtype: object"
      ]
     },
     "execution_count": 3,
     "metadata": {},
     "output_type": "execute_result"
    }
   ],
   "source": [
    "df['D3_Company_Size'].head(10)"
   ]
  },
  {
   "cell_type": "code",
   "execution_count": 4,
   "id": "f48496ad",
   "metadata": {},
   "outputs": [],
   "source": [
    "# mapping of old labels to new one\n",
    "d3_rename_mapping = {\n",
    "    '1-10 employees': '1-10',\n",
    "    '11-50 employees': '11-50',\n",
    "    '51-250 employees': '51-250',\n",
    "    '251-500 employees': '251-500',\n",
    "    '501-1,000 employees': '501-1000',\n",
    "    '1,001-2,000 employees': '1001-2000',\n",
    "    'More than 2,000 employees': '+2000'\n",
    "}"
   ]
  },
  {
   "cell_type": "code",
   "execution_count": 5,
   "id": "870c39ff",
   "metadata": {},
   "outputs": [
    {
     "data": {
      "text/plain": [
       "Index(['More than 2,000 employees', '51-250 employees', '11-50 employees',\n",
       "       '1,001-2,000 employees', '0', '1-10 employees', '251-500 employees',\n",
       "       '501-1,000 employees'],\n",
       "      dtype='object')"
      ]
     },
     "execution_count": 5,
     "metadata": {},
     "output_type": "execute_result"
    }
   ],
   "source": [
    "df['D3_Company_Size'].value_counts().index"
   ]
  },
  {
   "cell_type": "code",
   "execution_count": 6,
   "id": "740365f7",
   "metadata": {},
   "outputs": [],
   "source": [
    "remove_value(df,'0','D3_Company_Size')\n",
    "# index of our barplot\n",
    "indexes = list(df['D3_Company_Size'].value_counts().index)\n",
    "# total answers of each index\n",
    "values = list(df['D3_Company_Size'].value_counts())\n",
    "# dataframe specific for question D3\n",
    "d3_df= pd.DataFrame(data={'Company Size': rename_values(d3_rename_mapping, indexes), 'Answers': values})"
   ]
  },
  {
   "cell_type": "code",
   "execution_count": 7,
   "id": "ca4a03ca",
   "metadata": {},
   "outputs": [
    {
     "data": {
      "text/plain": [
       "['More than 2,000 employees',\n",
       " '51-250 employees',\n",
       " '11-50 employees',\n",
       " '1,001-2,000 employees',\n",
       " '1-10 employees',\n",
       " '251-500 employees',\n",
       " '501-1,000 employees']"
      ]
     },
     "execution_count": 7,
     "metadata": {},
     "output_type": "execute_result"
    }
   ],
   "source": [
    "indexes = list(df['D3_Company_Size'].value_counts().index)\n",
    "indexes"
   ]
  },
  {
   "cell_type": "code",
   "execution_count": 8,
   "id": "b2c043dd",
   "metadata": {},
   "outputs": [
    {
     "data": {
      "text/plain": [
       "[112, 42, 28, 23, 21, 20, 7]"
      ]
     },
     "execution_count": 8,
     "metadata": {},
     "output_type": "execute_result"
    }
   ],
   "source": [
    "values = list(df['D3_Company_Size'].value_counts())\n",
    "values"
   ]
  },
  {
   "cell_type": "code",
   "execution_count": 9,
   "id": "6b3f4acc",
   "metadata": {
    "scrolled": true
   },
   "outputs": [
    {
     "data": {
      "text/html": [
       "<div>\n",
       "<style scoped>\n",
       "    .dataframe tbody tr th:only-of-type {\n",
       "        vertical-align: middle;\n",
       "    }\n",
       "\n",
       "    .dataframe tbody tr th {\n",
       "        vertical-align: top;\n",
       "    }\n",
       "\n",
       "    .dataframe thead th {\n",
       "        text-align: right;\n",
       "    }\n",
       "</style>\n",
       "<table border=\"1\" class=\"dataframe\">\n",
       "  <thead>\n",
       "    <tr style=\"text-align: right;\">\n",
       "      <th></th>\n",
       "      <th>Company Size</th>\n",
       "      <th>Answers</th>\n",
       "    </tr>\n",
       "  </thead>\n",
       "  <tbody>\n",
       "    <tr>\n",
       "      <th>0</th>\n",
       "      <td>+2000</td>\n",
       "      <td>112</td>\n",
       "    </tr>\n",
       "    <tr>\n",
       "      <th>1</th>\n",
       "      <td>51-250</td>\n",
       "      <td>42</td>\n",
       "    </tr>\n",
       "    <tr>\n",
       "      <th>2</th>\n",
       "      <td>11-50</td>\n",
       "      <td>28</td>\n",
       "    </tr>\n",
       "    <tr>\n",
       "      <th>3</th>\n",
       "      <td>1001-2000</td>\n",
       "      <td>23</td>\n",
       "    </tr>\n",
       "    <tr>\n",
       "      <th>4</th>\n",
       "      <td>1-10</td>\n",
       "      <td>21</td>\n",
       "    </tr>\n",
       "    <tr>\n",
       "      <th>5</th>\n",
       "      <td>251-500</td>\n",
       "      <td>20</td>\n",
       "    </tr>\n",
       "    <tr>\n",
       "      <th>6</th>\n",
       "      <td>501-1000</td>\n",
       "      <td>7</td>\n",
       "    </tr>\n",
       "  </tbody>\n",
       "</table>\n",
       "</div>"
      ],
      "text/plain": [
       "  Company Size  Answers\n",
       "0        +2000      112\n",
       "1       51-250       42\n",
       "2        11-50       28\n",
       "3    1001-2000       23\n",
       "4         1-10       21\n",
       "5      251-500       20\n",
       "6     501-1000        7"
      ]
     },
     "execution_count": 9,
     "metadata": {},
     "output_type": "execute_result"
    }
   ],
   "source": [
    "d3_df"
   ]
  },
  {
   "cell_type": "code",
   "execution_count": 10,
   "id": "a23331f9",
   "metadata": {},
   "outputs": [
    {
     "data": {
      "image/png": "[encoded data removed]",
      "text/plain": [
       "<Figure size 720x360 with 1 Axes>"
      ]
     },
     "metadata": {
      "needs_background": "light"
     },
     "output_type": "display_data"
    }
   ],
   "source": [
    "single_barplot(d3_df, \"Company Size\", \"Answers\", title=\"What is the size of the organization you currently work for?\",\n",
    "               x_label=\"Employees\", y_label=\"Valid Answers\", x_label_rotation=0)"
   ]
  },
  {
   "cell_type": "code",
   "execution_count": null,
   "id": "667d4493",
   "metadata": {},
   "outputs": [],
   "source": []
  }
 ],
 "metadata": {
  "kernelspec": {
   "display_name": "Python 3 (ipykernel)",
   "language": "python",
   "name": "python3"
  },
  "language_info": {
   "codemirror_mode": {
    "name": "ipython",
    "version": 3
   },
   "file_extension": ".py",
   "mimetype": "text/x-python",
   "name": "python",
   "nbconvert_exporter": "python",
   "pygments_lexer": "ipython3",
   "version": "3.10.6"
  }
 },
 "nbformat": 4,
 "nbformat_minor": 5
}

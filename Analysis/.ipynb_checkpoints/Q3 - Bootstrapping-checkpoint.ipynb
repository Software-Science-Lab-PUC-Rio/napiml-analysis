{
 "cells": [
  {
   "cell_type": "code",
   "execution_count": 4,
   "id": "01dfafec",
   "metadata": {},
   "outputs": [],
   "source": [
    "import pandas as pd\n",
    "import numpy as np\n",
    "import random\n",
    "import math\n",
    "import seaborn as sns\n",
    "import matplotlib.pyplot as plt\n",
    "from ipynb.fs.full.utils import get_df, rename_values,remove_value, replace_values_by_condition\n",
    "from ipynb.fs.full.plots import single_boxplot, single_histplot, single_violinplot\n",
    "from ipynb.fs.full.bootstrapping_utils import bootstrapping_numerical_fields, confidence_interval\n",
    "from statistics import mean, pstdev"
   ]
  },
  {
   "cell_type": "code",
   "execution_count": 5,
   "id": "8845b158",
   "metadata": {},
   "outputs": [],
   "source": [
    "# get formatted and ready to use dataframe\n",
    "df = get_df()"
   ]
  },
  {
   "cell_type": "code",
   "execution_count": 6,
   "id": "9dfeb997",
   "metadata": {},
   "outputs": [],
   "source": [
    "# two unexpected values appear = -66\n",
    "# replace them to \"-66\" value\n",
    "df = replace_values_by_condition(df, 'Q3_ML_Life_Cycle_Effort_Problem_Understanding', \"-66\", '0', \"eq\")\n",
    "df = replace_values_by_condition(df, 'Q3_ML_Life_Cycle_Effort_Data_Collection', \"-66\", '0', \"eq\")\n",
    "df = replace_values_by_condition(df, 'Q3_ML_Life_Cycle_Effort_Data_Pre-Processing', \"-66\", '0', \"eq\")\n",
    "df = replace_values_by_condition(df, 'Q3_ML_Life_Cycle_Effort_Model_Creation', \"-66\", '0', \"eq\")\n",
    "df = replace_values_by_condition(df, 'Q3_ML_Life_Cycle_Effort_Model_Evaluation', \"-66\", '0', \"eq\")\n",
    "df = replace_values_by_condition(df, 'Q3_ML_Life_Cycle_Effort_Model_Deployment', \"-66\", '0', \"eq\")\n",
    "df = replace_values_by_condition(df, 'Q3_ML_Life_Cycle_Effort_Model_Monitoring', \"-66\", '0', \"eq\")"
   ]
  },
  {
   "cell_type": "code",
   "execution_count": 7,
   "id": "d3c86054",
   "metadata": {},
   "outputs": [
    {
     "data": {
      "text/html": [
       "<div>\n",
       "<style scoped>\n",
       "    .dataframe tbody tr th:only-of-type {\n",
       "        vertical-align: middle;\n",
       "    }\n",
       "\n",
       "    .dataframe tbody tr th {\n",
       "        vertical-align: top;\n",
       "    }\n",
       "\n",
       "    .dataframe thead th {\n",
       "        text-align: right;\n",
       "    }\n",
       "</style>\n",
       "<table border=\"1\" class=\"dataframe\">\n",
       "  <thead>\n",
       "    <tr style=\"text-align: right;\">\n",
       "      <th></th>\n",
       "      <th>Q3_ML_Life_Cycle_Effort_Problem_Understanding</th>\n",
       "      <th>Q3_ML_Life_Cycle_Effort_Data_Collection</th>\n",
       "      <th>Q3_ML_Life_Cycle_Effort_Data_Pre-Processing</th>\n",
       "      <th>Q3_ML_Life_Cycle_Effort_Model_Creation</th>\n",
       "      <th>Q3_ML_Life_Cycle_Effort_Model_Evaluation</th>\n",
       "      <th>Q3_ML_Life_Cycle_Effort_Model_Deployment</th>\n",
       "      <th>Q3_ML_Life_Cycle_Effort_Model_Monitoring</th>\n",
       "    </tr>\n",
       "  </thead>\n",
       "  <tbody>\n",
       "    <tr>\n",
       "      <th>2</th>\n",
       "      <td>5</td>\n",
       "      <td>20</td>\n",
       "      <td>30</td>\n",
       "      <td>25</td>\n",
       "      <td>12</td>\n",
       "      <td>5</td>\n",
       "      <td>3</td>\n",
       "    </tr>\n",
       "    <tr>\n",
       "      <th>3</th>\n",
       "      <td>30</td>\n",
       "      <td>12</td>\n",
       "      <td>12</td>\n",
       "      <td>12</td>\n",
       "      <td>12</td>\n",
       "      <td>12</td>\n",
       "      <td>10</td>\n",
       "    </tr>\n",
       "    <tr>\n",
       "      <th>4</th>\n",
       "      <td>20</td>\n",
       "      <td>10</td>\n",
       "      <td>15</td>\n",
       "      <td>20</td>\n",
       "      <td>5</td>\n",
       "      <td>15</td>\n",
       "      <td>15</td>\n",
       "    </tr>\n",
       "    <tr>\n",
       "      <th>5</th>\n",
       "      <td>30</td>\n",
       "      <td>10</td>\n",
       "      <td>10</td>\n",
       "      <td>25</td>\n",
       "      <td>10</td>\n",
       "      <td>15</td>\n",
       "      <td>0</td>\n",
       "    </tr>\n",
       "    <tr>\n",
       "      <th>6</th>\n",
       "      <td>15</td>\n",
       "      <td>10</td>\n",
       "      <td>10</td>\n",
       "      <td>15</td>\n",
       "      <td>15</td>\n",
       "      <td>25</td>\n",
       "      <td>10</td>\n",
       "    </tr>\n",
       "  </tbody>\n",
       "</table>\n",
       "</div>"
      ],
      "text/plain": [
       "  Q3_ML_Life_Cycle_Effort_Problem_Understanding  \\\n",
       "2                                             5   \n",
       "3                                            30   \n",
       "4                                            20   \n",
       "5                                            30   \n",
       "6                                            15   \n",
       "\n",
       "  Q3_ML_Life_Cycle_Effort_Data_Collection  \\\n",
       "2                                      20   \n",
       "3                                      12   \n",
       "4                                      10   \n",
       "5                                      10   \n",
       "6                                      10   \n",
       "\n",
       "  Q3_ML_Life_Cycle_Effort_Data_Pre-Processing  \\\n",
       "2                                          30   \n",
       "3                                          12   \n",
       "4                                          15   \n",
       "5                                          10   \n",
       "6                                          10   \n",
       "\n",
       "  Q3_ML_Life_Cycle_Effort_Model_Creation  \\\n",
       "2                                     25   \n",
       "3                                     12   \n",
       "4                                     20   \n",
       "5                                     25   \n",
       "6                                     15   \n",
       "\n",
       "  Q3_ML_Life_Cycle_Effort_Model_Evaluation  \\\n",
       "2                                       12   \n",
       "3                                       12   \n",
       "4                                        5   \n",
       "5                                       10   \n",
       "6                                       15   \n",
       "\n",
       "  Q3_ML_Life_Cycle_Effort_Model_Deployment  \\\n",
       "2                                        5   \n",
       "3                                       12   \n",
       "4                                       15   \n",
       "5                                       15   \n",
       "6                                       25   \n",
       "\n",
       "  Q3_ML_Life_Cycle_Effort_Model_Monitoring  \n",
       "2                                        3  \n",
       "3                                       10  \n",
       "4                                       15  \n",
       "5                                        0  \n",
       "6                                       10  "
      ]
     },
     "execution_count": 7,
     "metadata": {},
     "output_type": "execute_result"
    }
   ],
   "source": [
    "columns = ['Q3_ML_Life_Cycle_Effort_Problem_Understanding', 'Q3_ML_Life_Cycle_Effort_Data_Collection',\n",
    "'Q3_ML_Life_Cycle_Effort_Data_Pre-Processing', 'Q3_ML_Life_Cycle_Effort_Model_Creation', \n",
    "'Q3_ML_Life_Cycle_Effort_Model_Evaluation', 'Q3_ML_Life_Cycle_Effort_Model_Deployment',\n",
    "'Q3_ML_Life_Cycle_Effort_Model_Monitoring']\n",
    "df[columns].head()"
   ]
  },
  {
   "cell_type": "code",
   "execution_count": 8,
   "id": "ede97333",
   "metadata": {},
   "outputs": [],
   "source": [
    "# convert column to integer - if you read before this line, you will get an string like '14'\n",
    "df = df.astype({\"Q3_ML_Life_Cycle_Effort_Problem_Understanding\": int}, errors='raise')\n",
    "df = df.astype({\"Q3_ML_Life_Cycle_Effort_Data_Collection\": int}, errors='raise')\n",
    "df = df.astype({\"Q3_ML_Life_Cycle_Effort_Data_Pre-Processing\": int}, errors='raise')\n",
    "df = df.astype({\"Q3_ML_Life_Cycle_Effort_Model_Creation\": int}, errors='raise')\n",
    "df = df.astype({\"Q3_ML_Life_Cycle_Effort_Model_Evaluation\": int}, errors='raise')\n",
    "df = df.astype({\"Q3_ML_Life_Cycle_Effort_Model_Deployment\": int}, errors='raise')\n",
    "df = df.astype({\"Q3_ML_Life_Cycle_Effort_Model_Monitoring\": int}, errors='raise')"
   ]
  },
  {
   "cell_type": "code",
   "execution_count": 9,
   "id": "c36a8785",
   "metadata": {
    "scrolled": true
   },
   "outputs": [
    {
     "name": "stdout",
     "output_type": "stream",
     "text": [
      "Q3_ML_Life_Cycle_Effort_Problem_Understanding | Mean: 12.538| Lower: 12.141467956162431| Uper: 12.934532043837569\n",
      "Q3_ML_Life_Cycle_Effort_Data_Collection | Mean: 11.96| Lower: 11.63006074650021| Uper: 12.289939253499792\n",
      "Q3_ML_Life_Cycle_Effort_Data_Pre-Processing | Mean: 12.99| Lower: 12.600998605722292| Uper: 13.379001394277708\n",
      "Q3_ML_Life_Cycle_Effort_Model_Creation | Mean: 11.091| Lower: 10.786797125428604| Uper: 11.395202874571394\n",
      "Q3_ML_Life_Cycle_Effort_Model_Evaluation | Mean: 7.472| Lower: 7.253303446666392| Uper: 7.690696553333609\n",
      "Q3_ML_Life_Cycle_Effort_Model_Deployment | Mean: 6.506| Lower: 6.305223924458117| Uper: 6.7067760755418835\n",
      "Q3_ML_Life_Cycle_Effort_Model_Monitoring | Mean: 4.733| Lower: 4.5839386395557185| Uper: 4.882061360444281\n"
     ]
    }
   ],
   "source": [
    "bootstrapped_dfs = {}\n",
    "for column in columns:\n",
    "    valid_answers_list = list(df[column])\n",
    "    bootstrapped_list_data = bootstrapping_numerical_fields(answers=valid_answers_list, population_size=1000)\n",
    "    lower, X_mean, upper = confidence_interval(data_points=bootstrapped_list_data)\n",
    "    print(column + \" | Mean: \" + str(X_mean) + \"| Lower: \" + str(lower) + \"| Uper: \" + str(upper))\n",
    "    \n",
    "    # d5 dataframe with only one column - plots purpose\n",
    "    q3_df = pd.DataFrame()\n",
    "    q3_df['Effort'] = bootstrapped_list_data\n",
    "    \n",
    "    bootstrapped_dfs[column] = q3_df"
   ]
  },
  {
   "cell_type": "code",
   "execution_count": null,
   "id": "066648e9",
   "metadata": {},
   "outputs": [],
   "source": [
    "# 'Q3_ML_Life_Cycle_Effort_Data_Collection',\n",
    "# 'Q3_ML_Life_Cycle_Effort_Data_Pre-Processing', 'Q3_ML_Life_Cycle_Effort_Model_Creation', \n",
    "# 'Q3_ML_Life_Cycle_Effort_Model_Evaluation', 'Q3_ML_Life_Cycle_Effort_Model_Deployment',\n",
    "# 'Q3_ML_Life_Cycle_Effort_Model_Monitoring'"
   ]
  },
  {
   "cell_type": "code",
   "execution_count": 12,
   "id": "d9f7d536",
   "metadata": {},
   "outputs": [
    {
     "data": {
      "image/png": "[encoded data removed]",
      "text/plain": [
       "<Figure size 432x288 with 1 Axes>"
      ]
     },
     "metadata": {
      "needs_background": "light"
     },
     "output_type": "display_data"
    }
   ],
   "source": [
    "single_boxplot(bootstrapped_dfs['Q3_ML_Life_Cycle_Effort_Problem_Understanding'], \"Effort\",\n",
    "               title=\"How much percentage of effort do you think is spent in each of the seven ML life cycle stages?\")"
   ]
  },
  {
   "cell_type": "code",
   "execution_count": 13,
   "id": "48b7d6fe",
   "metadata": {},
   "outputs": [
    {
     "data": {
      "image/png": "[encoded data removed]",
      "text/plain": [
       "<Figure size 432x288 with 1 Axes>"
      ]
     },
     "metadata": {
      "needs_background": "light"
     },
     "output_type": "display_data"
    }
   ],
   "source": [
    "single_boxplot(bootstrapped_dfs['Q3_ML_Life_Cycle_Effort_Problem_Understanding'], \"Effort\", outliers=False,\n",
    "               title=\"How much percentage of effort do you think is spent in each of the seven ML life cycle stages?\")"
   ]
  },
  {
   "cell_type": "code",
   "execution_count": 14,
   "id": "a5da2f63",
   "metadata": {},
   "outputs": [
    {
     "data": {
      "image/png": "[encoded data removed]",
      "text/plain": [
       "<Figure size 432x288 with 1 Axes>"
      ]
     },
     "metadata": {
      "needs_background": "light"
     },
     "output_type": "display_data"
    }
   ],
   "source": [
    "single_violinplot(bootstrapped_dfs['Q3_ML_Life_Cycle_Effort_Problem_Understanding'], \"Effort\",\n",
    "                  title=\"How much percentage of effort do you think is spent in each of the seven ML life cycle stages?\")"
   ]
  },
  {
   "cell_type": "code",
   "execution_count": 15,
   "id": "fc149032",
   "metadata": {},
   "outputs": [
    {
     "data": {
      "image/png": "[encoded data removed]",
      "text/plain": [
       "<Figure size 432x288 with 1 Axes>"
      ]
     },
     "metadata": {
      "needs_background": "light"
     },
     "output_type": "display_data"
    }
   ],
   "source": [
    "single_histplot(bootstrapped_dfs['Q3_ML_Life_Cycle_Effort_Problem_Understanding'], \"Effort\",\n",
    "                title=\"How much percentage of effort do you think is spent in each of the seven ML life cycle stages?\")"
   ]
  },
  {
   "cell_type": "code",
   "execution_count": null,
   "id": "aaaf94f7",
   "metadata": {},
   "outputs": [],
   "source": []
  }
 ],
 "metadata": {
  "kernelspec": {
   "display_name": "Python 3 (ipykernel)",
   "language": "python",
   "name": "python3"
  },
  "language_info": {
   "codemirror_mode": {
    "name": "ipython",
    "version": 3
   },
   "file_extension": ".py",
   "mimetype": "text/x-python",
   "name": "python",
   "nbconvert_exporter": "python",
   "pygments_lexer": "ipython3",
   "version": "3.10.6"
  }
 },
 "nbformat": 4,
 "nbformat_minor": 5
}

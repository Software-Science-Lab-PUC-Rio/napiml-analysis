{
 "cells": [
  {
   "cell_type": "code",
   "execution_count": 1,
   "id": "2bb137dc",
   "metadata": {},
   "outputs": [],
   "source": [
    "# importing important libs\n",
    "import seaborn as sns\n",
    "import matplotlib.pyplot as plt\n",
    "from wordcloud import WordCloud\n",
    "import plot_likert\n",
    "\n",
    "# set a grid for all seaborn plots\n",
    "sns.set_theme(style=\"whitegrid\")"
   ]
  },
  {
   "cell_type": "code",
   "execution_count": 2,
   "id": "88e158cb",
   "metadata": {},
   "outputs": [],
   "source": [
    "def single_barplot(df, x_axis, y_axis, title='', x_label='', y_label='', x_label_rotation=0, color='', total_answers='', bar_orientation='horizontal'):\n",
    "    sns.set(rc={'figure.figsize':(13.7,13.27)})\n",
    "    #draw a barplot with single bars\n",
    "    # use unique color\n",
    "    if color:\n",
    "        barplot = sns.catplot(data=df, kind=\"bar\", x=x_axis, y=y_axis, color=color, alpha=.5, linewidth=5,\n",
    "                              height=5, aspect=10/5).set(title=title)\n",
    "    \n",
    "    # use a random list of colors\n",
    "    else:\n",
    "        barplot = sns.catplot(data=df, kind=\"bar\", x=x_axis, y=y_axis, ci=\"sd\", palette=\"dark\", alpha=.5, linewidth=5,\n",
    "                              height=5, aspect=10/5).set(title=title)\n",
    "    \n",
    "    barplot.set_xticklabels(rotation=x_label_rotation)\n",
    "    barplot.despine(left=True)\n",
    "    barplot.set_axis_labels(x_label, y_label)\n",
    "    x_axis = barplot.ax.get_xlim()\n",
    "    y_axis = barplot.ax.get_ylim()\n",
    "    if bar_orientation == 'horizontal':\n",
    "        barplot.ax.text((x_axis[1] - x_axis[1] * 0.2), (y_axis[0] - y_axis[0] * 0.1), total_answers)\n",
    "    elif bar_orientation == 'vertical':\n",
    "        barplot.ax.text((x_axis[1] - x_axis[1] * 0.2), (y_axis[1] - y_axis[1] * 0.1), total_answers)"
   ]
  },
  {
   "cell_type": "code",
   "execution_count": 3,
   "id": "dc378b37",
   "metadata": {},
   "outputs": [],
   "source": [
    "def pie_chart(values, labels, title=\"\", total_answers=''):\n",
    "    #'values' contains percentages of pie - sum must not exceed 100\n",
    "    # 'values' and 'labels' must have same length\n",
    "\n",
    "    #define Seaborn color palette to use\n",
    "    colors = sns.color_palette('pastel')[0:len(values)]\n",
    "\n",
    "    #create pie chart with matplotlib but use seaborn default color pallete\n",
    "    plt.pie(values, labels=labels, colors=colors, autopct='%.0f%%')\n",
    "    plt.title(title)\n",
    "    \n",
    "    x_axis_min, x_axis_max, y_axis_min, y_axis_max = plt.axis()\n",
    "    plt.text((x_axis_max), (y_axis_min + y_axis_min * 0.05), total_answers)\n",
    "        \n",
    "    plt.show()"
   ]
  },
  {
   "cell_type": "code",
   "execution_count": 1,
   "id": "4d1b3d3f",
   "metadata": {},
   "outputs": [],
   "source": [
    "def single_boxplot(df, y_axis, outliers=True, title='', total_answers=''):\n",
    "    #draw a single boxplot - only y axis\n",
    "    boxplot = sns.boxplot(y=y_axis, data=df, showfliers=outliers)\n",
    "    sns.despine(offset=10, trim=True)\n",
    "    \n",
    "    # plot the median value - https://stackoverflow.com/a/38649932\n",
    "    median_df_column = df[y_axis].median()\n",
    "    medians = [median_df_column]\n",
    "    vertical_offset = median_df_column * 0.03 # offset from median for display\n",
    "    \n",
    "    for xtick in boxplot.get_xticks():\n",
    "        boxplot.text(xtick, medians[xtick] + vertical_offset, medians[xtick], horizontalalignment='center',\n",
    "                      size='x-small', color='w', weight='semibold')\n",
    "    \n",
    "    boxplot.set(title=title)\n",
    "    \n",
    "    x_axis = boxplot.get_xlim()\n",
    "    y_axis = boxplot.get_ylim()\n",
    "    \n",
    "    boxplot.text((x_axis[1] - x_axis[1] * 0.25), (y_axis[1] - y_axis[1] * 0.1), total_answers)"
   ]
  },
  {
   "cell_type": "code",
   "execution_count": 5,
   "id": "969fe487",
   "metadata": {},
   "outputs": [],
   "source": [
    "def multi_boxplot(df,x_axis, y_axis, outliers=True, title=''):\n",
    "    #draw a single boxplot - only y axis\n",
    "    boxplot = sns.boxplot(x=x_axis, y=y_axis, data=df, showfliers=outliers)\n",
    "    sns.despine(offset=10, trim=True)\n",
    "    \n",
    "    # plot the median value - https://stackoverflow.com/a/38649932\n",
    "    medians = df.groupby([x_axis])[y_axis].median()\n",
    "    vertical_offset = df[y_axis].median() * 0.03 # offset from median for display\n",
    "    \n",
    "    for xtick in boxplot.get_xticks():\n",
    "        boxplot.text(xtick, medians[xtick] + vertical_offset, medians[xtick], horizontalalignment='center',\n",
    "                      size='x-small', color='w', weight='semibold')\n",
    "\n",
    "    boxplot.set(title=title)"
   ]
  },
  {
   "cell_type": "code",
   "execution_count": 6,
   "id": "aa855ed3",
   "metadata": {},
   "outputs": [],
   "source": [
    "def single_violinplot(df, y_axis, title=''):\n",
    "    # draw a single violinplot - only y axis\n",
    "    # also show a line indicating quartiles\n",
    "    sns.violinplot(data=df, y=y_axis, inner=\"quartile\", linewidth=1).set(title=title)\n",
    "    sns.despine(left=True)"
   ]
  },
  {
   "cell_type": "code",
   "execution_count": 7,
   "id": "70635977",
   "metadata": {},
   "outputs": [],
   "source": [
    "def single_histplot(df, x_axis, title=''):\n",
    "    # draw a histplot about one variable - only x axis\n",
    "    sns.histplot(data=df, x=x_axis, kde=True).set(title=title)"
   ]
  },
  {
   "cell_type": "code",
   "execution_count": 8,
   "id": "4bb786d8",
   "metadata": {},
   "outputs": [],
   "source": [
    "def heatmap(df, x_axis, y_axis, xy_match, order=[], title='', fmt=''):\n",
    "    # x_axis is the column which will become row\n",
    "    # y_axis is the column which will keep being column\n",
    "    # xy_match is the column that associates x to y\n",
    "    # print(df.head())\n",
    "    pivot_df = df.pivot(x_axis, y_axis, xy_match)\n",
    "    \n",
    "    # reorder pivot according to the positions passed\n",
    "    if len(order):\n",
    "        pivot_df = pivot_df.iloc[:, order]\n",
    "        \n",
    "    # print(pivot_df.head())\n",
    "    sns.heatmap(pivot_df, annot=True, fmt=fmt, linewidths=.5).set(title=title)"
   ]
  },
  {
   "cell_type": "code",
   "execution_count": 9,
   "id": "ac256cf3",
   "metadata": {},
   "outputs": [],
   "source": [
    "def wordcloud(text_dict):\n",
    "    # text_dict needs to be something like {'oi': 5, 'tudo': 3, 'salve': 100}\n",
    "\n",
    "    # create wordcloud object\n",
    "    wc = WordCloud(max_words=1000)\n",
    "    # generate wordcloud\n",
    "    wc.generate_from_frequencies(text_dict)\n",
    "    \n",
    "    # create the plot basis\n",
    "    plt.imshow(wc, interpolation='bilinear')\n",
    "    plt.axis(\"off\")"
   ]
  },
  {
   "cell_type": "code",
   "execution_count": 10,
   "id": "80a14ef5",
   "metadata": {},
   "outputs": [],
   "source": [
    "def likert(data, labels, use_percentage=True, bar_label=True):\n",
    "    # use same seaborn pallete color\n",
    "    colors = list(sns.color_palette())[:len(labels)]\n",
    "    # labels must be an array of size 5 (max)\n",
    "    plot_likert.plot_likert(data, labels, plot_percentage=use_percentage, bar_labels=bar_label)"
   ]
  }
 ],
 "metadata": {
  "kernelspec": {
   "display_name": "Python 3 (ipykernel)",
   "language": "python",
   "name": "python3"
  },
  "language_info": {
   "codemirror_mode": {
    "name": "ipython",
    "version": 3
   },
   "file_extension": ".py",
   "mimetype": "text/x-python",
   "name": "python",
   "nbconvert_exporter": "python",
   "pygments_lexer": "ipython3",
   "version": "3.10.6"
  }
 },
 "nbformat": 4,
 "nbformat_minor": 5
}

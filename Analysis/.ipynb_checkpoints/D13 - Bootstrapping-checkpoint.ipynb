{
 "cells": [
  {
   "cell_type": "code",
   "execution_count": 1,
   "id": "01dfafec",
   "metadata": {},
   "outputs": [],
   "source": [
    "import pandas as pd\n",
    "import numpy as np\n",
    "import random\n",
    "import math\n",
    "import seaborn as sns\n",
    "import matplotlib.pyplot as plt\n",
    "from ipynb.fs.full.utils import get_df, rename_values,remove_value, replace_list_values_by_condition\n",
    "from ipynb.fs.full.plots import single_barplot\n",
    "from ipynb.fs.full.bootstrapping_utils import bootstrapping, confidence_interval\n",
    "from statistics import mean, pstdev"
   ]
  },
  {
   "cell_type": "code",
   "execution_count": 2,
   "id": "8845b158",
   "metadata": {
    "scrolled": false
   },
   "outputs": [
    {
     "data": {
      "text/html": [
       "<div>\n",
       "<style scoped>\n",
       "    .dataframe tbody tr th:only-of-type {\n",
       "        vertical-align: middle;\n",
       "    }\n",
       "\n",
       "    .dataframe tbody tr th {\n",
       "        vertical-align: top;\n",
       "    }\n",
       "\n",
       "    .dataframe thead th {\n",
       "        text-align: right;\n",
       "    }\n",
       "</style>\n",
       "<table border=\"1\" class=\"dataframe\">\n",
       "  <thead>\n",
       "    <tr style=\"text-align: right;\">\n",
       "      <th></th>\n",
       "      <th>D13_ML_Programming_Language_C</th>\n",
       "      <th>D13_ML_Programming_Language_Java</th>\n",
       "      <th>D13_ML_Programming_Language_Javascript</th>\n",
       "      <th>D13_ML_Programming_Language_Julia</th>\n",
       "      <th>D13_ML_Programming_Language_MatLab</th>\n",
       "      <th>D13_ML_Programming_Language_Python</th>\n",
       "      <th>D13_ML_Programming_Language_R</th>\n",
       "      <th>D13_ML_Programming_Language_Others</th>\n",
       "      <th>D13_ML_Programming_Language_Others_Free</th>\n",
       "    </tr>\n",
       "  </thead>\n",
       "  <tbody>\n",
       "    <tr>\n",
       "      <th>2</th>\n",
       "      <td>not quoted</td>\n",
       "      <td>not quoted</td>\n",
       "      <td>not quoted</td>\n",
       "      <td>not quoted</td>\n",
       "      <td>not quoted</td>\n",
       "      <td>not quoted</td>\n",
       "      <td>quoted</td>\n",
       "      <td>not quoted</td>\n",
       "      <td>-99</td>\n",
       "    </tr>\n",
       "    <tr>\n",
       "      <th>3</th>\n",
       "      <td>not quoted</td>\n",
       "      <td>not quoted</td>\n",
       "      <td>not quoted</td>\n",
       "      <td>not quoted</td>\n",
       "      <td>not quoted</td>\n",
       "      <td>quoted</td>\n",
       "      <td>not quoted</td>\n",
       "      <td>not quoted</td>\n",
       "      <td>-99</td>\n",
       "    </tr>\n",
       "    <tr>\n",
       "      <th>4</th>\n",
       "      <td>quoted</td>\n",
       "      <td>not quoted</td>\n",
       "      <td>not quoted</td>\n",
       "      <td>not quoted</td>\n",
       "      <td>not quoted</td>\n",
       "      <td>quoted</td>\n",
       "      <td>quoted</td>\n",
       "      <td>not quoted</td>\n",
       "      <td>-99</td>\n",
       "    </tr>\n",
       "    <tr>\n",
       "      <th>5</th>\n",
       "      <td>not quoted</td>\n",
       "      <td>not quoted</td>\n",
       "      <td>not quoted</td>\n",
       "      <td>not quoted</td>\n",
       "      <td>not quoted</td>\n",
       "      <td>quoted</td>\n",
       "      <td>not quoted</td>\n",
       "      <td>not quoted</td>\n",
       "      <td>-99</td>\n",
       "    </tr>\n",
       "    <tr>\n",
       "      <th>6</th>\n",
       "      <td>not quoted</td>\n",
       "      <td>quoted</td>\n",
       "      <td>not quoted</td>\n",
       "      <td>not quoted</td>\n",
       "      <td>not quoted</td>\n",
       "      <td>quoted</td>\n",
       "      <td>quoted</td>\n",
       "      <td>not quoted</td>\n",
       "      <td>-99</td>\n",
       "    </tr>\n",
       "    <tr>\n",
       "      <th>7</th>\n",
       "      <td>not quoted</td>\n",
       "      <td>quoted</td>\n",
       "      <td>not quoted</td>\n",
       "      <td>not quoted</td>\n",
       "      <td>not quoted</td>\n",
       "      <td>quoted</td>\n",
       "      <td>not quoted</td>\n",
       "      <td>not quoted</td>\n",
       "      <td>-99</td>\n",
       "    </tr>\n",
       "    <tr>\n",
       "      <th>8</th>\n",
       "      <td>not quoted</td>\n",
       "      <td>not quoted</td>\n",
       "      <td>not quoted</td>\n",
       "      <td>not quoted</td>\n",
       "      <td>not quoted</td>\n",
       "      <td>quoted</td>\n",
       "      <td>not quoted</td>\n",
       "      <td>quoted</td>\n",
       "      <td>C#</td>\n",
       "    </tr>\n",
       "    <tr>\n",
       "      <th>9</th>\n",
       "      <td>quoted</td>\n",
       "      <td>not quoted</td>\n",
       "      <td>quoted</td>\n",
       "      <td>not quoted</td>\n",
       "      <td>not quoted</td>\n",
       "      <td>quoted</td>\n",
       "      <td>quoted</td>\n",
       "      <td>not quoted</td>\n",
       "      <td>-99</td>\n",
       "    </tr>\n",
       "    <tr>\n",
       "      <th>10</th>\n",
       "      <td>not quoted</td>\n",
       "      <td>not quoted</td>\n",
       "      <td>not quoted</td>\n",
       "      <td>not quoted</td>\n",
       "      <td>not quoted</td>\n",
       "      <td>not quoted</td>\n",
       "      <td>not quoted</td>\n",
       "      <td>not quoted</td>\n",
       "      <td>-99</td>\n",
       "    </tr>\n",
       "    <tr>\n",
       "      <th>11</th>\n",
       "      <td>not quoted</td>\n",
       "      <td>not quoted</td>\n",
       "      <td>not quoted</td>\n",
       "      <td>not quoted</td>\n",
       "      <td>not quoted</td>\n",
       "      <td>not quoted</td>\n",
       "      <td>not quoted</td>\n",
       "      <td>not quoted</td>\n",
       "      <td>-99</td>\n",
       "    </tr>\n",
       "  </tbody>\n",
       "</table>\n",
       "</div>"
      ],
      "text/plain": [
       "   D13_ML_Programming_Language_C D13_ML_Programming_Language_Java  \\\n",
       "2                     not quoted                       not quoted   \n",
       "3                     not quoted                       not quoted   \n",
       "4                         quoted                       not quoted   \n",
       "5                     not quoted                       not quoted   \n",
       "6                     not quoted                           quoted   \n",
       "7                     not quoted                           quoted   \n",
       "8                     not quoted                       not quoted   \n",
       "9                         quoted                       not quoted   \n",
       "10                    not quoted                       not quoted   \n",
       "11                    not quoted                       not quoted   \n",
       "\n",
       "   D13_ML_Programming_Language_Javascript D13_ML_Programming_Language_Julia  \\\n",
       "2                              not quoted                        not quoted   \n",
       "3                              not quoted                        not quoted   \n",
       "4                              not quoted                        not quoted   \n",
       "5                              not quoted                        not quoted   \n",
       "6                              not quoted                        not quoted   \n",
       "7                              not quoted                        not quoted   \n",
       "8                              not quoted                        not quoted   \n",
       "9                                  quoted                        not quoted   \n",
       "10                             not quoted                        not quoted   \n",
       "11                             not quoted                        not quoted   \n",
       "\n",
       "   D13_ML_Programming_Language_MatLab D13_ML_Programming_Language_Python  \\\n",
       "2                          not quoted                         not quoted   \n",
       "3                          not quoted                             quoted   \n",
       "4                          not quoted                             quoted   \n",
       "5                          not quoted                             quoted   \n",
       "6                          not quoted                             quoted   \n",
       "7                          not quoted                             quoted   \n",
       "8                          not quoted                             quoted   \n",
       "9                          not quoted                             quoted   \n",
       "10                         not quoted                         not quoted   \n",
       "11                         not quoted                         not quoted   \n",
       "\n",
       "   D13_ML_Programming_Language_R D13_ML_Programming_Language_Others  \\\n",
       "2                         quoted                         not quoted   \n",
       "3                     not quoted                         not quoted   \n",
       "4                         quoted                         not quoted   \n",
       "5                     not quoted                         not quoted   \n",
       "6                         quoted                         not quoted   \n",
       "7                     not quoted                         not quoted   \n",
       "8                     not quoted                             quoted   \n",
       "9                         quoted                         not quoted   \n",
       "10                    not quoted                         not quoted   \n",
       "11                    not quoted                         not quoted   \n",
       "\n",
       "   D13_ML_Programming_Language_Others_Free  \n",
       "2                                      -99  \n",
       "3                                      -99  \n",
       "4                                      -99  \n",
       "5                                      -99  \n",
       "6                                      -99  \n",
       "7                                      -99  \n",
       "8                                       C#  \n",
       "9                                      -99  \n",
       "10                                     -99  \n",
       "11                                     -99  "
      ]
     },
     "execution_count": 2,
     "metadata": {},
     "output_type": "execute_result"
    }
   ],
   "source": [
    "# get formatted and ready to use dataframe\n",
    "df = get_df()\n",
    "df = df[['D13_ML_Programming_Language_C', 'D13_ML_Programming_Language_Java',\n",
    "         'D13_ML_Programming_Language_Javascript', 'D13_ML_Programming_Language_Julia',\n",
    "         'D13_ML_Programming_Language_MatLab', 'D13_ML_Programming_Language_Python', \n",
    "         'D13_ML_Programming_Language_R', 'D13_ML_Programming_Language_Others',\n",
    "         'D13_ML_Programming_Language_Others_Free']]\n",
    "df.head(10)"
   ]
  },
  {
   "cell_type": "code",
   "execution_count": 3,
   "id": "f87907f4",
   "metadata": {},
   "outputs": [],
   "source": [
    "# group same values in a specific one\n",
    "replace_list_values_by_condition(df, 'D13_ML_Programming_Language_Others_Free',\n",
    "                                ['c#', '.Net Core', '.Net Core, C#'], \n",
    "                                'C#', 'eq')\n",
    "replace_list_values_by_condition(df, 'D13_ML_Programming_Language_Others_Free',\n",
    "                                ['React JS for visualisations and interaction with the project'], \n",
    "                                'React JS', 'eq')\n",
    "replace_list_values_by_condition(df, 'D13_ML_Programming_Language_Others_Free',\n",
    "                                ['scala'], \n",
    "                                'Scala', 'eq')\n",
    "replace_list_values_by_condition(df, 'D13_ML_Programming_Language_Others_Free',\n",
    "                                ['SAS', 'SQL', 'SAS Guide, SAS Miner, Knime, IBM Modeler, SPSS Clementine ', 'Sas', 'sql'], \n",
    "                                'SAS / SQL', 'eq')"
   ]
  },
  {
   "cell_type": "code",
   "execution_count": 4,
   "id": "9ddd4771",
   "metadata": {},
   "outputs": [],
   "source": [
    "# the possible answers are the ones in columns - exclude 'others' column because they are held differently\n",
    "valid_options_list = [column.split(\"D13_ML_Programming_Language_\")[1] for column in list(df.columns)\n",
    "                      if 'Others' not in column]"
   ]
  },
  {
   "cell_type": "code",
   "execution_count": 5,
   "id": "8f0445b6",
   "metadata": {},
   "outputs": [
    {
     "data": {
      "text/plain": [
       "['C', 'Java', 'Javascript', 'Julia', 'MatLab', 'Python', 'R']"
      ]
     },
     "execution_count": 5,
     "metadata": {},
     "output_type": "execute_result"
    }
   ],
   "source": [
    "valid_options_list"
   ]
  },
  {
   "cell_type": "code",
   "execution_count": 6,
   "id": "9d891b33",
   "metadata": {},
   "outputs": [],
   "source": [
    "# answers could be composed by more than one option, so we will have an array of selected options\n",
    "valid_answers_list = []\n",
    "prefix = 'D13_ML_Programming_Language_'\n",
    "for idx, row in df.iterrows():\n",
    "    answer = []\n",
    "    for option in valid_options_list:\n",
    "        # if the option was selected, we add to our current answer\n",
    "        if row[prefix + option] == 'quoted':\n",
    "            answer.append(option)\n",
    "            \n",
    "    # we look for others column to check if there is another valid language to be accepted\n",
    "    if row['D13_ML_Programming_Language_Others_Free'] != '-99' and row['D13_ML_Programming_Language_Others_Free'] is not np.nan:\n",
    "        answer.append(row['D13_ML_Programming_Language_Others_Free'])\n",
    "   \n",
    "    valid_answers_list.append(answer)"
   ]
  },
  {
   "cell_type": "code",
   "execution_count": 7,
   "id": "53fcfb69",
   "metadata": {},
   "outputs": [],
   "source": [
    "valid_options_list += list(df['D13_ML_Programming_Language_Others_Free'].unique())\n",
    "valid_options_list = [valid_option for valid_option in valid_options_list \n",
    "                      if valid_option != '-99' and valid_option is not np.nan]\n",
    "valid_options_list = list(set(valid_options_list))"
   ]
  },
  {
   "cell_type": "code",
   "execution_count": 10,
   "id": "d2acdf31",
   "metadata": {},
   "outputs": [],
   "source": [
    "bootstrapped_dict_data = bootstrapping(answers=valid_answers_list, all_options=valid_options_list,\n",
    "                                       replacements=1000, population_size=1000, question_type='multiple')"
   ]
  },
  {
   "cell_type": "code",
   "execution_count": 11,
   "id": "00be9e62",
   "metadata": {},
   "outputs": [
    {
     "name": "stdout",
     "output_type": "stream",
     "text": [
      "Mean: 1.069| Lower: 1.0590890364999157| Uper: 1.0789109635000842\n"
     ]
    }
   ],
   "source": [
    "lower, X_mean, upper = confidence_interval(data_points=bootstrapped_dict_data['Julia'])\n",
    "print(\"Mean: \" + str(X_mean) + \"| Lower: \" + str(lower) + \"| Uper: \" + str(upper))"
   ]
  },
  {
   "cell_type": "code",
   "execution_count": 12,
   "id": "66133954",
   "metadata": {},
   "outputs": [],
   "source": [
    "# get a pair of values between dict key and all the list values inside that key \n",
    "# key: [val_1, val_2] ---> [(key, val_1), (key, val_2)...]\n",
    "indexes = []\n",
    "values = []\n",
    "for idx in bootstrapped_dict_data:\n",
    "    indexes += [idx for _ in range(len(bootstrapped_dict_data[idx]))]\n",
    "    values += bootstrapped_dict_data[idx]\n"
   ]
  },
  {
   "cell_type": "code",
   "execution_count": 13,
   "id": "aa69bb1c",
   "metadata": {},
   "outputs": [],
   "source": [
    "# build a dataframe from the population metrics\n",
    "bootstrapped_df = pd.DataFrame()\n",
    "bootstrapped_df['Programming Language'] = indexes\n",
    "bootstrapped_df['Value'] = values"
   ]
  },
  {
   "cell_type": "code",
   "execution_count": 14,
   "id": "555a5027",
   "metadata": {},
   "outputs": [
    {
     "data": {
      "text/plain": [
       "<seaborn.axisgrid.FacetGrid at 0x7f1465d6c520>"
      ]
     },
     "execution_count": 14,
     "metadata": {},
     "output_type": "execute_result"
    },
    {
     "data": {
      "image/png": "[encoded data removed]",
      "text/plain": [
       "<Figure size 432x432 with 1 Axes>"
      ]
     },
     "metadata": {
      "needs_background": "light"
     },
     "output_type": "display_data"
    }
   ],
   "source": [
    "# draw bar plot graphics\n",
    "d10_plot = sns.catplot(data=bootstrapped_df.sort_values(by=['Value'], ascending = False), \n",
    "                      kind=\"bar\", x=\"Value\", y=\"Programming Language\", ci=\"sd\", \n",
    "                      palette=\"dark\", alpha=.6, height=6)\n",
    "d10_plot.despine(left=True)\n",
    "d10_plot.set_axis_labels(\"Percentage of Answers\", \"Programming Language\")"
   ]
  },
  {
   "cell_type": "code",
   "execution_count": null,
   "id": "d9f7d536",
   "metadata": {},
   "outputs": [],
   "source": []
  }
 ],
 "metadata": {
  "kernelspec": {
   "display_name": "Python 3 (ipykernel)",
   "language": "python",
   "name": "python3"
  },
  "language_info": {
   "codemirror_mode": {
    "name": "ipython",
    "version": 3
   },
   "file_extension": ".py",
   "mimetype": "text/x-python",
   "name": "python",
   "nbconvert_exporter": "python",
   "pygments_lexer": "ipython3",
   "version": "3.10.6"
  }
 },
 "nbformat": 4,
 "nbformat_minor": 5
}

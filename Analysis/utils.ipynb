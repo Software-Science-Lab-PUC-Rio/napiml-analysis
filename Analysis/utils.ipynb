{
 "cells": [
  {
   "cell_type": "code",
   "execution_count": 1,
   "id": "f47c7df2",
   "metadata": {},
   "outputs": [],
   "source": [
    "# importing important libs\n",
    "import pandas as pd\n",
    "from statistics import mean, median"
   ]
  },
  {
   "cell_type": "code",
   "execution_count": 2,
   "id": "00b336f0",
   "metadata": {},
   "outputs": [],
   "source": [
    "# print all columns - same name as in csv file\n",
    "def list_columns(df):\n",
    "    for column in list(df.columns):\n",
    "        print(column)"
   ]
  },
  {
   "cell_type": "code",
   "execution_count": 3,
   "id": "190a4c27",
   "metadata": {},
   "outputs": [],
   "source": [
    "# remove a list of columns\n",
    "def remove_columns(df, columns):\n",
    "    df = df.drop(columns=columns)\n",
    "    return df"
   ]
  },
  {
   "cell_type": "code",
   "execution_count": 4,
   "id": "6c71571d",
   "metadata": {},
   "outputs": [],
   "source": [
    "# remove rows by index\n",
    "def remove_rows(df, indexes):\n",
    "    df = df.drop(indexes)\n",
    "    return df"
   ]
  },
  {
   "cell_type": "code",
   "execution_count": 5,
   "id": "4ce61942",
   "metadata": {},
   "outputs": [],
   "source": [
    "# rename value in a list according to what is mapped\n",
    "def rename_values(rename_mapping, values):\n",
    "    renamed_values = []\n",
    "    \n",
    "    for value in values:\n",
    "        renamed_values.append(rename_mapping.get(value, 'Not selected'))\n",
    "    \n",
    "    return renamed_values"
   ]
  },
  {
   "cell_type": "code",
   "execution_count": 6,
   "id": "955d9a85",
   "metadata": {},
   "outputs": [],
   "source": [
    "# replace values in a column given a condition\n",
    "def replace_values_by_condition(df, column, old_value, new_value, condition):\n",
    "    if condition == 'eq':\n",
    "        # replace values that respect the == condition\n",
    "        df.loc[df[column] == old_value, column] = new_value\n",
    "    elif condition == 'gt':\n",
    "        # replace values that respect the > condition\n",
    "        df.loc[df[column] > old_value, column] = new_value\n",
    "    elif condition == 'lt':\n",
    "        # replace values that respect the < condition\n",
    "        df.loc[df[column] < old_value, column] = new_value\n",
    "    elif condition == 'geq':\n",
    "        # replace values that respect the >= condition\n",
    "        df.loc[df[column] >= old_value, column] = new_value\n",
    "    elif condition == 'leq':\n",
    "        # replace values that respect the <= condition\n",
    "        df.loc[df[column] <= old_value, column] = new_value\n",
    "    elif condition == 'diff':\n",
    "        # replace values that respect the != condition\n",
    "        df.loc[df[column] != old_value, column] = new_value\n",
    "    \n",
    "    return df"
   ]
  },
  {
   "cell_type": "code",
   "execution_count": 7,
   "id": "df7e9a19",
   "metadata": {},
   "outputs": [],
   "source": [
    "# format dataframe with new columns names and removing what is not used\n",
    "def format_df(df):\n",
    "    # remove all columns specified in 'unused_columns.txt'\n",
    "    with open('./unused_columns.txt', encoding=\"utf-8\") as file_unused_columns:\n",
    "        unused_columns = file_unused_columns.readlines()\n",
    "    \n",
    "    # remove '\\n' character\n",
    "    unused_columns = [unused_column.replace(\"\\n\", '') for unused_column in unused_columns]\n",
    "    \n",
    "    unnecessary_columns = unused_columns\n",
    "\n",
    "    # drop all the columns which are not useful for us\n",
    "    df = remove_columns(df, unnecessary_columns)\n",
    "    # remove the first two rows - unnecessary data describing the columns\n",
    "    df = remove_rows(df, [0, 1])\n",
    "        \n",
    "    # rename columns by those set in 'formatted_columns.txt'\n",
    "    with open('./formatted_columns.txt', encoding=\"utf-8\") as file_formatted_columns:\n",
    "        formatted_columns = file_formatted_columns.readlines()\n",
    "        \n",
    "    # remove '\\n' character\n",
    "    formatted_columns = [formatted_column.replace(\"\\n\", '') for formatted_column in formatted_columns]\n",
    "    \n",
    "    df.columns = formatted_columns\n",
    "    \n",
    "    return df"
   ]
  },
  {
   "cell_type": "code",
   "execution_count": 8,
   "id": "c915f4db",
   "metadata": {},
   "outputs": [],
   "source": [
    "def custom_groupby(df, groupby_column, count_columns, groupby_column_label, count_column_label, match_column_label, math):\n",
    "    # what we want is the same of a groupby, but more generic and not assuming that the values grouped needs to be a number\n",
    "    # we allow to groupby doing the mean, sum, median or simple count\n",
    "    \n",
    "    # get all values that appear in the groupby column\n",
    "    groupby_column_values = list(df[groupby_column].unique())\n",
    "    \n",
    "    # dict to store each groupby column value and each to count column value\n",
    "    group_to_count = {}\n",
    "    for group in groupby_column_values:\n",
    "        group_to_count[group] = {}\n",
    "        for count in count_columns:\n",
    "            # store as a list, because it give us flexibility to do several operations, from a simple len() to median of values\n",
    "            group_to_count[group][count] = []\n",
    "    \n",
    "    # now we have something like: {'Business Analyst': {'Software Experience': [], 'ML Experience': []}, 'Data Scientist': ...}\n",
    "    \n",
    "    # for each row I build a dict storing for each value that will be row the value of each column\n",
    "    for idx, row in df.iterrows():\n",
    "        # what is the current grouped value from the chosen groupby_column\n",
    "        current_grouped_value = row[groupby_column]\n",
    "        # for the same current grouped value, we will increase with the value selected in the count column\n",
    "        for count in count_columns:\n",
    "            group_to_count[current_grouped_value][count].append(row[count])\n",
    "    \n",
    "    # now we have something like: {'Business Analyst': {'Software Experience': [5, 10, 0], 'ML Experience': [1, 6, 7]}, ...}\n",
    "    \n",
    "    # let's return a formatted df assuming\n",
    "    grouped_df = pd.DataFrame()\n",
    "    # what value was grouped\n",
    "    grouped_values = []\n",
    "    # what value exists for each group\n",
    "    count_values = []\n",
    "    # match of grouped value and its counted\n",
    "    grouped_count_values = []\n",
    "    \n",
    "    for gtc in group_to_count:\n",
    "        grouped_values = grouped_values + list(group_to_count[gtc].keys())\n",
    "        count_values = count_values + [gtc for _ in range(len(group_to_count[gtc].keys()))]\n",
    "        grouped_count = []\n",
    "        \n",
    "        for t in group_to_count[gtc]:\n",
    "            if math == 'sum':\n",
    "                grouped_count.append(sum(group_to_count[gtc][t]))\n",
    "            if math == 'mean':\n",
    "                grouped_count.append(mean(group_to_count[gtc][t]))\n",
    "            if math == 'median':\n",
    "                grouped_count.append(median(group_to_count[gtc][t]))\n",
    "            if math == 'count':\n",
    "                grouped_count.append(len(group_to_count[gtc][t]))\n",
    "            \n",
    "        grouped_count_values = grouped_count_values + grouped_count\n",
    "        \n",
    "    grouped_df[groupby_column_label] = grouped_values\n",
    "    grouped_df[count_column_label] = count_values\n",
    "    grouped_df[match_column_label] = grouped_count_values\n",
    "    \n",
    "    return grouped_df"
   ]
  },
  {
   "cell_type": "code",
   "execution_count": 9,
   "id": "0df55725",
   "metadata": {},
   "outputs": [],
   "source": [
    "# retrieve a formatted dataframe for the questions that we will work on\n",
    "def get_df():\n",
    "    # read survey csv\n",
    "    df = pd.read_csv(\"data_project_851780_2022_05_02.csv\", sep=\";\")\n",
    "    df = format_df(df)\n",
    "    return df"
   ]
  },
  {
   "cell_type": "code",
   "execution_count": 10,
   "id": "8b48babe",
   "metadata": {},
   "outputs": [],
   "source": [
    "#remove all values equal to 'value' from 'col' in 'df'\n",
    "def remove_value(df,value,col):\n",
    "    if isinstance(value,str):\n",
    "        df.drop(df.loc[df[col]==value].index, inplace=True)  \n",
    "    else:\n",
    "        if np.isnan(value) == True:\n",
    "        #tratamento de nan\n",
    "            print('nan')"
   ]
  },
  {
   "cell_type": "code",
   "execution_count": 11,
   "id": "beab236e",
   "metadata": {},
   "outputs": [],
   "source": [
    "#replace all values in received list to new_value\n",
    "def replace_list_values_by_condition(df, column, old_values, new_value, condition):\n",
    "    for value in old_values:\n",
    "        replace_values_by_condition(df, column, value, new_value,'eq')"
   ]
  },
  {
   "cell_type": "code",
   "execution_count": 12,
   "id": "3f8761f2",
   "metadata": {},
   "outputs": [],
   "source": [
    "def format_wordcloud_text(texts, use_sep, stopwords=[]):\n",
    "    # build a dict with a word and its importance/weight\n",
    "    weighted_text = {}\n",
    "    for text in texts:\n",
    "        # split the text by tab\n",
    "        if use_sep:\n",
    "            splitted_text = text.split(\" \")\n",
    "            for split in splitted_text:\n",
    "                if weighted_text.get(split):\n",
    "                    weighted_text[split] = weighted_text[split] + 1\n",
    "                else:\n",
    "                    weighted_text[split] = 1\n",
    "        else:\n",
    "            # it will use the value as it is being read\n",
    "            if weighted_text.get(text):\n",
    "                weighted_text[text] = weighted_text[text] + 1\n",
    "            else:\n",
    "                weighted_text[text] = 1\n",
    "                \n",
    "    return weighted_text"
   ]
  }
 ],
 "metadata": {
  "kernelspec": {
   "display_name": "Python 3 (ipykernel)",
   "language": "python",
   "name": "python3"
  },
  "language_info": {
   "codemirror_mode": {
    "name": "ipython",
    "version": 3
   },
   "file_extension": ".py",
   "mimetype": "text/x-python",
   "name": "python",
   "nbconvert_exporter": "python",
   "pygments_lexer": "ipython3",
   "version": "3.10.6"
  }
 },
 "nbformat": 4,
 "nbformat_minor": 5
}

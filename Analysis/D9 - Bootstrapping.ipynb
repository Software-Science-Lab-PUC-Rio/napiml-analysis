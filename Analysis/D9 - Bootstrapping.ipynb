{
 "cells": [
  {
   "cell_type": "code",
   "execution_count": 1,
   "id": "01dfafec",
   "metadata": {},
   "outputs": [],
   "source": [
    "import pandas as pd\n",
    "import numpy as np\n",
    "import random\n",
    "import math\n",
    "import seaborn as sns\n",
    "import matplotlib.pyplot as plt\n",
    "from ipynb.fs.full.utils import get_df, rename_values,remove_value\n",
    "from ipynb.fs.full.plots import single_barplot\n",
    "from ipynb.fs.full.bootstrapping_utils import single_option_sampling, bootstrapping, confidence_interval\n",
    "from statistics import mean, pstdev"
   ]
  },
  {
   "cell_type": "code",
   "execution_count": 2,
   "id": "8845b158",
   "metadata": {},
   "outputs": [],
   "source": [
    "# get formatted and ready to use dataframe\n",
    "df = get_df()"
   ]
  },
  {
   "cell_type": "code",
   "execution_count": 3,
   "id": "6907b400",
   "metadata": {},
   "outputs": [],
   "source": [
    "# remove undesired and not useful data\n",
    "remove_value(df,'0','D9_ML_Project_Team_Size')"
   ]
  },
  {
   "cell_type": "code",
   "execution_count": 4,
   "id": "9ddd4771",
   "metadata": {},
   "outputs": [],
   "source": [
    "valid_options_list = list(df['D9_ML_Project_Team_Size'].unique())"
   ]
  },
  {
   "cell_type": "code",
   "execution_count": 5,
   "id": "9d891b33",
   "metadata": {},
   "outputs": [],
   "source": [
    "valid_answers_list = list(df['D9_ML_Project_Team_Size'])"
   ]
  },
  {
   "cell_type": "code",
   "execution_count": 6,
   "id": "3c834b3b",
   "metadata": {},
   "outputs": [
    {
     "data": {
      "text/plain": [
       "['6-10 members',\n",
       " '1-5 members',\n",
       " '50+ members',\n",
       " '11-20 members',\n",
       " '20-50 members']"
      ]
     },
     "execution_count": 6,
     "metadata": {},
     "output_type": "execute_result"
    }
   ],
   "source": [
    "valid_options_list"
   ]
  },
  {
   "cell_type": "code",
   "execution_count": 7,
   "id": "f726139c",
   "metadata": {},
   "outputs": [
    {
     "data": {
      "text/plain": [
       "['6-10 members',\n",
       " '6-10 members',\n",
       " '6-10 members',\n",
       " '1-5 members',\n",
       " '1-5 members',\n",
       " '6-10 members',\n",
       " '50+ members',\n",
       " '1-5 members',\n",
       " '6-10 members',\n",
       " '1-5 members',\n",
       " '1-5 members',\n",
       " '1-5 members',\n",
       " '1-5 members',\n",
       " '1-5 members',\n",
       " '1-5 members',\n",
       " '6-10 members',\n",
       " '1-5 members',\n",
       " '11-20 members',\n",
       " '6-10 members',\n",
       " '6-10 members',\n",
       " '1-5 members',\n",
       " '6-10 members',\n",
       " '6-10 members',\n",
       " '11-20 members',\n",
       " '1-5 members',\n",
       " '1-5 members',\n",
       " '1-5 members',\n",
       " '1-5 members',\n",
       " '1-5 members',\n",
       " '6-10 members',\n",
       " '1-5 members',\n",
       " '1-5 members',\n",
       " '6-10 members',\n",
       " '6-10 members',\n",
       " '6-10 members',\n",
       " '1-5 members',\n",
       " '6-10 members',\n",
       " '1-5 members',\n",
       " '11-20 members',\n",
       " '11-20 members',\n",
       " '1-5 members',\n",
       " '6-10 members',\n",
       " '1-5 members',\n",
       " '1-5 members',\n",
       " '1-5 members',\n",
       " '1-5 members',\n",
       " '1-5 members',\n",
       " '1-5 members',\n",
       " '6-10 members',\n",
       " '1-5 members',\n",
       " '1-5 members',\n",
       " '1-5 members',\n",
       " '1-5 members',\n",
       " '6-10 members',\n",
       " '1-5 members',\n",
       " '20-50 members',\n",
       " '1-5 members',\n",
       " '1-5 members',\n",
       " '20-50 members',\n",
       " '6-10 members',\n",
       " '1-5 members',\n",
       " '11-20 members',\n",
       " '11-20 members',\n",
       " '1-5 members',\n",
       " '1-5 members',\n",
       " '1-5 members',\n",
       " '1-5 members',\n",
       " '1-5 members',\n",
       " '11-20 members',\n",
       " '6-10 members',\n",
       " '1-5 members',\n",
       " '1-5 members',\n",
       " '20-50 members',\n",
       " '1-5 members',\n",
       " '1-5 members',\n",
       " '1-5 members',\n",
       " '1-5 members',\n",
       " '1-5 members',\n",
       " '6-10 members',\n",
       " '1-5 members',\n",
       " '1-5 members',\n",
       " '6-10 members',\n",
       " '11-20 members',\n",
       " '1-5 members',\n",
       " '1-5 members',\n",
       " '1-5 members',\n",
       " '1-5 members',\n",
       " '1-5 members',\n",
       " '1-5 members',\n",
       " '6-10 members',\n",
       " '1-5 members',\n",
       " '1-5 members',\n",
       " '1-5 members',\n",
       " '6-10 members',\n",
       " '1-5 members',\n",
       " '1-5 members',\n",
       " '1-5 members',\n",
       " '1-5 members',\n",
       " '1-5 members',\n",
       " '1-5 members',\n",
       " '1-5 members',\n",
       " '1-5 members',\n",
       " '6-10 members',\n",
       " '6-10 members',\n",
       " '1-5 members',\n",
       " '1-5 members',\n",
       " '1-5 members',\n",
       " '1-5 members',\n",
       " '6-10 members',\n",
       " '1-5 members',\n",
       " '1-5 members',\n",
       " '1-5 members',\n",
       " '1-5 members',\n",
       " '6-10 members',\n",
       " '11-20 members',\n",
       " '6-10 members',\n",
       " '1-5 members',\n",
       " '1-5 members',\n",
       " '1-5 members',\n",
       " '6-10 members',\n",
       " '6-10 members',\n",
       " '1-5 members',\n",
       " '1-5 members',\n",
       " '1-5 members',\n",
       " '11-20 members',\n",
       " '1-5 members',\n",
       " '1-5 members',\n",
       " '11-20 members',\n",
       " '1-5 members',\n",
       " '1-5 members',\n",
       " '1-5 members',\n",
       " '1-5 members',\n",
       " '6-10 members',\n",
       " '1-5 members',\n",
       " '6-10 members',\n",
       " '1-5 members',\n",
       " '1-5 members',\n",
       " '1-5 members',\n",
       " '50+ members',\n",
       " '1-5 members',\n",
       " '6-10 members',\n",
       " '1-5 members',\n",
       " '1-5 members',\n",
       " '20-50 members',\n",
       " '1-5 members',\n",
       " '1-5 members',\n",
       " '1-5 members',\n",
       " '1-5 members',\n",
       " '1-5 members',\n",
       " '1-5 members',\n",
       " '1-5 members',\n",
       " '1-5 members',\n",
       " '6-10 members',\n",
       " '1-5 members',\n",
       " '6-10 members',\n",
       " '6-10 members',\n",
       " '1-5 members',\n",
       " '1-5 members',\n",
       " '6-10 members',\n",
       " '1-5 members',\n",
       " '1-5 members',\n",
       " '1-5 members',\n",
       " '1-5 members',\n",
       " '11-20 members',\n",
       " '1-5 members',\n",
       " '6-10 members',\n",
       " '1-5 members',\n",
       " '1-5 members',\n",
       " '1-5 members',\n",
       " '1-5 members',\n",
       " '1-5 members',\n",
       " '1-5 members',\n",
       " '1-5 members',\n",
       " '1-5 members',\n",
       " '1-5 members',\n",
       " '1-5 members',\n",
       " '1-5 members',\n",
       " '1-5 members',\n",
       " '1-5 members',\n",
       " '1-5 members',\n",
       " '1-5 members',\n",
       " '6-10 members',\n",
       " '6-10 members',\n",
       " '1-5 members',\n",
       " '20-50 members',\n",
       " '6-10 members',\n",
       " '1-5 members',\n",
       " '1-5 members',\n",
       " '1-5 members',\n",
       " '11-20 members',\n",
       " '1-5 members',\n",
       " '1-5 members',\n",
       " '6-10 members',\n",
       " '1-5 members',\n",
       " '1-5 members',\n",
       " '1-5 members',\n",
       " '6-10 members',\n",
       " '6-10 members',\n",
       " '11-20 members',\n",
       " '1-5 members',\n",
       " '1-5 members',\n",
       " '6-10 members',\n",
       " '1-5 members',\n",
       " '6-10 members',\n",
       " '6-10 members',\n",
       " '1-5 members',\n",
       " '1-5 members',\n",
       " '6-10 members',\n",
       " '1-5 members',\n",
       " '1-5 members',\n",
       " '1-5 members',\n",
       " '1-5 members',\n",
       " '1-5 members',\n",
       " '50+ members',\n",
       " '1-5 members',\n",
       " '6-10 members',\n",
       " '1-5 members',\n",
       " '11-20 members',\n",
       " '11-20 members',\n",
       " '1-5 members',\n",
       " '1-5 members',\n",
       " '1-5 members',\n",
       " '1-5 members',\n",
       " '1-5 members',\n",
       " '20-50 members',\n",
       " '1-5 members',\n",
       " '1-5 members',\n",
       " '1-5 members',\n",
       " '1-5 members',\n",
       " '6-10 members',\n",
       " '1-5 members',\n",
       " '6-10 members',\n",
       " '1-5 members',\n",
       " '6-10 members',\n",
       " '6-10 members',\n",
       " '6-10 members',\n",
       " '6-10 members',\n",
       " '6-10 members',\n",
       " '1-5 members',\n",
       " '1-5 members',\n",
       " '1-5 members',\n",
       " '1-5 members',\n",
       " '1-5 members',\n",
       " '1-5 members',\n",
       " '6-10 members',\n",
       " '20-50 members']"
      ]
     },
     "execution_count": 7,
     "metadata": {},
     "output_type": "execute_result"
    }
   ],
   "source": [
    "valid_answers_list"
   ]
  },
  {
   "cell_type": "code",
   "execution_count": 8,
   "id": "d2acdf31",
   "metadata": {},
   "outputs": [],
   "source": [
    "bootstrapped_dict_data = bootstrapping(answers=valid_answers_list, all_options=valid_options_list,\n",
    "                                       replacements=1000, population_size=1000)"
   ]
  },
  {
   "cell_type": "code",
   "execution_count": 9,
   "id": "00be9e62",
   "metadata": {},
   "outputs": [],
   "source": [
    "lower, X_mean, upper = confidence_interval(data_points=bootstrapped_dict_data['6-10 members'])"
   ]
  },
  {
   "cell_type": "code",
   "execution_count": 10,
   "id": "cb2d7ee9",
   "metadata": {
    "scrolled": false
   },
   "outputs": [
    {
     "name": "stdout",
     "output_type": "stream",
     "text": [
      "Mean: 23.6202| Lower: 23.58003002808191| Uper: 23.66036997191809\n"
     ]
    }
   ],
   "source": [
    "print(\"Mean: \" + str(X_mean) + \"| Lower: \" + str(lower) + \"| Uper: \" + str(upper))"
   ]
  },
  {
   "cell_type": "code",
   "execution_count": 11,
   "id": "66133954",
   "metadata": {},
   "outputs": [],
   "source": [
    "# get a pair of values between dict key and all the list values inside that key \n",
    "# key: [val_1, val_2] ---> [(key, val_1), (key, val_2)...]\n",
    "indexes = []\n",
    "values = []\n",
    "for idx in bootstrapped_dict_data:\n",
    "    indexes += [idx for _ in range(len(bootstrapped_dict_data[idx]))]\n",
    "    values += bootstrapped_dict_data[idx]\n"
   ]
  },
  {
   "cell_type": "code",
   "execution_count": 12,
   "id": "aa69bb1c",
   "metadata": {},
   "outputs": [],
   "source": [
    "# build a dataframe from the population metrics\n",
    "bootstrapped_df = pd.DataFrame()\n",
    "bootstrapped_df['Total of Members'] = indexes\n",
    "bootstrapped_df['Value'] = values"
   ]
  },
  {
   "cell_type": "code",
   "execution_count": 13,
   "id": "555a5027",
   "metadata": {},
   "outputs": [
    {
     "data": {
      "text/plain": [
       "<seaborn.axisgrid.FacetGrid at 0x7ff20d55fee0>"
      ]
     },
     "execution_count": 13,
     "metadata": {},
     "output_type": "execute_result"
    },
    {
     "data": {
      "image/png": "[encoded data removed]",
      "text/plain": [
       "<Figure size 432x432 with 1 Axes>"
      ]
     },
     "metadata": {
      "needs_background": "light"
     },
     "output_type": "display_data"
    }
   ],
   "source": [
    "# draw bar plot graphics\n",
    "d9_plot = sns.catplot(data=bootstrapped_df.sort_values(by=['Value'], ascending = False), \n",
    "                      kind=\"bar\", x=\"Value\", y=\"Total of Members\", ci=\"sd\", \n",
    "                      palette=\"dark\", alpha=.6, height=6)\n",
    "d9_plot.despine(left=True)\n",
    "d9_plot.set_axis_labels(\"Percentage of Answers\", \"Total of Members\")"
   ]
  },
  {
   "cell_type": "code",
   "execution_count": null,
   "id": "d9f7d536",
   "metadata": {},
   "outputs": [],
   "source": []
  }
 ],
 "metadata": {
  "kernelspec": {
   "display_name": "Python 3 (ipykernel)",
   "language": "python",
   "name": "python3"
  },
  "language_info": {
   "codemirror_mode": {
    "name": "ipython",
    "version": 3
   },
   "file_extension": ".py",
   "mimetype": "text/x-python",
   "name": "python",
   "nbconvert_exporter": "python",
   "pygments_lexer": "ipython3",
   "version": "3.10.6"
  }
 },
 "nbformat": 4,
 "nbformat_minor": 5
}

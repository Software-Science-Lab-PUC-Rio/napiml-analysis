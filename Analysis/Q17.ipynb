{
 "cells": [
  {
   "cell_type": "code",
   "execution_count": 11,
   "id": "53b7e0b8",
   "metadata": {},
   "outputs": [],
   "source": [
    "import pandas as pd\n",
    "from ipynb.fs.full.utils import get_df, rename_values, replace_values_by_condition, remove_value\n",
    "from ipynb.fs.full.plots import single_barplot\n",
    "import seaborn as sns\n",
    "import matplotlib.pyplot as plt\n",
    "import numpy as np"
   ]
  },
  {
   "cell_type": "code",
   "execution_count": 12,
   "id": "9138606d",
   "metadata": {},
   "outputs": [],
   "source": [
    "df = get_df()"
   ]
  },
  {
   "cell_type": "code",
   "execution_count": 13,
   "id": "0501741d",
   "metadata": {},
   "outputs": [
    {
     "data": {
      "text/html": [
       "<div>\n",
       "<style scoped>\n",
       "    .dataframe tbody tr th:only-of-type {\n",
       "        vertical-align: middle;\n",
       "    }\n",
       "\n",
       "    .dataframe tbody tr th {\n",
       "        vertical-align: top;\n",
       "    }\n",
       "\n",
       "    .dataframe thead th {\n",
       "        text-align: right;\n",
       "    }\n",
       "</style>\n",
       "<table border=\"1\" class=\"dataframe\">\n",
       "  <thead>\n",
       "    <tr style=\"text-align: right;\">\n",
       "      <th></th>\n",
       "      <th>Q17_Automated_Machine_Learning_Tools_Yes_No</th>\n",
       "      <th>Q17_Automated_Machine_Learning_Tools_Yes_Free</th>\n",
       "    </tr>\n",
       "  </thead>\n",
       "  <tbody>\n",
       "    <tr>\n",
       "      <th>2</th>\n",
       "      <td>0</td>\n",
       "      <td>-99</td>\n",
       "    </tr>\n",
       "    <tr>\n",
       "      <th>3</th>\n",
       "      <td>No</td>\n",
       "      <td>-99</td>\n",
       "    </tr>\n",
       "    <tr>\n",
       "      <th>4</th>\n",
       "      <td>Yes, Please, specify</td>\n",
       "      <td>Own approach</td>\n",
       "    </tr>\n",
       "    <tr>\n",
       "      <th>5</th>\n",
       "      <td>No</td>\n",
       "      <td>-99</td>\n",
       "    </tr>\n",
       "    <tr>\n",
       "      <th>6</th>\n",
       "      <td>No</td>\n",
       "      <td>-99</td>\n",
       "    </tr>\n",
       "    <tr>\n",
       "      <th>...</th>\n",
       "      <td>...</td>\n",
       "      <td>...</td>\n",
       "    </tr>\n",
       "    <tr>\n",
       "      <th>273</th>\n",
       "      <td>-77</td>\n",
       "      <td>-66</td>\n",
       "    </tr>\n",
       "    <tr>\n",
       "      <th>274</th>\n",
       "      <td>-77</td>\n",
       "      <td>-66</td>\n",
       "    </tr>\n",
       "    <tr>\n",
       "      <th>275</th>\n",
       "      <td>-77</td>\n",
       "      <td>-66</td>\n",
       "    </tr>\n",
       "    <tr>\n",
       "      <th>276</th>\n",
       "      <td>-77</td>\n",
       "      <td>-66</td>\n",
       "    </tr>\n",
       "    <tr>\n",
       "      <th>277</th>\n",
       "      <td>-77</td>\n",
       "      <td>-66</td>\n",
       "    </tr>\n",
       "  </tbody>\n",
       "</table>\n",
       "<p>276 rows × 2 columns</p>\n",
       "</div>"
      ],
      "text/plain": [
       "    Q17_Automated_Machine_Learning_Tools_Yes_No  \\\n",
       "2                                             0   \n",
       "3                                            No   \n",
       "4                          Yes, Please, specify   \n",
       "5                                            No   \n",
       "6                                            No   \n",
       "..                                          ...   \n",
       "273                                         -77   \n",
       "274                                         -77   \n",
       "275                                         -77   \n",
       "276                                         -77   \n",
       "277                                         -77   \n",
       "\n",
       "    Q17_Automated_Machine_Learning_Tools_Yes_Free  \n",
       "2                                             -99  \n",
       "3                                             -99  \n",
       "4                                    Own approach  \n",
       "5                                             -99  \n",
       "6                                             -99  \n",
       "..                                            ...  \n",
       "273                                           -66  \n",
       "274                                           -66  \n",
       "275                                           -66  \n",
       "276                                           -66  \n",
       "277                                           -66  \n",
       "\n",
       "[276 rows x 2 columns]"
      ]
     },
     "execution_count": 13,
     "metadata": {},
     "output_type": "execute_result"
    }
   ],
   "source": [
    "df[['Q17_Automated_Machine_Learning_Tools_Yes_No',\n",
    "'Q17_Automated_Machine_Learning_Tools_Yes_Free']]"
   ]
  },
  {
   "cell_type": "code",
   "execution_count": 14,
   "id": "549bfbe9",
   "metadata": {},
   "outputs": [],
   "source": [
    "q17_df = pd.DataFrame(data={'Automated Machine Learning Tools': df['Q17_Automated_Machine_Learning_Tools_Yes_Free']})"
   ]
  },
  {
   "cell_type": "code",
   "execution_count": 15,
   "id": "798c7885",
   "metadata": {},
   "outputs": [
    {
     "data": {
      "text/plain": [
       "[' AutoKeras',\n",
       " '-66',\n",
       " '-99',\n",
       " 'Auto-keras ; NNI ; Custom made ones',\n",
       " 'Auto-sklearn',\n",
       " 'Auto-sklearn and those specific by Cloud providers',\n",
       " 'Auto-sklearn, Auto-PyTorch',\n",
       " 'AutoKeras, AutoML in Vertex AI',\n",
       " 'AutoML',\n",
       " 'AutoSklearn, Autopilot from AWS',\n",
       " 'Azure ml',\n",
       " 'Custom in-house',\n",
       " 'DataRobot',\n",
       " 'Dataiku',\n",
       " 'Google AutoML, IBM Watson',\n",
       " 'H2O',\n",
       " 'H2O, DataRobot',\n",
       " 'Hyperparameter tuning',\n",
       " 'LUIS.AI ',\n",
       " 'Microsoft Azure Continuous Integration Pipeline',\n",
       " 'Only to establish a baseline',\n",
       " 'Our in house developed AutoML tool',\n",
       " 'Own approach',\n",
       " 'Pytorch',\n",
       " 'SageMaker Auto -Pilot',\n",
       " 'Várias',\n",
       " 'We develop our own Automated Machine Learning models',\n",
       " 'automl in R  / driveML in R / databricks Jobs',\n",
       " 'dataiku']"
      ]
     },
     "execution_count": 15,
     "metadata": {},
     "output_type": "execute_result"
    }
   ],
   "source": [
    "sorted(q17_df['Automated Machine Learning Tools'].value_counts().index)"
   ]
  },
  {
   "cell_type": "code",
   "execution_count": 16,
   "id": "33e3dffe",
   "metadata": {},
   "outputs": [
    {
     "data": {
      "text/html": [
       "<div>\n",
       "<style scoped>\n",
       "    .dataframe tbody tr th:only-of-type {\n",
       "        vertical-align: middle;\n",
       "    }\n",
       "\n",
       "    .dataframe tbody tr th {\n",
       "        vertical-align: top;\n",
       "    }\n",
       "\n",
       "    .dataframe thead th {\n",
       "        text-align: right;\n",
       "    }\n",
       "</style>\n",
       "<table border=\"1\" class=\"dataframe\">\n",
       "  <thead>\n",
       "    <tr style=\"text-align: right;\">\n",
       "      <th></th>\n",
       "      <th>Automated Machine Learning Tools</th>\n",
       "    </tr>\n",
       "  </thead>\n",
       "  <tbody>\n",
       "    <tr>\n",
       "      <th>2</th>\n",
       "      <td>-99</td>\n",
       "    </tr>\n",
       "    <tr>\n",
       "      <th>3</th>\n",
       "      <td>-99</td>\n",
       "    </tr>\n",
       "    <tr>\n",
       "      <th>4</th>\n",
       "      <td>Own approach</td>\n",
       "    </tr>\n",
       "    <tr>\n",
       "      <th>5</th>\n",
       "      <td>-99</td>\n",
       "    </tr>\n",
       "    <tr>\n",
       "      <th>6</th>\n",
       "      <td>-99</td>\n",
       "    </tr>\n",
       "    <tr>\n",
       "      <th>...</th>\n",
       "      <td>...</td>\n",
       "    </tr>\n",
       "    <tr>\n",
       "      <th>273</th>\n",
       "      <td>-66</td>\n",
       "    </tr>\n",
       "    <tr>\n",
       "      <th>274</th>\n",
       "      <td>-66</td>\n",
       "    </tr>\n",
       "    <tr>\n",
       "      <th>275</th>\n",
       "      <td>-66</td>\n",
       "    </tr>\n",
       "    <tr>\n",
       "      <th>276</th>\n",
       "      <td>-66</td>\n",
       "    </tr>\n",
       "    <tr>\n",
       "      <th>277</th>\n",
       "      <td>-66</td>\n",
       "    </tr>\n",
       "  </tbody>\n",
       "</table>\n",
       "<p>276 rows × 1 columns</p>\n",
       "</div>"
      ],
      "text/plain": [
       "    Automated Machine Learning Tools\n",
       "2                                -99\n",
       "3                                -99\n",
       "4                       Own approach\n",
       "5                                -99\n",
       "6                                -99\n",
       "..                               ...\n",
       "273                              -66\n",
       "274                              -66\n",
       "275                              -66\n",
       "276                              -66\n",
       "277                              -66\n",
       "\n",
       "[276 rows x 1 columns]"
      ]
     },
     "execution_count": 16,
     "metadata": {},
     "output_type": "execute_result"
    }
   ],
   "source": [
    "q17_df"
   ]
  },
  {
   "cell_type": "code",
   "execution_count": 17,
   "id": "138a3694",
   "metadata": {},
   "outputs": [
    {
     "name": "stderr",
     "output_type": "stream",
     "text": [
      "C:\\Users\\Antonio Pedro Alves\\AppData\\Local\\Temp\\ipykernel_780\\219984641.py:10: FutureWarning: The frame.append method is deprecated and will be removed from pandas in a future version. Use pandas.concat instead.\n",
      "  q17_df = q17_df.append({'Automated Machine Learning Tools': 'Auto-PyTorch'}, ignore_index=True)\n",
      "C:\\Users\\Antonio Pedro Alves\\AppData\\Local\\Temp\\ipykernel_780\\219984641.py:13: FutureWarning: The frame.append method is deprecated and will be removed from pandas in a future version. Use pandas.concat instead.\n",
      "  q17_df = q17_df.append({'Automated Machine Learning Tools': 'IBM Watson'}, ignore_index=True)\n",
      "C:\\Users\\Antonio Pedro Alves\\AppData\\Local\\Temp\\ipykernel_780\\219984641.py:15: FutureWarning: The frame.append method is deprecated and will be removed from pandas in a future version. Use pandas.concat instead.\n",
      "  q17_df = q17_df.append({'Automated Machine Learning Tools': 'DataRobot'}, ignore_index=True)\n"
     ]
    }
   ],
   "source": [
    "#Our in house developed AutoML tool, Own approach, We develop our own Automated Machine Learning models viraram Custom in-house\n",
    "\n",
    "\n",
    "q17_df = replace_values_by_condition(q17_df, 'Automated Machine Learning Tools', '-99', 'Not Selected', 'eq')\n",
    "q17_df = replace_values_by_condition(q17_df, 'Automated Machine Learning Tools', '-66', 'Not Selected', 'eq')\n",
    "q17_df = replace_values_by_condition(q17_df, 'Automated Machine Learning Tools', ' AutoKeras', 'AutoKeras', 'eq')\n",
    "q17_df = replace_values_by_condition(q17_df, 'Automated Machine Learning Tools', 'Auto-keras ; NNI ; Custom made ones', 'AutoKeras', 'eq')\n",
    "q17_df = replace_values_by_condition(q17_df, 'Automated Machine Learning Tools', 'Auto-sklearn and those specific by Cloud providers', 'Auto-sklearn', 'eq')\n",
    "q17_df = replace_values_by_condition(q17_df, 'Automated Machine Learning Tools', 'Auto-sklearn, Auto-PyTorch', 'Auto-sklearn', 'eq')\n",
    "q17_df = q17_df.append({'Automated Machine Learning Tools': 'Auto-PyTorch'}, ignore_index=True)\n",
    "q17_df = replace_values_by_condition(q17_df, 'Automated Machine Learning Tools', 'AutoKeras, AutoML in Vertex AI', 'AutoKeras', 'eq')\n",
    "q17_df = replace_values_by_condition(q17_df, 'Automated Machine Learning Tools', 'AutoSklearn, Autopilot from AWS', 'Auto-sklearn', 'eq')\n",
    "q17_df = q17_df.append({'Automated Machine Learning Tools': 'IBM Watson'}, ignore_index=True)\n",
    "q17_df = replace_values_by_condition(q17_df, 'Automated Machine Learning Tools', 'Google AutoML, IBM Watson', 'Google AutoML', 'eq')\n",
    "q17_df = q17_df.append({'Automated Machine Learning Tools': 'DataRobot'}, ignore_index=True)\n",
    "q17_df = replace_values_by_condition(q17_df, 'Automated Machine Learning Tools', 'H2O, DataRobot', 'H2O', 'eq')\n",
    "q17_df = replace_values_by_condition(q17_df, 'Automated Machine Learning Tools', 'Our in house developed AutoML tool', 'Custom in-house', 'eq')\n",
    "q17_df = replace_values_by_condition(q17_df, 'Automated Machine Learning Tools', 'Own approach', 'Custom in-house', 'eq')\n",
    "q17_df = replace_values_by_condition(q17_df, 'Automated Machine Learning Tools', 'Pytorch', 'Auto-PyTorch', 'eq')\n",
    "q17_df = replace_values_by_condition(q17_df, 'Automated Machine Learning Tools', 'Várias', 'Not Selected', 'eq')\n",
    "q17_df = replace_values_by_condition(q17_df, 'Automated Machine Learning Tools', 'We develop our own Automated Machine Learning models', 'Custom in-house', 'eq')\n",
    "q17_df = replace_values_by_condition(q17_df, 'Automated Machine Learning Tools', 'dataiku', 'Dataiku', 'eq')\n",
    "q17_df = replace_values_by_condition(q17_df, 'Automated Machine Learning Tools', 'Azure ml', 'Azure ML', 'eq')\n",
    "q17_df = replace_values_by_condition(q17_df, 'Automated Machine Learning Tools', 'Microsoft Azure Continuous Integration Pipeline', 'Azure ML', 'eq')"
   ]
  },
  {
   "cell_type": "code",
   "execution_count": 18,
   "id": "bbbd9d99",
   "metadata": {},
   "outputs": [
    {
     "data": {
      "text/plain": [
       "['Auto-PyTorch',\n",
       " 'Auto-sklearn',\n",
       " 'AutoKeras',\n",
       " 'AutoML',\n",
       " 'Azure ML',\n",
       " 'Custom in-house',\n",
       " 'DataRobot',\n",
       " 'Dataiku',\n",
       " 'Google AutoML',\n",
       " 'H2O',\n",
       " 'Hyperparameter tuning',\n",
       " 'IBM Watson',\n",
       " 'LUIS.AI ',\n",
       " 'Not Selected',\n",
       " 'Only to establish a baseline',\n",
       " 'SageMaker Auto -Pilot',\n",
       " 'automl in R  / driveML in R / databricks Jobs']"
      ]
     },
     "execution_count": 18,
     "metadata": {},
     "output_type": "execute_result"
    }
   ],
   "source": [
    "sorted(q17_df['Automated Machine Learning Tools'].unique())"
   ]
  },
  {
   "cell_type": "code",
   "execution_count": 20,
   "id": "8b507274",
   "metadata": {},
   "outputs": [
    {
     "data": {
      "text/plain": [
       "[Text(0.5, 1.0, 'Do you use Automated Machine Learning (AutoML) tools (e.g., AutoWEKA, Auto-sklearn, Auto-PyTorch), in your ML-enabled system projects?')]"
      ]
     },
     "execution_count": 20,
     "metadata": {},
     "output_type": "execute_result"
    },
    {
     "data": {
      "image/png": "[encoded data removed]",
      "text/plain": [
       "<Figure size 914.4x811.44 with 1 Axes>"
      ]
     },
     "metadata": {},
     "output_type": "display_data"
    }
   ],
   "source": [
    "remove_value(q17_df,'Not Selected','Automated Machine Learning Tools')\n",
    "sns.set(rc={'figure.figsize':(12.7,11.27)})\n",
    "sns.barplot(x=q17_df['Automated Machine Learning Tools'].value_counts(), y=q17_df['Automated Machine Learning Tools'].value_counts().index, data=df, orient =\"h\", color=\"b\").set(title=\"Do you use Automated Machine Learning (AutoML) tools (e.g., AutoWEKA, Auto-sklearn, Auto-PyTorch), in your ML-enabled system projects?\")"
   ]
  },
  {
   "cell_type": "code",
   "execution_count": null,
   "id": "c6f617d0",
   "metadata": {},
   "outputs": [],
   "source": []
  },
  {
   "cell_type": "code",
   "execution_count": null,
   "id": "d8f7270d",
   "metadata": {},
   "outputs": [],
   "source": []
  }
 ],
 "metadata": {
  "kernelspec": {
   "display_name": "Python 3 (ipykernel)",
   "language": "python",
   "name": "python3"
  },
  "language_info": {
   "codemirror_mode": {
    "name": "ipython",
    "version": 3
   },
   "file_extension": ".py",
   "mimetype": "text/x-python",
   "name": "python",
   "nbconvert_exporter": "python",
   "pygments_lexer": "ipython3",
   "version": "3.10.6"
  }
 },
 "nbformat": 4,
 "nbformat_minor": 5
}

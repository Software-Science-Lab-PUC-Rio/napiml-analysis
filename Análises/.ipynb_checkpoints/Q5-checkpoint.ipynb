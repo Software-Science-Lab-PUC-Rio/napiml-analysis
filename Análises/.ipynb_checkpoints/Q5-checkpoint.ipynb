{
 "cells": [
  {
   "cell_type": "code",
   "execution_count": 1,
   "id": "36f258d2",
   "metadata": {},
   "outputs": [],
   "source": [
    "import pandas as pd\n",
    "from ipynb.fs.full.utils import get_df, rename_values"
   ]
  },
  {
   "cell_type": "code",
   "execution_count": 2,
   "id": "9247f09b",
   "metadata": {},
   "outputs": [],
   "source": [
    "df = get_df()"
   ]
  },
  {
   "cell_type": "code",
   "execution_count": 3,
   "id": "a75b95ac",
   "metadata": {},
   "outputs": [
    {
     "data": {
      "text/html": [
       "<div>\n",
       "<style scoped>\n",
       "    .dataframe tbody tr th:only-of-type {\n",
       "        vertical-align: middle;\n",
       "    }\n",
       "\n",
       "    .dataframe tbody tr th {\n",
       "        vertical-align: top;\n",
       "    }\n",
       "\n",
       "    .dataframe thead th {\n",
       "        text-align: right;\n",
       "    }\n",
       "</style>\n",
       "<table border=\"1\" class=\"dataframe\">\n",
       "  <thead>\n",
       "    <tr style=\"text-align: right;\">\n",
       "      <th></th>\n",
       "      <th>Q14_Model_Deploy_Pipeline_Yes</th>\n",
       "      <th>Q14_Model_Deploy_Pipeline_Yes_Free</th>\n",
       "      <th>Q14_Model_Deploy_Pipeline_No</th>\n",
       "    </tr>\n",
       "  </thead>\n",
       "  <tbody>\n",
       "    <tr>\n",
       "      <th>2</th>\n",
       "      <td>not quoted</td>\n",
       "      <td>-99</td>\n",
       "      <td>not quoted</td>\n",
       "    </tr>\n",
       "    <tr>\n",
       "      <th>3</th>\n",
       "      <td>not quoted</td>\n",
       "      <td>-99</td>\n",
       "      <td>quoted</td>\n",
       "    </tr>\n",
       "    <tr>\n",
       "      <th>4</th>\n",
       "      <td>not quoted</td>\n",
       "      <td>-99</td>\n",
       "      <td>quoted</td>\n",
       "    </tr>\n",
       "    <tr>\n",
       "      <th>5</th>\n",
       "      <td>not quoted</td>\n",
       "      <td>-99</td>\n",
       "      <td>quoted</td>\n",
       "    </tr>\n",
       "    <tr>\n",
       "      <th>6</th>\n",
       "      <td>quoted</td>\n",
       "      <td>-99</td>\n",
       "      <td>not quoted</td>\n",
       "    </tr>\n",
       "    <tr>\n",
       "      <th>...</th>\n",
       "      <td>...</td>\n",
       "      <td>...</td>\n",
       "      <td>...</td>\n",
       "    </tr>\n",
       "    <tr>\n",
       "      <th>273</th>\n",
       "      <td>-77</td>\n",
       "      <td>-66</td>\n",
       "      <td>-77</td>\n",
       "    </tr>\n",
       "    <tr>\n",
       "      <th>274</th>\n",
       "      <td>-77</td>\n",
       "      <td>-66</td>\n",
       "      <td>-77</td>\n",
       "    </tr>\n",
       "    <tr>\n",
       "      <th>275</th>\n",
       "      <td>-77</td>\n",
       "      <td>-66</td>\n",
       "      <td>-77</td>\n",
       "    </tr>\n",
       "    <tr>\n",
       "      <th>276</th>\n",
       "      <td>-77</td>\n",
       "      <td>-66</td>\n",
       "      <td>-77</td>\n",
       "    </tr>\n",
       "    <tr>\n",
       "      <th>277</th>\n",
       "      <td>-77</td>\n",
       "      <td>-66</td>\n",
       "      <td>-77</td>\n",
       "    </tr>\n",
       "  </tbody>\n",
       "</table>\n",
       "<p>276 rows × 3 columns</p>\n",
       "</div>"
      ],
      "text/plain": [
       "    Q14_Model_Deploy_Pipeline_Yes Q14_Model_Deploy_Pipeline_Yes_Free  \\\n",
       "2                      not quoted                                -99   \n",
       "3                      not quoted                                -99   \n",
       "4                      not quoted                                -99   \n",
       "5                      not quoted                                -99   \n",
       "6                          quoted                                -99   \n",
       "..                            ...                                ...   \n",
       "273                           -77                                -66   \n",
       "274                           -77                                -66   \n",
       "275                           -77                                -66   \n",
       "276                           -77                                -66   \n",
       "277                           -77                                -66   \n",
       "\n",
       "    Q14_Model_Deploy_Pipeline_No  \n",
       "2                     not quoted  \n",
       "3                         quoted  \n",
       "4                         quoted  \n",
       "5                         quoted  \n",
       "6                     not quoted  \n",
       "..                           ...  \n",
       "273                          -77  \n",
       "274                          -77  \n",
       "275                          -77  \n",
       "276                          -77  \n",
       "277                          -77  \n",
       "\n",
       "[276 rows x 3 columns]"
      ]
     },
     "execution_count": 3,
     "metadata": {},
     "output_type": "execute_result"
    }
   ],
   "source": [
    "df[['Q14_Model_Deploy_Pipeline_Yes',\n",
    "'Q14_Model_Deploy_Pipeline_Yes_Free',\n",
    "'Q14_Model_Deploy_Pipeline_No']]"
   ]
  },
  {
   "cell_type": "code",
   "execution_count": 4,
   "id": "59ae1716",
   "metadata": {},
   "outputs": [
    {
     "data": {
      "text/plain": [
       "['-66',\n",
       " '-99',\n",
       " 'AWS Sagemaker MLOPS',\n",
       " 'Azure Devops & Kubernetes ',\n",
       " 'Being Implemented',\n",
       " 'Bento ML, Vertex AI (Google), MLFlow',\n",
       " 'Continous Integration and Monitoring',\n",
       " 'Dataiku',\n",
       " 'Git version control with proper documentation for both deployment and development side',\n",
       " 'In some project we are using Dataiku as MLOps platform. In some, we are using apache airflow to manage ML pipelines.',\n",
       " 'MLFlow/DataBricks',\n",
       " 'MLOps nv2 pipeline',\n",
       " 'MXE',\n",
       " 'Mainly tools provided by Clouds',\n",
       " 'Microsoft Azure Continuous Integration Pipeline',\n",
       " 'Partially. There are some pipelines but .... ',\n",
       " 'Time-based retraining',\n",
       " 'Use some cloud solution',\n",
       " 'We are trying... ',\n",
       " 'We developed internal pipeline to monitor and deploy our models easily.',\n",
       " 'We have our own pipelines, its currently being documented as an orientation guide',\n",
       " 'We have pipelines to regularly retrain,update and deploy our models in production, taking the latest released code. In this process we store the output models alongside a snapshot of their training data for explainability reasons.',\n",
       " 'Yes we are using an automated ML tool',\n",
       " 'airflow, gitlab CI/CD',\n",
       " 'using LUIS.AI api']"
      ]
     },
     "execution_count": 4,
     "metadata": {},
     "output_type": "execute_result"
    }
   ],
   "source": [
    "sorted(df['Q14_Model_Deploy_Pipeline_Yes_Free'].value_counts().index)"
   ]
  },
  {
   "cell_type": "code",
   "execution_count": 6,
   "id": "78bb1235",
   "metadata": {},
   "outputs": [
    {
     "name": "stdout",
     "output_type": "stream",
     "text": [
      "-99\n",
      "MLOps nv2 pipeline\n",
      "Bento ML, Vertex AI (Google), MLFlow\n",
      "Microsoft Azure Continuous Integration Pipeline\n",
      "We developed internal pipeline to monitor and deploy our models easily.\n",
      "Azure Devops & Kubernetes \n",
      "We have our own pipelines, its currently being documented as an orientation guide\n",
      "Git version control with proper documentation for both deployment and development side\n",
      "AWS Sagemaker MLOPS\n",
      "Mainly tools provided by Clouds\n",
      "In some project we are using Dataiku as MLOps platform. In some, we are using apache airflow to manage ML pipelines.\n",
      "MLFlow/DataBricks\n",
      "airflow, gitlab CI/CD\n",
      "Dataiku\n",
      "Use some cloud solution\n",
      "We are trying... \n",
      "Being Implemented\n",
      "Partially. There are some pipelines but .... \n",
      "Time-based retraining\n",
      "Yes we are using an automated ML tool\n",
      "Continous Integration and Monitoring\n",
      "MXE\n",
      "using LUIS.AI api\n",
      "We have pipelines to regularly retrain,update and deploy our models in production, taking the latest released code. In this process we store the output models alongside a snapshot of their training data for explainability reasons.\n",
      "-66\n"
     ]
    }
   ],
   "source": [
    "for other in list(df['Q14_Model_Deploy_Pipeline_Yes_Free'].unique()):\n",
    "    print(other)"
   ]
  },
  {
   "cell_type": "code",
   "execution_count": null,
   "id": "b8ab959e",
   "metadata": {},
   "outputs": [],
   "source": []
  },
  {
   "cell_type": "code",
   "execution_count": null,
   "id": "22f376ea",
   "metadata": {},
   "outputs": [],
   "source": []
  }
 ],
 "metadata": {
  "kernelspec": {
   "display_name": "Python 3 (ipykernel)",
   "language": "python",
   "name": "python3"
  },
  "language_info": {
   "codemirror_mode": {
    "name": "ipython",
    "version": 3
   },
   "file_extension": ".py",
   "mimetype": "text/x-python",
   "name": "python",
   "nbconvert_exporter": "python",
   "pygments_lexer": "ipython3",
   "version": "3.8.10"
  }
 },
 "nbformat": 4,
 "nbformat_minor": 5
}

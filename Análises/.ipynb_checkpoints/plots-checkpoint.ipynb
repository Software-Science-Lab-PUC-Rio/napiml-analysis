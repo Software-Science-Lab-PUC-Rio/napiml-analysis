{
 "cells": [
  {
   "cell_type": "code",
   "execution_count": 7,
   "id": "2bb137dc",
   "metadata": {},
   "outputs": [],
   "source": [
    "import seaborn as sns\n",
    "import matplotlib.pyplot as plt\n",
    "\n",
    "# set a grid for all seaborn plots\n",
    "sns.set_theme(style=\"whitegrid\")"
   ]
  },
  {
   "cell_type": "code",
   "execution_count": 8,
   "id": "88e158cb",
   "metadata": {},
   "outputs": [],
   "source": [
    "def single_barplot(df, x_axis, y_axis, title='', x_label='', y_label='', x_label_rotation=0):\n",
    "    #draw a barplot with single bars\n",
    "    barplot = sns.catplot(data=df, kind=\"bar\", x=x_axis, y=y_axis, ci=\"sd\", palette=\"dark\", alpha=.5, linewidth=5,\n",
    "                          height=5, aspect=10/5).set(title=title)\n",
    "    \n",
    "    barplot.set_xticklabels(rotation=x_label_rotation)\n",
    "    barplot.despine(left=True)\n",
    "    barplot.set_axis_labels(x_label, y_label)"
   ]
  },
  {
   "cell_type": "code",
   "execution_count": 9,
   "id": "dc378b37",
   "metadata": {},
   "outputs": [],
   "source": [
    "def pie_chart(values, labels, title=\"\"):\n",
    "    #'values' contains percentages of pie - sum must not exceed 100\n",
    "    # 'values' and 'labels' must have same length\n",
    "\n",
    "    #define Seaborn color palette to use\n",
    "    colors = sns.color_palette('pastel')[0:len(values)]\n",
    "\n",
    "    #create pie chart with matplotlib but use seaborn default color pallete\n",
    "    plt.pie(values, labels=labels, colors=colors, autopct='%.0f%%')\n",
    "    plt.title(title)\n",
    "    plt.show()"
   ]
  },
  {
   "cell_type": "code",
   "execution_count": 10,
   "id": "4d1b3d3f",
   "metadata": {},
   "outputs": [],
   "source": [
    "def single_boxplot(df, y_axis, title=''):\n",
    "    #draw a single boxplot - only y axis\n",
    "    sns.boxplot(y=y_axis, data=df).set(title=title)\n",
    "    sns.despine(offset=10, trim=True)"
   ]
  },
  {
   "cell_type": "code",
   "execution_count": 11,
   "id": "aa855ed3",
   "metadata": {},
   "outputs": [],
   "source": [
    "def single_violinplot(df, y_axis, title=''):\n",
    "    # draw a single violinplot - only y axis\n",
    "    # also show a line indicating quartiles\n",
    "    sns.violinplot(data=df, y=y_axis, inner=\"quartile\", linewidth=1).set(title=title)\n",
    "    sns.despine(left=True)"
   ]
  },
  {
   "cell_type": "code",
   "execution_count": 12,
   "id": "70635977",
   "metadata": {},
   "outputs": [],
   "source": [
    "def single_histplot(df, x_axis, title=''):\n",
    "    # draw a histplot about one variable - only x axis\n",
    "    sns.histplot(data=df, x=x_axis, kde=True).set(title=title)"
   ]
  },
  {
   "cell_type": "code",
   "execution_count": null,
   "id": "50063e10",
   "metadata": {},
   "outputs": [],
   "source": []
  }
 ],
 "metadata": {
  "kernelspec": {
   "display_name": "Python 3 (ipykernel)",
   "language": "python",
   "name": "python3"
  },
  "language_info": {
   "codemirror_mode": {
    "name": "ipython",
    "version": 3
   },
   "file_extension": ".py",
   "mimetype": "text/x-python",
   "name": "python",
   "nbconvert_exporter": "python",
   "pygments_lexer": "ipython3",
   "version": "3.8.10"
  }
 },
 "nbformat": 4,
 "nbformat_minor": 5
}

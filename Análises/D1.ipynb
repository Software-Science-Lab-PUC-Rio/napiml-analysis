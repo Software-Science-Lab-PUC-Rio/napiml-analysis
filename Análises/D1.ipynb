{
 "cells": [
  {
   "cell_type": "code",
   "execution_count": 46,
   "id": "1da56166",
   "metadata": {},
   "outputs": [],
   "source": [
    "import pandas as pd\n",
    "from ipynb.fs.full.utils import get_df, rename_values\n",
    "from ipynb.fs.full.plots import single_barplot\n",
    "import seaborn as sns\n",
    "import matplotlib.pyplot as plt"
   ]
  },
  {
   "cell_type": "code",
   "execution_count": 40,
   "id": "6edab343",
   "metadata": {},
   "outputs": [
    {
     "data": {
      "text/html": [
       "<div>\n",
       "<style scoped>\n",
       "    .dataframe tbody tr th:only-of-type {\n",
       "        vertical-align: middle;\n",
       "    }\n",
       "\n",
       "    .dataframe tbody tr th {\n",
       "        vertical-align: top;\n",
       "    }\n",
       "\n",
       "    .dataframe thead th {\n",
       "        text-align: right;\n",
       "    }\n",
       "</style>\n",
       "<table border=\"1\" class=\"dataframe\">\n",
       "  <thead>\n",
       "    <tr style=\"text-align: right;\">\n",
       "      <th></th>\n",
       "      <th>D1_Undergraduation</th>\n",
       "      <th>D1_Specialization</th>\n",
       "      <th>D1_Master</th>\n",
       "      <th>D1_Phd</th>\n",
       "      <th>D1_Courses</th>\n",
       "    </tr>\n",
       "  </thead>\n",
       "  <tbody>\n",
       "    <tr>\n",
       "      <th>2</th>\n",
       "      <td>Economics</td>\n",
       "      <td>-99</td>\n",
       "      <td>M.Sc. in Economics</td>\n",
       "      <td>-99</td>\n",
       "      <td>Data Scientist in Datacamp</td>\n",
       "    </tr>\n",
       "    <tr>\n",
       "      <th>3</th>\n",
       "      <td>-99</td>\n",
       "      <td>Management</td>\n",
       "      <td>No</td>\n",
       "      <td>No</td>\n",
       "      <td>No</td>\n",
       "    </tr>\n",
       "    <tr>\n",
       "      <th>4</th>\n",
       "      <td>Mathematics</td>\n",
       "      <td>Informatics</td>\n",
       "      <td>MSC Computer Science</td>\n",
       "      <td>PhD computer Science</td>\n",
       "      <td>Vários cursos in Coursera</td>\n",
       "    </tr>\n",
       "    <tr>\n",
       "      <th>5</th>\n",
       "      <td>Computer Science</td>\n",
       "      <td>Data science specialization</td>\n",
       "      <td>-99</td>\n",
       "      <td>-99</td>\n",
       "      <td>-99</td>\n",
       "    </tr>\n",
       "    <tr>\n",
       "      <th>6</th>\n",
       "      <td>Actuarial Science</td>\n",
       "      <td>Post Graduation in Data Science</td>\n",
       "      <td>M Sc in Data Science -ML models</td>\n",
       "      <td>no Ph D</td>\n",
       "      <td>no other certifications</td>\n",
       "    </tr>\n",
       "    <tr>\n",
       "      <th>7</th>\n",
       "      <td>Information System</td>\n",
       "      <td>-99</td>\n",
       "      <td>M.Sc. in Applied Informatics</td>\n",
       "      <td>-99</td>\n",
       "      <td>-99</td>\n",
       "    </tr>\n",
       "    <tr>\n",
       "      <th>8</th>\n",
       "      <td>Computer Science</td>\n",
       "      <td>-99</td>\n",
       "      <td>Computer Science</td>\n",
       "      <td>-99</td>\n",
       "      <td>Microsoft Professional Program Data Science &amp; ...</td>\n",
       "    </tr>\n",
       "    <tr>\n",
       "      <th>9</th>\n",
       "      <td>Electrical and Electronics Engineering</td>\n",
       "      <td>-99</td>\n",
       "      <td>M.Sc. in AI and Software Engineering</td>\n",
       "      <td>Computer science</td>\n",
       "      <td>Azure Associate AI Engineer, Azure Data Scienc...</td>\n",
       "    </tr>\n",
       "    <tr>\n",
       "      <th>10</th>\n",
       "      <td>-99</td>\n",
       "      <td>-99</td>\n",
       "      <td>-99</td>\n",
       "      <td>-99</td>\n",
       "      <td>-99</td>\n",
       "    </tr>\n",
       "    <tr>\n",
       "      <th>11</th>\n",
       "      <td>-99</td>\n",
       "      <td>-99</td>\n",
       "      <td>-99</td>\n",
       "      <td>-99</td>\n",
       "      <td>-99</td>\n",
       "    </tr>\n",
       "  </tbody>\n",
       "</table>\n",
       "</div>"
      ],
      "text/plain": [
       "                        D1_Undergraduation                D1_Specialization  \\\n",
       "2                                Economics                              -99   \n",
       "3                                      -99                      Management    \n",
       "4                              Mathematics                      Informatics   \n",
       "5                         Computer Science      Data science specialization   \n",
       "6                        Actuarial Science  Post Graduation in Data Science   \n",
       "7                       Information System                              -99   \n",
       "8                         Computer Science                              -99   \n",
       "9   Electrical and Electronics Engineering                              -99   \n",
       "10                                     -99                              -99   \n",
       "11                                     -99                              -99   \n",
       "\n",
       "                               D1_Master                D1_Phd  \\\n",
       "2                     M.Sc. in Economics                   -99   \n",
       "3                                     No                    No   \n",
       "4                   MSC Computer Science  PhD computer Science   \n",
       "5                                    -99                   -99   \n",
       "6        M Sc in Data Science -ML models               no Ph D   \n",
       "7           M.Sc. in Applied Informatics                   -99   \n",
       "8                       Computer Science                   -99   \n",
       "9   M.Sc. in AI and Software Engineering      Computer science   \n",
       "10                                   -99                   -99   \n",
       "11                                   -99                   -99   \n",
       "\n",
       "                                           D1_Courses  \n",
       "2                          Data Scientist in Datacamp  \n",
       "3                                                  No  \n",
       "4                           Vários cursos in Coursera  \n",
       "5                                                 -99  \n",
       "6                             no other certifications  \n",
       "7                                                 -99  \n",
       "8   Microsoft Professional Program Data Science & ...  \n",
       "9   Azure Associate AI Engineer, Azure Data Scienc...  \n",
       "10                                                -99  \n",
       "11                                                -99  "
      ]
     },
     "execution_count": 40,
     "metadata": {},
     "output_type": "execute_result"
    }
   ],
   "source": [
    "df = get_df()\n",
    "df = df[['D1_Undergraduation', 'D1_Specialization', 'D1_Master', 'D1_Phd', 'D1_Courses']]\n",
    "df.head(10)"
   ]
  },
  {
   "cell_type": "code",
   "execution_count": 50,
   "id": "7381e5f6",
   "metadata": {},
   "outputs": [
    {
     "data": {
      "text/plain": [
       "<AxesSubplot:ylabel='D1_Undergraduation'>"
      ]
     },
     "execution_count": 50,
     "metadata": {},
     "output_type": "execute_result"
    },
    {
     "data": {
      "image/png": "[encoded data removed]",
      "text/plain": [
       "<Figure size 432x288 with 1 Axes>"
      ]
     },
     "metadata": {},
     "output_type": "display_data"
    }
   ],
   "source": [
    "\n",
    "sorted(df['D1_Undergraduation'].unique())\n",
    "sns.barplot(x=df['D1_Undergraduation'].value_counts().index, y=df['D1_Undergraduation'].value_counts(), data=df,label=\"Total\", color=\"b\")\n"
   ]
  },
  {
   "cell_type": "code",
   "execution_count": 37,
   "id": "0a68bfb1",
   "metadata": {},
   "outputs": [
    {
     "data": {
      "text/plain": [
       "Index(['Computer Science', '-99', 'Computer Engineering',\n",
       "       'Electrical and Electronics Engineering', 'Mathematics', 'Statistics',\n",
       "       'Information Systems', 'Software Engineering', 'Economics', 'Physics',\n",
       "       'Industrial Engineering', 'Civil Engineering', 'Engineering',\n",
       "       'Mechanical Engineering', 'Informatics', 'Chemical Engineering',\n",
       "       'Telecommunications Engineering', 'Systems Analysis',\n",
       "       'Mechatronics Engineering', 'Production Engineering',\n",
       "       'Mathematics, Physics', 'Actuarial Science', 'Aerospace Engineering',\n",
       "       'Nuclear Engineering', 'Data Processing', 'Metallurgical Engineering',\n",
       "       'Instrumentation and Control Engineering', 'Automation Engineering',\n",
       "       'System Administration', 'Logistics', 'Biology',\n",
       "       'Information Engineering', 'Manufacturing Engineering', 'Chip designer',\n",
       "       'Data Base', 'Robotics Engineering ',\n",
       "       'Management and Industrial Engineering',\n",
       "       'Computer System Administration', 'Computer Science, Mathematics',\n",
       "       'Computer System Management', 'Business Informatics',\n",
       "       'Industrial Pharmacy', 'Information System',\n",
       "       'Industrial Eng, Mathematics'],\n",
       "      dtype='object')"
      ]
     },
     "execution_count": 37,
     "metadata": {},
     "output_type": "execute_result"
    }
   ],
   "source": [
    "df['D1_Undergraduation'].value_counts().index"
   ]
  },
  {
   "cell_type": "code",
   "execution_count": null,
   "id": "39d188ab",
   "metadata": {},
   "outputs": [],
   "source": []
  }
 ],
 "metadata": {
  "kernelspec": {
   "display_name": "Python 3 (ipykernel)",
   "language": "python",
   "name": "python3"
  },
  "language_info": {
   "codemirror_mode": {
    "name": "ipython",
    "version": 3
   },
   "file_extension": ".py",
   "mimetype": "text/x-python",
   "name": "python",
   "nbconvert_exporter": "python",
   "pygments_lexer": "ipython3",
   "version": "3.8.10"
  }
 },
 "nbformat": 4,
 "nbformat_minor": 5
}

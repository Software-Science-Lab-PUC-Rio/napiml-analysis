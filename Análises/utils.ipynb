{
 "cells": [
  {
   "cell_type": "code",
   "execution_count": 1,
   "id": "f47c7df2",
   "metadata": {},
   "outputs": [],
   "source": [
    "# importing important libs\n",
    "import pandas as pd"
   ]
  },
  {
   "cell_type": "code",
   "execution_count": 2,
   "id": "00b336f0",
   "metadata": {},
   "outputs": [],
   "source": [
    "# print all columns - same name as in csv file\n",
    "def list_columns(df):\n",
    "    for column in list(df.columns):\n",
    "        print(column)"
   ]
  },
  {
   "cell_type": "code",
   "execution_count": 3,
   "id": "190a4c27",
   "metadata": {},
   "outputs": [],
   "source": [
    "# remove a list of columns\n",
    "def remove_columns(df, columns):\n",
    "    df = df.drop(columns=columns)\n",
    "    return df"
   ]
  },
  {
   "cell_type": "code",
   "execution_count": 4,
   "id": "6c71571d",
   "metadata": {},
   "outputs": [],
   "source": [
    "# remove rows by index\n",
    "def remove_rows(df, indexes):\n",
    "    df = df.drop(indexes)\n",
    "    return df"
   ]
  },
  {
   "cell_type": "code",
   "execution_count": 5,
   "id": "4ce61942",
   "metadata": {},
   "outputs": [],
   "source": [
    "# rename value in a list according to what is mapped\n",
    "def rename_values(rename_mapping, values):\n",
    "    renamed_values = []\n",
    "    \n",
    "    for value in values:\n",
    "        renamed_values.append(rename_mapping.get(value, 'Not selected'))\n",
    "    \n",
    "    return renamed_values"
   ]
  },
  {
   "cell_type": "code",
   "execution_count": 6,
   "id": "df7e9a19",
   "metadata": {},
   "outputs": [],
   "source": [
    "# format dataframe with new columns names and removing what is not used\n",
    "def format_df(df):\n",
    "    # remove all columns specified in 'unused_columns.txt'\n",
    "    with open('./unused_columns.txt', encoding=\"utf-8\") as file_unused_columns:\n",
    "        unused_columns = file_unused_columns.readlines()\n",
    "    \n",
    "    # remove '\\n' character\n",
    "    unused_columns = [unused_column.replace(\"\\n\", '') for unused_column in unused_columns]\n",
    "    \n",
    "    unnecessary_columns = unused_columns\n",
    "\n",
    "    # drop all the columns which are not useful for us\n",
    "    df = remove_columns(df, unnecessary_columns)\n",
    "    # remove the first two rows - unnecessary data describing the columns\n",
    "    df = remove_rows(df, [0, 1])\n",
    "    \n",
    "    # rename columns by those set in 'formatted_columns.txt'\n",
    "    with open('./formatted_columns.txt', encoding=\"utf-8\") as file_formatted_columns:\n",
    "        formatted_columns = file_formatted_columns.readlines()\n",
    "        \n",
    "    # remove '\\n' character\n",
    "    formatted_columns = [formatted_column.replace(\"\\n\", '') for formatted_column in formatted_columns]\n",
    "    \n",
    "    df.columns = formatted_columns\n",
    "    \n",
    "    return df"
   ]
  },
  {
   "cell_type": "code",
   "execution_count": 7,
   "id": "0df55725",
   "metadata": {},
   "outputs": [],
   "source": [
    "# retrieve a formatted dataframe for the questions that we will work on\n",
    "def get_df():\n",
    "    # read survey csv\n",
    "    df = pd.read_csv(\"data_project_851780_2022_05_02.csv\", sep=\";\")\n",
    "    df = format_df(df)\n",
    "    return df"
   ]
  }
 ],
 "metadata": {
  "kernelspec": {
   "display_name": "Python 3 (ipykernel)",
   "language": "python",
   "name": "python3"
  },
  "language_info": {
   "codemirror_mode": {
    "name": "ipython",
    "version": 3
   },
   "file_extension": ".py",
   "mimetype": "text/x-python",
   "name": "python",
   "nbconvert_exporter": "python",
   "pygments_lexer": "ipython3",
   "version": "3.9.12"
  }
 },
 "nbformat": 4,
 "nbformat_minor": 5
}

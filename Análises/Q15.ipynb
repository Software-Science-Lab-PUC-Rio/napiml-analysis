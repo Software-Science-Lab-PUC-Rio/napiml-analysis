{
 "cells": [
  {
   "cell_type": "code",
   "execution_count": 1,
   "id": "5a1b2eae",
   "metadata": {},
   "outputs": [],
   "source": [
    "import pandas as pd\n",
    "from ipynb.fs.full.utils import get_df\n",
    "from ipynb.fs.full.plots import single_boxplot, single_histplot, single_violinplot"
   ]
  },
  {
   "cell_type": "code",
   "execution_count": 2,
   "id": "a91b876b",
   "metadata": {},
   "outputs": [],
   "source": [
    "df = get_df()"
   ]
  },
  {
   "cell_type": "code",
   "execution_count": 3,
   "id": "ff89a820",
   "metadata": {},
   "outputs": [],
   "source": [
    "q15_df = pd.DataFrame()\n",
    "q15_df['Q15_Model_Deploy_Production_Monitoring'] = list(df['Q15_Model_Deploy_Production_Monitoring'])"
   ]
  },
  {
   "cell_type": "code",
   "execution_count": 4,
   "id": "d82c1da1",
   "metadata": {},
   "outputs": [
    {
     "data": {
      "text/plain": [
       "['-77',\n",
       " '0',\n",
       " '1',\n",
       " '10',\n",
       " '100',\n",
       " '15',\n",
       " '2',\n",
       " '20',\n",
       " '25',\n",
       " '30',\n",
       " '33',\n",
       " '36',\n",
       " '40',\n",
       " '45',\n",
       " '5',\n",
       " '50',\n",
       " '60',\n",
       " '70',\n",
       " '75',\n",
       " '80',\n",
       " '90',\n",
       " '95']"
      ]
     },
     "execution_count": 4,
     "metadata": {},
     "output_type": "execute_result"
    }
   ],
   "source": [
    "sorted(list(q15_df['Q15_Model_Deploy_Production_Monitoring'].value_counts().index))"
   ]
  },
  {
   "cell_type": "code",
   "execution_count": 5,
   "id": "3bd697e5",
   "metadata": {},
   "outputs": [],
   "source": [
    "q15_df = q15_df[q15_df['Q15_Model_Deploy_Production_Monitoring'] != '-77']"
   ]
  },
  {
   "cell_type": "code",
   "execution_count": 6,
   "id": "fbc5dd6e",
   "metadata": {},
   "outputs": [],
   "source": [
    "q15_df = q15_df.astype({\"Q15_Model_Deploy_Production_Monitoring\": int}, errors='raise') "
   ]
  },
  {
   "cell_type": "code",
   "execution_count": 7,
   "id": "0fde6704",
   "metadata": {},
   "outputs": [
    {
     "data": {
      "image/png": "[encoded data removed]",
      "text/plain": [
       "<Figure size 432x288 with 1 Axes>"
      ]
     },
     "metadata": {
      "needs_background": "light"
     },
     "output_type": "display_data"
    }
   ],
   "source": [
    "single_boxplot(q15_df, \"Q15_Model_Deploy_Production_Monitoring\",\n",
    "               title=\"Based on your experience, what percentage of the ML-enabled system projects that get deployed into production have their ML models actually being monitored?\")"
   ]
  },
  {
   "cell_type": "code",
   "execution_count": null,
   "id": "b720d297",
   "metadata": {},
   "outputs": [],
   "source": []
  }
 ],
 "metadata": {
  "kernelspec": {
   "display_name": "Python 3 (ipykernel)",
   "language": "python",
   "name": "python3"
  },
  "language_info": {
   "codemirror_mode": {
    "name": "ipython",
    "version": 3
   },
   "file_extension": ".py",
   "mimetype": "text/x-python",
   "name": "python",
   "nbconvert_exporter": "python",
   "pygments_lexer": "ipython3",
   "version": "3.8.10"
  }
 },
 "nbformat": 4,
 "nbformat_minor": 5
}

{
 "cells": [
  {
   "cell_type": "code",
   "execution_count": null,
   "id": "5f82edcf",
   "metadata": {},
   "outputs": [],
   "source": [
    "import plot_likert\n",
    "import pandas as pd\n",
    "import numpy as np\n",
    "rng = np.random.default_rng(seed=42)\n",
    "data = pd.DataFrame(rng.choice(plot_likert.scales.agree, (10,2)), columns=['Q1','Q2'])\n",
    "plot_likert.plot_likert(data, plot_likert.scales.agree);"
   ]
  }
 ],
 "metadata": {
  "kernelspec": {
   "display_name": "Python 3 (ipykernel)",
   "language": "python",
   "name": "python3"
  },
  "language_info": {
   "codemirror_mode": {
    "name": "ipython",
    "version": 3
   },
   "file_extension": ".py",
   "mimetype": "text/x-python",
   "name": "python",
   "nbconvert_exporter": "python",
   "pygments_lexer": "ipython3",
   "version": "3.8.10"
  }
 },
 "nbformat": 4,
 "nbformat_minor": 5
}

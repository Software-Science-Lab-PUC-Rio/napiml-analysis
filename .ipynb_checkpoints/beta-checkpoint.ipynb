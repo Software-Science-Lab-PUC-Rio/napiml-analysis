{
 "cells": [
  {
   "cell_type": "code",
   "execution_count": 10,
   "id": "8a318d96",
   "metadata": {},
   "outputs": [],
   "source": [
    "# importing important libs\n",
    "import pandas as pd"
   ]
  },
  {
   "cell_type": "code",
   "execution_count": 11,
   "id": "e566fa6b",
   "metadata": {},
   "outputs": [],
   "source": [
    "# print all columns - same name as in csv file\n",
    "def list_columns(df):\n",
    "    for column in list(df.columns):\n",
    "        print(column)"
   ]
  },
  {
   "cell_type": "code",
   "execution_count": 12,
   "id": "c10570a7",
   "metadata": {},
   "outputs": [],
   "source": [
    "# remove a list of columns\n",
    "def remove_columns(df, columns):\n",
    "    df = df.drop(columns=unnecessary_columns)\n",
    "    return df"
   ]
  },
  {
   "cell_type": "code",
   "execution_count": 13,
   "id": "347988ca",
   "metadata": {},
   "outputs": [],
   "source": [
    "# remove rows by index\n",
    "def remove_rows(df, indexes):\n",
    "    df = df.drop(indexes)\n",
    "    return df"
   ]
  },
  {
   "cell_type": "code",
   "execution_count": 17,
   "id": "f1baa12f",
   "metadata": {},
   "outputs": [],
   "source": [
    "def format_df(df):\n",
    "    unnecessary_columns = ['Q8. Who is actively addressing the requirements of ML-enabled system projects in your organization?',\n",
    "                           'Q8. Who is actively addressing the requirements of ML-enabled system projects in your organization?.1',\n",
    "                           'Q8. Who is actively addressing the requirements of ML-enabled system projects in your organization?.2',\n",
    "                           'Q8. Who is actively addressing the requirements of ML-enabled system projects in your organization?.3',\n",
    "                           'Q8. Who is actively addressing the requirements of ML-enabled system projects in your organization?.4',\n",
    "                           'Q8. Who is actively addressing the requirements of ML-enabled system projects in your organization?.5',\n",
    "                           'Q8. Who is actively addressing the requirements of ML-enabled system projects in your organization?.6',\n",
    "                           'Q8. Who is actively addressing the requirements of ML-enabled system projects in your organization?.7',\n",
    "                           'Q8. Who is actively addressing the requirements of ML-enabled system projects in your organization?.8',\n",
    "                           'Q9. How were requirements typically elicited in the ML-enabled system projects you participated in?',\n",
    "                           'Q9. How were requirements typically elicited in the ML-enabled system projects you participated in?.1',\n",
    "                           'Q9. How were requirements typically elicited in the ML-enabled system projects you participated in?.2',\n",
    "                           'Q9. How were requirements typically elicited in the ML-enabled system projects you participated in?.3',\n",
    "                           'Q9. How were requirements typically elicited in the ML-enabled system projects you participated in?.4',\n",
    "                           'Q9. How were requirements typically elicited in the ML-enabled system projects you participated in?.5',\n",
    "                           'Q9. How were requirements typically elicited in the ML-enabled system projects you participated in?.6',\n",
    "                           'Q10. How were requirements typically documented in the ML-enabled system projects you participated in?',\n",
    "                           'Q10. How were requirements typically documented in the ML-enabled system projects you participated in?.1',\n",
    "                           'Q10. How were requirements typically documented in the ML-enabled system projects you participated in?.2',\n",
    "                           'Q10. How were requirements typically documented in the ML-enabled system projects you participated in?.3',\n",
    "                           'Q10. How were requirements typically documented in the ML-enabled system projects you participated in?.4',\n",
    "                           'Q10. How were requirements typically documented in the ML-enabled system projects you participated in?.5',\n",
    "                           'Q10. How were requirements typically documented in the ML-enabled system projects you participated in?.6',\n",
    "                           'Q10. How were requirements typically documented in the ML-enabled system projects you participated in?.7',\n",
    "                           'Q10. How were requirements typically documented in the ML-enabled system projects you participated in?.8',\n",
    "                           'Q10. How were requirements typically documented in the ML-enabled system projects you participated in?.9',\n",
    "                           'Q10. How were requirements typically documented in the ML-enabled system projects you participated in?.10',\n",
    "                           'Q10. How were requirements typically documented in the ML-enabled system projects you participated in?.11',\n",
    "                           'Q10. How were requirements typically documented in the ML-enabled system projects you participated in?.12',\n",
    "                           'Q11. Which Non-Functional Requirements (NFRs) do typically play a major role in terms of criticality in the ML-enabled system projects you participated in?',\n",
    "                           'Q11. Which Non-Functional Requirements (NFRs) do typically play a major role in terms of criticality in the ML-enabled system projects you participated in?.1',\n",
    "                           'Q11. Which Non-Functional Requirements (NFRs) do typically play a major role in terms of criticality in the ML-enabled system projects you participated in?.2',\n",
    "                           'Q11. Which Non-Functional Requirements (NFRs) do typically play a major role in terms of criticality in the ML-enabled system projects you participated in?.3',\n",
    "                           'Q11. Which Non-Functional Requirements (NFRs) do typically play a major role in terms of criticality in the ML-enabled system projects you participated in?.4',\n",
    "                           'Q11. Which Non-Functional Requirements (NFRs) do typically play a major role in terms of criticality in the ML-enabled system projects you participated in?.5',\n",
    "                           'Q11. Which Non-Functional Requirements (NFRs) do typically play a major role in terms of criticality in the ML-enabled system projects you participated in?.6',\n",
    "                           'Q11. Which Non-Functional Requirements (NFRs) do typically play a major role in terms of criticality in the ML-enabled system projects you participated in?.7',\n",
    "                           'Q11. Which Non-Functional Requirements (NFRs) do typically play a major role in terms of criticality in the ML-enabled system projects you participated in?.8',\n",
    "                           'Q11. Which Non-Functional Requirements (NFRs) do typically play a major role in terms of criticality in the ML-enabled system projects you participated in?.9',\n",
    "                           'Q11. Which Non-Functional Requirements (NFRs) do typically play a major role in terms of criticality in the ML-enabled system projects you participated in?.10',\n",
    "                           'Q11. Which Non-Functional Requirements (NFRs) do typically play a major role in terms of criticality in the ML-enabled system projects you participated in?.11',\n",
    "                           'Q11. Which Non-Functional Requirements (NFRs) do typically play a major role in terms of criticality in the ML-enabled system projects you participated in?.12',\n",
    "                           'Q11. Which Non-Functional Requirements (NFRs) do typically play a major role in terms of criticality in the ML-enabled system projects you participated in?.13',\n",
    "                           'Q11. Which Non-Functional Requirements (NFRs) do typically play a major role in terms of criticality in the ML-enabled system projects you participated in?.14',\n",
    "                           'Q11. Which Non-Functional Requirements (NFRs) do typically play a major role in terms of criticality in the ML-enabled system projects you participated in?.15',\n",
    "                           'Q11. Which Non-Functional Requirements (NFRs) do typically play a major role in terms of criticality in the ML-enabled system projects you participated in?.16',\n",
    "                           'Q11. Which Non-Functional Requirements (NFRs) do typically play a major role in terms of criticality in the ML-enabled system projects you participated in?.17',\n",
    "                           'Q11. Which Non-Functional Requirements (NFRs) do typically play a major role in terms of criticality in the ML-enabled system projects you participated in?.18',\n",
    "                           'Q12. Based on your experience, what activities do you consider to be most difficult when defining requirements for ML-enabled systems?',\n",
    "                           'Q12. Based on your experience, what activities do you consider to be most difficult when defining requirements for ML-enabled systems?.1',\n",
    "                           'Q12. Based on your experience, what activities do you consider to be most difficult when defining requirements for ML-enabled systems?.2',\n",
    "                           'Q12. Based on your experience, what activities do you consider to be most difficult when defining requirements for ML-enabled systems?.3',\n",
    "                           'Q12. Based on your experience, what activities do you consider to be most difficult when defining requirements for ML-enabled systems?.4',\n",
    "                           'Q12. Based on your experience, what activities do you consider to be most difficult when defining requirements for ML-enabled systems?.5',\n",
    "                           'Q12. Based on your experience, what activities do you consider to be most difficult when defining requirements for ML-enabled systems?.6',\n",
    "                           'Q12. Based on your experience, what activities do you consider to be most difficult when defining requirements for ML-enabled systems?.7',\n",
    "                           'Q12. Based on your experience, what activities do you consider to be most difficult when defining requirements for ML-enabled systems?.8',\n",
    "                           'Q12. Based on your experience, what activities do you consider to be most difficult when defining requirements for ML-enabled systems?.9',\n",
    "                           'Q12. Based on your experience, what activities do you consider to be most difficult when defining requirements for ML-enabled systems?.10',\n",
    "                           'Q13. In the context of the ML-enabled system projects you participated in, which approach is typically used to deploy ML models?',\n",
    "                           'Q13. In the context of the ML-enabled system projects you participated in, which approach is typically used to deploy ML models?.1',\n",
    "                           'Q13. In the context of the ML-enabled system projects you participated in, which approach is typically used to deploy ML models?.2',\n",
    "                           'Q13. In the context of the ML-enabled system projects you participated in, which approach is typically used to deploy ML models?.3',\n",
    "                           'Q13. In the context of the ML-enabled system projects you participated in, which approach is typically used to deploy ML models?.4',\n",
    "                           'Q14. Do you/your organization follow the practice and principles of ML-Ops in ML-enabled system projects? For instance, do you have an automated pipeline to retrain and deploy your ML models?',\n",
    "                           'Q14. Do you/your organization follow the practice and principles of ML-Ops in ML-enabled system projects? For instance, do you have an automated pipeline to retrain and deploy your ML models?.1',\n",
    "                           'Q14. Do you/your organization follow the practice and principles of ML-Ops in ML-enabled system projects? For instance, do you have an automated pipeline to retrain and deploy your ML models?.2',\n",
    "                           'Q15. Based on your experience, what percentage of the ML-enabled system projects that get deployed into production have their ML models actually being monitored?',\n",
    "                           'Q16. Which of the following ML model aspects are monitored for the deployed ML-enabled system projects you have worked on?',\n",
    "                           'Q16. Which of the following ML model aspects are monitored for the deployed ML-enabled system projects you have worked on?.1',\n",
    "                           'Q16. Which of the following ML model aspects are monitored for the deployed ML-enabled system projects you have worked on?.2',\n",
    "                           'Q16. Which of the following ML model aspects are monitored for the deployed ML-enabled system projects you have worked on?.3',\n",
    "                           'Q16. Which of the following ML model aspects are monitored for the deployed ML-enabled system projects you have worked on?.4',\n",
    "                           'Q16. Which of the following ML model aspects are monitored for the deployed ML-enabled system projects you have worked on?.5',\n",
    "                           'Q17. Do you use Automated Machine Learning (AutoML) tools (e.g., AutoWEKA, Auto-sklearn, Auto-PyTorch), in your ML-enabled system projects?',\n",
    "                           'Q17. Do you use Automated Machine Learning (AutoML) tools (e.g., AutoWEKA, Auto-sklearn, Auto-PyTorch), in your ML-enabled system projects?.1',\n",
    "                           'In case you would like to be notified about the results, please fill in your email address.',\n",
    "                           'Unnamed: 206', 'Unnamed: 208', 'Unnamed: 209', 'Unnamed: 210', 'Unnamed: 211', 'Unnamed: 212', 'Unnamed: 213', 'Unnamed: 214', \n",
    "                           'Unnamed: 215', 'Unnamed: 216', 'Unnamed: 217', 'Unnamed: 218', 'Unnamed: 219', 'Unnamed: 220', 'Unnamed: 221', 'Unnamed: 222',\n",
    "                           'Unnamed: 223', 'Unnamed: 224', 'Unnamed: 225', 'Unnamed: 226', 'Unnamed: 227', 'Unnamed: 228', 'Unnamed: 1', 'Unnamed: 2',\n",
    "                           'Unnamed: 4', 'Unnamed: 5']\n",
    "\n",
    "    # drop all the columns which are not useful for us\n",
    "    df = remove_columns(df, unnecessary_columns)\n",
    "    # remove the first two rows - unnecessary data describing the columns\n",
    "    df = remove_rows(df, [0, 1])\n",
    "    # rename columns\n",
    "    df.columns = ['ID', 'Status', 'Duration', 'D1_Undergraduation', 'D1_Specialization', 'D1_Master', 'D1_Phd', 'D1_Courses',\n",
    "                  'D1_Others', 'D2_Country', 'D3_Company_Size', 'D4_Role', 'D4_Role_Others', 'D5_Software_Experience', 'D6_ML_Experience', \n",
    "                  'D7_Total_ML_Projects', 'D8_ML_Production', 'D9_ML_Project_Team_Size', 'D10_ML_Management_Framework_None', \n",
    "                  'D10_ML_Management_Framework_CRISP-DM', 'D10_ML_Management_Framework_Kanban', 'D10_ML_Management_Framework_Lean',\n",
    "                  'D10_ML_Management_Framework_RUP', 'D10_ML_Management_Framework_SAFe', 'D10_ML_Management_Framework_Scrum', \n",
    "                  'D10_ML_Management_Framework_Others', 'D10_ML_Management_Framework_Others_Free', 'D11_Agile_Development',\n",
    "                  'D12_ML_Project_Context_Banking', 'D12_ML_Project_Context_Defense', 'D12_ML_Project_Context_Education', \n",
    "                  'D12_ML_Project_Context_Embedded', 'D12_ML_Project_Context_Entertainment', 'D12_ML_Project_Context_Healthcare',\n",
    "                  'D12_ML_Project_Context_Insurance', 'D12_ML_Project_Context_Logistics', 'D12_ML_Project_Context_Oil', \n",
    "                  'D12_ML_Project_Context_Sales', 'D12_ML_Project_Context_Tellecom', 'D12_ML_Project_Context_Others',\n",
    "                  'D12_ML_Project_Context_Others_Free', 'D13_ML_Programming_Language_C', 'D13_ML_Programming_Language_Java',\n",
    "                  'D13_ML_Programming_Language_Javascript', 'D13_ML_Programming_Language_Julia', 'D13_ML_Programming_Language_MatLab',\n",
    "                  'D13_ML_Programming_Language_Python', 'D13_ML_Programming_Language_R', 'D13_ML_Programming_Language_Others',\n",
    "                  'D13_ML_Programming_Language_Others_Free', 'D14_ML_Purpose_Prediction', 'D14_ML_Purpose_Prediction_Free',\n",
    "                  'D14_ML_Purpose_Prediction_Classification', 'D14_ML_Purpose_Prediction_Classification_Free', \n",
    "                  'D14_ML_Purpose_Prediction_Association', 'D14_ML_Purpose_Prediction_Association_Free', 'D14_ML_Purpose_Prediction_Clustering',\n",
    "                  'D14_ML_Purpose_Prediction_Clustering_Free', 'D14_ML_Purpose_Prediction_Others', 'D14_ML_Purpose_Prediction_Others_Free',\n",
    "                  'D15_ML_Algorithms_Apriori', 'D15_ML_Algorithms_Bayesian', 'D15_ML_Algorithms_DBSCAN', 'D15_ML_Algorithms_Decision_Tree',\n",
    "                  'D15_ML_Algorithms_Ensembles', 'D15_ML_Algorithms_Gaussian_Mixture', 'D15_ML_Algorithms_KMeans', 'D15_ML_Algorithms_KNN',\n",
    "                  'D15_ML_Algorithms_Linear_Regression', 'D15_ML_Algorithms_Logistic_Regression', 'D15_ML_Algorithms_Naive_Bayes',\n",
    "                  'D15_ML_Algorithms_Neural_Networks', 'D15_ML_Algorithms_SVM', 'D15_ML_Algorithms_Others', 'D15_ML_Algorithms_Others_Free',\n",
    "                  'Q1_ML_Life_Cycle_Importance_Problem_Understanding', 'Q1_ML_Life_Cycle_Importance_Data_Collection', \n",
    "                  'Q1_ML_Life_Cycle_Importance_Data_Pre-Processing', 'Q1_ML_Life_Cycle_Importance_Model_Creation',\n",
    "                  'Q1_ML_Life_Cycle_Importance_Model_Evaluation', 'Q1_ML_Life_Cycle_Importance_Model_Deployment',\n",
    "                  'Q1_ML_Life_Cycle_Importance_Model_Monitoring', 'Q2_ML_Life_Cycle_Difficulty_Problem_Understanding',\n",
    "                  'Q2_ML_Life_Cycle_Difficulty_Data_Collection', 'Q2_ML_Life_Cycle_Difficulty_Data_Pre-Processing',\n",
    "                  'Q2_ML_Life_Cycle_Difficulty_Model_Creation', 'Q2_ML_Life_Cycle_Difficulty_Model_Evaluation',\n",
    "                  'Q2_ML_Life_Cycle_Difficulty_Model_Deployment', 'Q2_ML_Life_Cycle_Difficulty_Model_Monitoring',\n",
    "                  'Q3_ML_Life_Cycle_Effort_Problem_Understanding', 'Q3_ML_Life_Cycle_Effort_Data_Collection',\n",
    "                  'Q3_ML_Life_Cycle_Effort_Data_Pre-Processing', 'Q3_ML_Life_Cycle_Effort_Model_Creation',\n",
    "                  'Q3_ML_Life_Cycle_Effort_Model_Evaluation', 'Q3_ML_Life_Cycle_Effort_Model_Deployment',\n",
    "                  'Q3_ML_Life_Cycle_Effort_Model_Monitoring', 'Q4_ML_Life_Cycle_Main_Problems_Problem_Understanding_Free_First',\n",
    "                  'Q4_ML_Life_Cycle_Main_Problems_Problem_Understanding_Free_Second', \n",
    "                  'Q4_ML_Life_Cycle_Main_Problems_Problem_Understanding_Free_Third', 'Q4_ML_Life_Cycle_Main_Problems_Data_Collection_Free_First',\n",
    "                  'Q4_ML_Life_Cycle_Main_Problems_Data_Collection_Free_Second', 'Q4_ML_Life_Cycle_Main_Problems_Data_Collection_Free_Third',\n",
    "                  'Q4_ML_Life_Cycle_Main_Problems_Data_Pre-Processing_Free_First', 'Q4_ML_Life_Cycle_Main_Problems_Data_Pre-Processing_Free_Second',\n",
    "                  'Q4_ML_Life_Cycle_Main_Problems_Data_Pre-Processing_Free_Third', 'Q4_ML_Life_Cycle_Main_Problems_Model_Creation_Free_First',\n",
    "                  'Q4_ML_Life_Cycle_Main_Problems_Model_Creation_Free_Second', 'Q4_ML_Life_Cycle_Main_Problems_Model_Creation_Free_Third',\n",
    "                  'Q4_ML_Life_Cycle_Main_Problems_Model_Evaluation_Free_First', 'Q4_ML_Life_Cycle_Main_Problems_Model_Evaluation_Free_Second',\n",
    "                  'Q4_ML_Life_Cycle_Main_Problems_Model_Evaluation_Free_Third', 'Q4_ML_Life_Cycle_Main_Problems_Model_Deployment_Free_First',\n",
    "                  'Q4_ML_Life_Cycle_Main_Problems_Model_Deployment_Free_Second', 'Q4_ML_Life_Cycle_Main_Problems_Model_Deployment_Free_Third',\n",
    "                  'Q4_ML_Life_Cycle_Main_Problems_Model_Monitoring_Free_First', 'Q4_ML_Life_Cycle_Main_Problems_Model_Monitoring_Free_Second',\n",
    "                  'Q4_ML_Life_Cycle_Main_Problems_Model_Monitoring_Free_Third', 'Q4_ML_Life_Cycle_Main_Problems_Model_Other_Free_First',\n",
    "                  'Q4_ML_Life_Cycle_Main_Problems_Model_Other_Free_Second', 'Q4_ML_Life_Cycle_Main_Problems_Model_Other_Free_Third',\n",
    "                  'Q5_ML_Life_Cycle_Main_Problems_Ranking_Free_First', 'Q5_ML_Life_Cycle_Main_Problems_Ranking_Free_Second',\n",
    "                  'Q5_ML_Life_Cycle_Main_Problems_Ranking_Free_Third', 'Q6_ML_Solution_Optimality', 'Q7_ML_Solution_Optimality_Extra_Effort',\n",
    "                  'Origin']\n",
    "    \n",
    "    return df"
   ]
  },
  {
   "cell_type": "code",
   "execution_count": 18,
   "id": "572223cd",
   "metadata": {},
   "outputs": [],
   "source": [
    "# read survey csv\n",
    "df = pd.read_csv(\"data_project_851780_2022_05_02.csv\", sep=\";\")"
   ]
  },
  {
   "cell_type": "code",
   "execution_count": 19,
   "id": "1f75b1be",
   "metadata": {},
   "outputs": [
    {
     "name": "stdout",
     "output_type": "stream",
     "text": [
      "['Q8. Who is actively addressing the requirements of ML-enabled system projects in your organization?', 'Q8. Who is actively addressing the requirements of ML-enabled system projects in your organization?.1', 'Q8. Who is actively addressing the requirements of ML-enabled system projects in your organization?.2', 'Q8. Who is actively addressing the requirements of ML-enabled system projects in your organization?.3', 'Q8. Who is actively addressing the requirements of ML-enabled system projects in your organization?.4', 'Q8. Who is actively addressing the requirements of ML-enabled system projects in your organization?.5', 'Q8. Who is actively addressing the requirements of ML-enabled system projects in your organization?.6', 'Q8. Who is actively addressing the requirements of ML-enabled system projects in your organization?.7', 'Q8. Who is actively addressing the requirements of ML-enabled system projects in your organization?.8', 'Q9. How were requirements typically elicited in the ML-enabled system projects you participated in?', 'Q9. How were requirements typically elicited in the ML-enabled system projects you participated in?.1', 'Q9. How were requirements typically elicited in the ML-enabled system projects you participated in?.2', 'Q9. How were requirements typically elicited in the ML-enabled system projects you participated in?.3', 'Q9. How were requirements typically elicited in the ML-enabled system projects you participated in?.4', 'Q9. How were requirements typically elicited in the ML-enabled system projects you participated in?.5', 'Q9. How were requirements typically elicited in the ML-enabled system projects you participated in?.6', 'Q10. How were requirements typically documented in the ML-enabled system projects you participated in?', 'Q10. How were requirements typically documented in the ML-enabled system projects you participated in?.1', 'Q10. How were requirements typically documented in the ML-enabled system projects you participated in?.2', 'Q10. How were requirements typically documented in the ML-enabled system projects you participated in?.3', 'Q10. How were requirements typically documented in the ML-enabled system projects you participated in?.4', 'Q10. How were requirements typically documented in the ML-enabled system projects you participated in?.5', 'Q10. How were requirements typically documented in the ML-enabled system projects you participated in?.6', 'Q10. How were requirements typically documented in the ML-enabled system projects you participated in?.7', 'Q10. How were requirements typically documented in the ML-enabled system projects you participated in?.8', 'Q10. How were requirements typically documented in the ML-enabled system projects you participated in?.9', 'Q10. How were requirements typically documented in the ML-enabled system projects you participated in?.10', 'Q10. How were requirements typically documented in the ML-enabled system projects you participated in?.11', 'Q10. How were requirements typically documented in the ML-enabled system projects you participated in?.12', 'Q11. Which Non-Functional Requirements (NFRs) do typically play a major role in terms of criticality in the ML-enabled system projects you participated in?', 'Q11. Which Non-Functional Requirements (NFRs) do typically play a major role in terms of criticality in the ML-enabled system projects you participated in?.1', 'Q11. Which Non-Functional Requirements (NFRs) do typically play a major role in terms of criticality in the ML-enabled system projects you participated in?.2', 'Q11. Which Non-Functional Requirements (NFRs) do typically play a major role in terms of criticality in the ML-enabled system projects you participated in?.3', 'Q11. Which Non-Functional Requirements (NFRs) do typically play a major role in terms of criticality in the ML-enabled system projects you participated in?.4', 'Q11. Which Non-Functional Requirements (NFRs) do typically play a major role in terms of criticality in the ML-enabled system projects you participated in?.5', 'Q11. Which Non-Functional Requirements (NFRs) do typically play a major role in terms of criticality in the ML-enabled system projects you participated in?.6', 'Q11. Which Non-Functional Requirements (NFRs) do typically play a major role in terms of criticality in the ML-enabled system projects you participated in?.7', 'Q11. Which Non-Functional Requirements (NFRs) do typically play a major role in terms of criticality in the ML-enabled system projects you participated in?.8', 'Q11. Which Non-Functional Requirements (NFRs) do typically play a major role in terms of criticality in the ML-enabled system projects you participated in?.9', 'Q11. Which Non-Functional Requirements (NFRs) do typically play a major role in terms of criticality in the ML-enabled system projects you participated in?.10', 'Q11. Which Non-Functional Requirements (NFRs) do typically play a major role in terms of criticality in the ML-enabled system projects you participated in?.11', 'Q11. Which Non-Functional Requirements (NFRs) do typically play a major role in terms of criticality in the ML-enabled system projects you participated in?.12', 'Q11. Which Non-Functional Requirements (NFRs) do typically play a major role in terms of criticality in the ML-enabled system projects you participated in?.13', 'Q11. Which Non-Functional Requirements (NFRs) do typically play a major role in terms of criticality in the ML-enabled system projects you participated in?.14', 'Q11. Which Non-Functional Requirements (NFRs) do typically play a major role in terms of criticality in the ML-enabled system projects you participated in?.15', 'Q11. Which Non-Functional Requirements (NFRs) do typically play a major role in terms of criticality in the ML-enabled system projects you participated in?.16', 'Q11. Which Non-Functional Requirements (NFRs) do typically play a major role in terms of criticality in the ML-enabled system projects you participated in?.17', 'Q11. Which Non-Functional Requirements (NFRs) do typically play a major role in terms of criticality in the ML-enabled system projects you participated in?.18', 'Q12. Based on your experience, what activities do you consider to be most difficult when defining requirements for ML-enabled systems?', 'Q12. Based on your experience, what activities do you consider to be most difficult when defining requirements for ML-enabled systems?.1', 'Q12. Based on your experience, what activities do you consider to be most difficult when defining requirements for ML-enabled systems?.2', 'Q12. Based on your experience, what activities do you consider to be most difficult when defining requirements for ML-enabled systems?.3', 'Q12. Based on your experience, what activities do you consider to be most difficult when defining requirements for ML-enabled systems?.4', 'Q12. Based on your experience, what activities do you consider to be most difficult when defining requirements for ML-enabled systems?.5', 'Q12. Based on your experience, what activities do you consider to be most difficult when defining requirements for ML-enabled systems?.6', 'Q12. Based on your experience, what activities do you consider to be most difficult when defining requirements for ML-enabled systems?.7', 'Q12. Based on your experience, what activities do you consider to be most difficult when defining requirements for ML-enabled systems?.8', 'Q12. Based on your experience, what activities do you consider to be most difficult when defining requirements for ML-enabled systems?.9', 'Q12. Based on your experience, what activities do you consider to be most difficult when defining requirements for ML-enabled systems?.10', 'Q13. In the context of the ML-enabled system projects you participated in, which approach is typically used to deploy ML models?', 'Q13. In the context of the ML-enabled system projects you participated in, which approach is typically used to deploy ML models?.1', 'Q13. In the context of the ML-enabled system projects you participated in, which approach is typically used to deploy ML models?.2', 'Q13. In the context of the ML-enabled system projects you participated in, which approach is typically used to deploy ML models?.3', 'Q13. In the context of the ML-enabled system projects you participated in, which approach is typically used to deploy ML models?.4', 'Q14. Do you/your organization follow the practice and principles of ML-Ops in ML-enabled system projects? For instance, do you have an automated pipeline to retrain and deploy your ML models?', 'Q14. Do you/your organization follow the practice and principles of ML-Ops in ML-enabled system projects? For instance, do you have an automated pipeline to retrain and deploy your ML models?.1', 'Q14. Do you/your organization follow the practice and principles of ML-Ops in ML-enabled system projects? For instance, do you have an automated pipeline to retrain and deploy your ML models?.2', 'Q15. Based on your experience, what percentage of the ML-enabled system projects that get deployed into production\\xa0have their ML models\\xa0actually being monitored?', 'Q16. Which of the following ML model aspects are monitored for the deployed ML-enabled system projects you have worked on?', 'Q16. Which of the following ML model aspects are monitored for the deployed ML-enabled system projects you have worked on?.1', 'Q16. Which of the following ML model aspects are monitored for the deployed ML-enabled system projects you have worked on?.2', 'Q16. Which of the following ML model aspects are monitored for the deployed ML-enabled system projects you have worked on?.3', 'Q16. Which of the following ML model aspects are monitored for the deployed ML-enabled system projects you have worked on?.4', 'Q16. Which of the following ML model aspects are monitored for the deployed ML-enabled system projects you have worked on?.5', 'Q17. Do you use Automated Machine Learning (AutoML) tools (e.g., AutoWEKA, Auto-sklearn, Auto-PyTorch), in your ML-enabled system projects?', 'Q17. Do you use Automated Machine Learning (AutoML) tools (e.g., AutoWEKA, Auto-sklearn, Auto-PyTorch), in your ML-enabled system projects?.1', 'In case you would like to be notified about the results, please fill in your email address.', 'Unnamed: 206', 'Unnamed: 208', 'Unnamed: 209', 'Unnamed: 210', 'Unnamed: 211', 'Unnamed: 212', 'Unnamed: 213', 'Unnamed: 214', 'Unnamed: 215', 'Unnamed: 216', 'Unnamed: 217', 'Unnamed: 218', 'Unnamed: 219', 'Unnamed: 220', 'Unnamed: 221', 'Unnamed: 222', 'Unnamed: 223', 'Unnamed: 224', 'Unnamed: 225', 'Unnamed: 226', 'Unnamed: 227', 'Unnamed: 228', 'Unnamed: 1', 'Unnamed: 2', 'Unnamed: 4', 'Unnamed: 5']\n"
     ]
    },
    {
     "ename": "NameError",
     "evalue": "name 'unnecessary_columns' is not defined",
     "output_type": "error",
     "traceback": [
      "\u001b[1;31m---------------------------------------------------------------------------\u001b[0m",
      "\u001b[1;31mNameError\u001b[0m                                 Traceback (most recent call last)",
      "Input \u001b[1;32mIn [19]\u001b[0m, in \u001b[0;36m<cell line: 2>\u001b[1;34m()\u001b[0m\n\u001b[0;32m      1\u001b[0m \u001b[38;5;66;03m# format df for a better understanding of columns and data\u001b[39;00m\n\u001b[1;32m----> 2\u001b[0m df \u001b[38;5;241m=\u001b[39m \u001b[43mformat_df\u001b[49m\u001b[43m(\u001b[49m\u001b[43mdf\u001b[49m\u001b[43m)\u001b[49m\n",
      "Input \u001b[1;32mIn [17]\u001b[0m, in \u001b[0;36mformat_df\u001b[1;34m(df)\u001b[0m\n\u001b[0;32m     83\u001b[0m \u001b[38;5;28mprint\u001b[39m(unnecessary_columns)\n\u001b[0;32m     84\u001b[0m \u001b[38;5;66;03m# drop all the columns which are not useful for us\u001b[39;00m\n\u001b[1;32m---> 85\u001b[0m df \u001b[38;5;241m=\u001b[39m \u001b[43mremove_columns\u001b[49m\u001b[43m(\u001b[49m\u001b[43mdf\u001b[49m\u001b[43m,\u001b[49m\u001b[43m \u001b[49m\u001b[43munnecessary_columns\u001b[49m\u001b[43m)\u001b[49m\n\u001b[0;32m     86\u001b[0m \u001b[38;5;66;03m# remove the first two rows - unnecessary data describing the columns\u001b[39;00m\n\u001b[0;32m     87\u001b[0m df \u001b[38;5;241m=\u001b[39m remove_rows(df, [\u001b[38;5;241m0\u001b[39m, \u001b[38;5;241m1\u001b[39m])\n",
      "Input \u001b[1;32mIn [12]\u001b[0m, in \u001b[0;36mremove_columns\u001b[1;34m(df, columns)\u001b[0m\n\u001b[0;32m      2\u001b[0m \u001b[38;5;28;01mdef\u001b[39;00m \u001b[38;5;21mremove_columns\u001b[39m(df, columns):\n\u001b[1;32m----> 3\u001b[0m     df \u001b[38;5;241m=\u001b[39m df\u001b[38;5;241m.\u001b[39mdrop(columns\u001b[38;5;241m=\u001b[39m\u001b[43munnecessary_columns\u001b[49m)\n\u001b[0;32m      4\u001b[0m     \u001b[38;5;28;01mreturn\u001b[39;00m df\n",
      "\u001b[1;31mNameError\u001b[0m: name 'unnecessary_columns' is not defined"
     ]
    }
   ],
   "source": [
    "# format df for a better understanding of columns and data\n",
    "df = format_df(df)"
   ]
  },
  {
   "cell_type": "code",
   "execution_count": null,
   "id": "8c521a8e",
   "metadata": {},
   "outputs": [],
   "source": [
    "df.head(50)"
   ]
  },
  {
   "cell_type": "code",
   "execution_count": null,
   "id": "1c6aa4df",
   "metadata": {},
   "outputs": [],
   "source": []
  }
 ],
 "metadata": {
  "kernelspec": {
   "display_name": "Python 3 (ipykernel)",
   "language": "python",
   "name": "python3"
  },
  "language_info": {
   "codemirror_mode": {
    "name": "ipython",
    "version": 3
   },
   "file_extension": ".py",
   "mimetype": "text/x-python",
   "name": "python",
   "nbconvert_exporter": "python",
   "pygments_lexer": "ipython3",
   "version": "3.8.10"
  }
 },
 "nbformat": 4,
 "nbformat_minor": 5
}

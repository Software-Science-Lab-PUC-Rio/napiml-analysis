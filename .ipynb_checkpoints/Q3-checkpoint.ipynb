{
 "cells": [
  {
   "cell_type": "markdown",
   "id": "e51a08d7",
   "metadata": {},
   "source": [
    "# Question Q3"
   ]
  },
  {
   "cell_type": "markdown",
   "id": "2fd949b9",
   "metadata": {},
   "source": [
    "*Question*: How much percentage of effort do you think is spent in each of the seven ML life cycle stages?"
   ]
  },
  {
   "cell_type": "markdown",
   "id": "909b1af1",
   "metadata": {},
   "source": [
    "*Answer Type*: Multiple Numerical"
   ]
  },
  {
   "cell_type": "markdown",
   "id": "abaedda1",
   "metadata": {},
   "source": [
    "### Necessary Libraries"
   ]
  },
  {
   "cell_type": "code",
   "execution_count": 1,
   "id": "473efead",
   "metadata": {},
   "outputs": [],
   "source": [
    "import pandas as pd\n",
    "from utils.basic import rename_values\n",
    "from utils.dataframe import DataframeUtils\n",
    "from utils.plot import PlotUtils\n",
    "from utils.bootstrapping import BootstrappingUtils"
   ]
  },
  {
   "cell_type": "markdown",
   "id": "c4446d40",
   "metadata": {},
   "source": [
    "### Dataframe Init"
   ]
  },
  {
   "cell_type": "code",
   "execution_count": 2,
   "id": "ea2ac190",
   "metadata": {},
   "outputs": [],
   "source": [
    "dataframe_obj = DataframeUtils('./data/main_data.csv', ';', './data/unused_columns.txt', './data/formatted_columns.txt')\n",
    "# the index is not important, but when we internally format df we need to reset index\n",
    "dataframe_obj.df = dataframe_obj.df.reset_index(drop=True)"
   ]
  },
  {
   "cell_type": "markdown",
   "id": "13410c90-d5de-44c4-9c6b-e6edca171f8b",
   "metadata": {},
   "source": [
    "In this research, we conservatively considered those who fully completed the survey. So, we discarded suspended submissions."
   ]
  },
  {
   "cell_type": "code",
   "execution_count": 3,
   "id": "54ea596c-28d8-4134-9733-dbe2a7903888",
   "metadata": {},
   "outputs": [],
   "source": [
    "dataframe_obj.df.drop(dataframe_obj.df[dataframe_obj.df['Status'] == 'Suspended (22)'].index, inplace = True)"
   ]
  },
  {
   "cell_type": "code",
   "execution_count": 4,
   "id": "090aeb30",
   "metadata": {},
   "outputs": [],
   "source": [
    "ml_stages = {\n",
    "    'Q3_ML_Life_Cycle_Effort_Problem_Understanding': 'Problem Understanding',\n",
    "    'Q3_ML_Life_Cycle_Effort_Data_Collection': 'Data Collection',\n",
    "    'Q3_ML_Life_Cycle_Effort_Data_Pre-Processing': 'Data Pre-Processing',\n",
    "    'Q3_ML_Life_Cycle_Effort_Model_Creation': 'Model Creation',\n",
    "    'Q3_ML_Life_Cycle_Effort_Model_Evaluation': 'Model Evaluation',\n",
    "    'Q3_ML_Life_Cycle_Effort_Model_Deployment': 'Model Deployment',\n",
    "    'Q3_ML_Life_Cycle_Effort_Model_Monitoring': 'Model Monitoring'\n",
    "}"
   ]
  },
  {
   "cell_type": "markdown",
   "id": "5b60fc63",
   "metadata": {},
   "source": [
    "### Basic Analysis"
   ]
  },
  {
   "cell_type": "code",
   "execution_count": 5,
   "id": "83000cd3",
   "metadata": {},
   "outputs": [
    {
     "data": {
      "text/html": [
       "<div>\n",
       "<style scoped>\n",
       "    .dataframe tbody tr th:only-of-type {\n",
       "        vertical-align: middle;\n",
       "    }\n",
       "\n",
       "    .dataframe tbody tr th {\n",
       "        vertical-align: top;\n",
       "    }\n",
       "\n",
       "    .dataframe thead th {\n",
       "        text-align: right;\n",
       "    }\n",
       "</style>\n",
       "<table border=\"1\" class=\"dataframe\">\n",
       "  <thead>\n",
       "    <tr style=\"text-align: right;\">\n",
       "      <th></th>\n",
       "      <th>Q3_ML_Life_Cycle_Effort_Problem_Understanding</th>\n",
       "      <th>Q3_ML_Life_Cycle_Effort_Data_Collection</th>\n",
       "      <th>Q3_ML_Life_Cycle_Effort_Data_Pre-Processing</th>\n",
       "      <th>Q3_ML_Life_Cycle_Effort_Model_Creation</th>\n",
       "      <th>Q3_ML_Life_Cycle_Effort_Model_Evaluation</th>\n",
       "      <th>Q3_ML_Life_Cycle_Effort_Model_Deployment</th>\n",
       "      <th>Q3_ML_Life_Cycle_Effort_Model_Monitoring</th>\n",
       "    </tr>\n",
       "  </thead>\n",
       "  <tbody>\n",
       "    <tr>\n",
       "      <th>0</th>\n",
       "      <td>5</td>\n",
       "      <td>20</td>\n",
       "      <td>30</td>\n",
       "      <td>25</td>\n",
       "      <td>12</td>\n",
       "      <td>5</td>\n",
       "      <td>3</td>\n",
       "    </tr>\n",
       "    <tr>\n",
       "      <th>1</th>\n",
       "      <td>30</td>\n",
       "      <td>12</td>\n",
       "      <td>12</td>\n",
       "      <td>12</td>\n",
       "      <td>12</td>\n",
       "      <td>12</td>\n",
       "      <td>10</td>\n",
       "    </tr>\n",
       "    <tr>\n",
       "      <th>2</th>\n",
       "      <td>20</td>\n",
       "      <td>10</td>\n",
       "      <td>15</td>\n",
       "      <td>20</td>\n",
       "      <td>5</td>\n",
       "      <td>15</td>\n",
       "      <td>15</td>\n",
       "    </tr>\n",
       "    <tr>\n",
       "      <th>3</th>\n",
       "      <td>30</td>\n",
       "      <td>10</td>\n",
       "      <td>10</td>\n",
       "      <td>25</td>\n",
       "      <td>10</td>\n",
       "      <td>15</td>\n",
       "      <td>0</td>\n",
       "    </tr>\n",
       "    <tr>\n",
       "      <th>4</th>\n",
       "      <td>15</td>\n",
       "      <td>10</td>\n",
       "      <td>10</td>\n",
       "      <td>15</td>\n",
       "      <td>15</td>\n",
       "      <td>25</td>\n",
       "      <td>10</td>\n",
       "    </tr>\n",
       "  </tbody>\n",
       "</table>\n",
       "</div>"
      ],
      "text/plain": [
       "  Q3_ML_Life_Cycle_Effort_Problem_Understanding  \\\n",
       "0                                             5   \n",
       "1                                            30   \n",
       "2                                            20   \n",
       "3                                            30   \n",
       "4                                            15   \n",
       "\n",
       "  Q3_ML_Life_Cycle_Effort_Data_Collection  \\\n",
       "0                                      20   \n",
       "1                                      12   \n",
       "2                                      10   \n",
       "3                                      10   \n",
       "4                                      10   \n",
       "\n",
       "  Q3_ML_Life_Cycle_Effort_Data_Pre-Processing  \\\n",
       "0                                          30   \n",
       "1                                          12   \n",
       "2                                          15   \n",
       "3                                          10   \n",
       "4                                          10   \n",
       "\n",
       "  Q3_ML_Life_Cycle_Effort_Model_Creation  \\\n",
       "0                                     25   \n",
       "1                                     12   \n",
       "2                                     20   \n",
       "3                                     25   \n",
       "4                                     15   \n",
       "\n",
       "  Q3_ML_Life_Cycle_Effort_Model_Evaluation  \\\n",
       "0                                       12   \n",
       "1                                       12   \n",
       "2                                        5   \n",
       "3                                       10   \n",
       "4                                       15   \n",
       "\n",
       "  Q3_ML_Life_Cycle_Effort_Model_Deployment  \\\n",
       "0                                        5   \n",
       "1                                       12   \n",
       "2                                       15   \n",
       "3                                       15   \n",
       "4                                       25   \n",
       "\n",
       "  Q3_ML_Life_Cycle_Effort_Model_Monitoring  \n",
       "0                                        3  \n",
       "1                                       10  \n",
       "2                                       15  \n",
       "3                                        0  \n",
       "4                                       10  "
      ]
     },
     "execution_count": 5,
     "metadata": {},
     "output_type": "execute_result"
    }
   ],
   "source": [
    "dataframe_obj.df[['Q3_ML_Life_Cycle_Effort_Problem_Understanding', 'Q3_ML_Life_Cycle_Effort_Data_Collection',\n",
    "'Q3_ML_Life_Cycle_Effort_Data_Pre-Processing', 'Q3_ML_Life_Cycle_Effort_Model_Creation', \n",
    "'Q3_ML_Life_Cycle_Effort_Model_Evaluation', 'Q3_ML_Life_Cycle_Effort_Model_Deployment',\n",
    "'Q3_ML_Life_Cycle_Effort_Model_Monitoring']].head()"
   ]
  },
  {
   "cell_type": "code",
   "execution_count": 6,
   "id": "4de62ac1",
   "metadata": {},
   "outputs": [],
   "source": [
    "# cleaning data in all Q3 columns\n",
    "dataframe_obj.replace_value_by_condition(\n",
    "    'Q3_ML_Life_Cycle_Effort_Problem_Understanding', \"-66\", \"0\", \"eq\")\n",
    "dataframe_obj.replace_value_by_condition(\n",
    "    'Q3_ML_Life_Cycle_Effort_Data_Collection', \"-66\", \"0\", \"eq\")\n",
    "dataframe_obj.replace_value_by_condition(\n",
    "    'Q3_ML_Life_Cycle_Effort_Data_Pre-Processing', \"-66\", \"0\", \"eq\")\n",
    "dataframe_obj.replace_value_by_condition(\n",
    "    'Q3_ML_Life_Cycle_Effort_Model_Creation', \"-66\", \"0\", \"eq\")\n",
    "dataframe_obj.replace_value_by_condition(\n",
    "    'Q3_ML_Life_Cycle_Effort_Model_Evaluation', \"-66\", \"0\", \"eq\")\n",
    "dataframe_obj.replace_value_by_condition(\n",
    "    'Q3_ML_Life_Cycle_Effort_Model_Deployment', \"-66\", \"0\", \"eq\")\n",
    "dataframe_obj.replace_value_by_condition(\n",
    "    'Q3_ML_Life_Cycle_Effort_Model_Monitoring', \"-66\", \"0\", \"eq\")\n"
   ]
  },
  {
   "cell_type": "code",
   "execution_count": 7,
   "id": "d81b48f6",
   "metadata": {},
   "outputs": [],
   "source": [
    "# convert column to integer - if you read before this line, you will get an string like '14'\n",
    "dataframe_obj.df = dataframe_obj.df.astype({\"Q3_ML_Life_Cycle_Effort_Problem_Understanding\": int}, errors='raise') \n",
    "dataframe_obj.df = dataframe_obj.df.astype({\"Q3_ML_Life_Cycle_Effort_Data_Collection\": int}, errors='raise') \n",
    "dataframe_obj.df = dataframe_obj.df.astype({\"Q3_ML_Life_Cycle_Effort_Data_Pre-Processing\": int}, errors='raise') \n",
    "dataframe_obj.df = dataframe_obj.df.astype({\"Q3_ML_Life_Cycle_Effort_Model_Creation\": int}, errors='raise') \n",
    "dataframe_obj.df = dataframe_obj.df.astype({\"Q3_ML_Life_Cycle_Effort_Model_Evaluation\": int}, errors='raise') \n",
    "dataframe_obj.df = dataframe_obj.df.astype({\"Q3_ML_Life_Cycle_Effort_Model_Deployment\": int}, errors='raise') \n",
    "dataframe_obj.df = dataframe_obj.df.astype({\"Q3_ML_Life_Cycle_Effort_Model_Monitoring\": int}, errors='raise') "
   ]
  },
  {
   "cell_type": "code",
   "execution_count": 8,
   "id": "59a19784-fc90-47a8-a11c-e70d8d6be058",
   "metadata": {},
   "outputs": [],
   "source": [
    "indexes = ['Problem Understanding', 'Data Collection', 'Data Pre-Processing', \n",
    "           'Model Creation and Training', 'Model Evaluation', 'Model Deployment', 'Model Monitoring']\n",
    "values = [\n",
    "    dataframe_obj.df['Q3_ML_Life_Cycle_Effort_Problem_Understanding'].mean(),\n",
    "    dataframe_obj.df['Q3_ML_Life_Cycle_Effort_Data_Collection'].mean(),\n",
    "    dataframe_obj.df['Q3_ML_Life_Cycle_Effort_Data_Pre-Processing'].mean(),\n",
    "    dataframe_obj.df['Q3_ML_Life_Cycle_Effort_Model_Creation'].mean(),\n",
    "    dataframe_obj.df['Q3_ML_Life_Cycle_Effort_Model_Evaluation'].mean(),\n",
    "    dataframe_obj.df['Q3_ML_Life_Cycle_Effort_Model_Deployment'].mean(),\n",
    "    dataframe_obj.df['Q3_ML_Life_Cycle_Effort_Model_Monitoring'].mean()\n",
    "]\n",
    "chart_positions = [1/(i + 1)  for i in range(len(indexes))] # decreasing"
   ]
  },
  {
   "cell_type": "code",
   "execution_count": 9,
   "id": "993f92ba-03f1-45a9-bfb4-22f564185101",
   "metadata": {},
   "outputs": [],
   "source": [
    "# compute total of unique answers in this question (all have the same length)\n",
    "total_answers_int = len(dataframe_obj.df['Q3_ML_Life_Cycle_Effort_Problem_Understanding'])\n",
    "total_answers = 'N = ' + str(len(dataframe_obj.df['Q3_ML_Life_Cycle_Effort_Problem_Understanding']))"
   ]
  },
  {
   "cell_type": "code",
   "execution_count": 10,
   "id": "1bfbf3a5-1b6d-4fd7-aa2e-7614c50af2a0",
   "metadata": {},
   "outputs": [],
   "source": [
    "# plot object\n",
    "q3_plot = PlotUtils(pd.DataFrame(\n",
    "    data={'Effort': indexes, 'Answers': values, 'Chart Position': chart_positions}\n",
    ").sort_values(by=['Chart Position', 'Answers'], ascending=False))"
   ]
  },
  {
   "cell_type": "code",
   "execution_count": 11,
   "id": "697cb9cf-3358-430a-97a6-79e541eeebdb",
   "metadata": {},
   "outputs": [
    {
     "data": {
      "image/png": "[encoded data removed]",
      "text/plain": [
       "<Figure size 1012.22x500 with 1 Axes>"
      ]
     },
     "metadata": {},
     "output_type": "display_data"
    }
   ],
   "source": [
    "q3_plot.single_barplot(x_axis=\"Answers\", y_axis=\"Effort\",\n",
    "                       title=\"How much percentage of effort do you think is spent in each of the seven ML life cycle stages? (Mean)\",\n",
    "                       x_label=\"Answers\", y_label=\"Effort\", x_label_rotation=0, color=\"#429bf5\", total_answers=total_answers)"
   ]
  },
  {
   "cell_type": "markdown",
   "id": "2362eae7",
   "metadata": {},
   "source": [
    "### Bootstrapping Analysis"
   ]
  },
  {
   "cell_type": "markdown",
   "id": "92e8d386-59df-414a-9e6b-8d69203749bb",
   "metadata": {},
   "source": [
    "#### Problem Understanding"
   ]
  },
  {
   "cell_type": "code",
   "execution_count": 12,
   "id": "681ff9d3-5b95-4bf1-9bf8-b87a7ae3df34",
   "metadata": {},
   "outputs": [],
   "source": [
    "# each ML stage has a different distribution of answers\n",
    "valid_answers_list = list(dataframe_obj.df['Q3_ML_Life_Cycle_Effort_Problem_Understanding'])\n",
    "total_answers_int = len(dataframe_obj.df['Q3_ML_Life_Cycle_Effort_Problem_Understanding'])"
   ]
  },
  {
   "cell_type": "code",
   "execution_count": 13,
   "id": "421e4b9b-adaa-4e2f-87d0-6f0423825d05",
   "metadata": {},
   "outputs": [],
   "source": [
    "replacements = 1000\n",
    "population_sample_size = total_answers_int # equals n - total valid answers\n",
    "\n",
    "bootstrapping_problem_understanding_obj = BootstrappingUtils(valid_answers_list, [], replacements, population_sample_size, 95)"
   ]
  },
  {
   "cell_type": "code",
   "execution_count": 14,
   "id": "c790b189-f21b-4139-83b4-ae487d35da48",
   "metadata": {},
   "outputs": [],
   "source": [
    "bootstrapped_problem_understanding_list_data = bootstrapping_problem_understanding_obj.bootstrapping_numerical_fields()"
   ]
  },
  {
   "cell_type": "markdown",
   "id": "7b3dfecb-e003-4181-999c-1ef657dc2776",
   "metadata": {},
   "source": [
    "#### Data Collection"
   ]
  },
  {
   "cell_type": "code",
   "execution_count": 15,
   "id": "bfe67b17-f26e-436a-bb72-ccd2f50080e6",
   "metadata": {},
   "outputs": [],
   "source": [
    "# each ML stage has a different distribution of answers\n",
    "valid_answers_list = list(dataframe_obj.df['Q3_ML_Life_Cycle_Effort_Data_Collection'])\n",
    "total_answers_int = len(dataframe_obj.df['Q3_ML_Life_Cycle_Effort_Data_Collection'])"
   ]
  },
  {
   "cell_type": "code",
   "execution_count": 16,
   "id": "b9b72a4f-3965-4a1c-bbe9-84bbc3d55b2c",
   "metadata": {},
   "outputs": [],
   "source": [
    "replacements = 1000\n",
    "population_sample_size = total_answers_int # equals n - total valid answers\n",
    "\n",
    "bootstrapping_data_collection_obj = BootstrappingUtils(valid_answers_list, [], replacements, population_sample_size, 95)"
   ]
  },
  {
   "cell_type": "code",
   "execution_count": 17,
   "id": "83f008c4-4d25-408d-9cd5-820e462f2887",
   "metadata": {},
   "outputs": [],
   "source": [
    "bootstrapped_data_collection_list_data = bootstrapping_data_collection_obj.bootstrapping_numerical_fields()"
   ]
  },
  {
   "cell_type": "markdown",
   "id": "0f2b54da-68c0-40bb-b04d-30a35d9bd56a",
   "metadata": {},
   "source": [
    "#### Data Pre-Processing"
   ]
  },
  {
   "cell_type": "code",
   "execution_count": 18,
   "id": "b9c03765-7ae3-4906-b0f6-5840f7242cd9",
   "metadata": {},
   "outputs": [],
   "source": [
    "# each ML stage has a different distribution of answers\n",
    "valid_answers_list = list(dataframe_obj.df['Q3_ML_Life_Cycle_Effort_Data_Pre-Processing'])\n",
    "total_answers_int = len(dataframe_obj.df['Q3_ML_Life_Cycle_Effort_Data_Pre-Processing'])"
   ]
  },
  {
   "cell_type": "code",
   "execution_count": 19,
   "id": "d450ce7b-e427-4a79-8904-3c3ccf490ac2",
   "metadata": {},
   "outputs": [],
   "source": [
    "replacements = 1000\n",
    "population_sample_size = total_answers_int # equals n - total valid answers\n",
    "\n",
    "bootstrapping_data_preprocessing_obj = BootstrappingUtils(valid_answers_list, [], replacements, population_sample_size, 95)"
   ]
  },
  {
   "cell_type": "code",
   "execution_count": 20,
   "id": "67ca0b31-85c0-4e63-a4ce-2962d2bee21e",
   "metadata": {},
   "outputs": [],
   "source": [
    "bootstrapped_data_preprocessing_list_data = bootstrapping_data_preprocessing_obj.bootstrapping_numerical_fields()"
   ]
  },
  {
   "cell_type": "markdown",
   "id": "ab0b56ab-bf71-4477-9b1f-7130b7057167",
   "metadata": {},
   "source": [
    "#### Model Creation and Training"
   ]
  },
  {
   "cell_type": "code",
   "execution_count": 21,
   "id": "21d27cd9-c51c-4b59-bbd6-e9320bd6ee1b",
   "metadata": {},
   "outputs": [],
   "source": [
    "# each ML stage has a different distribution of answers\n",
    "valid_answers_list = list(dataframe_obj.df['Q3_ML_Life_Cycle_Effort_Model_Creation'])\n",
    "total_answers_int = len(dataframe_obj.df['Q3_ML_Life_Cycle_Effort_Model_Creation'])"
   ]
  },
  {
   "cell_type": "code",
   "execution_count": 22,
   "id": "86e5bd4b-f695-4af8-867a-5f212266b139",
   "metadata": {},
   "outputs": [],
   "source": [
    "replacements = 1000\n",
    "population_sample_size = total_answers_int # equals n - total valid answers\n",
    "\n",
    "bootstrapping_model_creation_obj = BootstrappingUtils(valid_answers_list, [], replacements, population_sample_size, 95)"
   ]
  },
  {
   "cell_type": "code",
   "execution_count": 23,
   "id": "c7e19d9b-2b33-4f05-b7c3-32a4444515e9",
   "metadata": {},
   "outputs": [],
   "source": [
    "bootstrapped_model_creation_list_data = bootstrapping_model_creation_obj.bootstrapping_numerical_fields()"
   ]
  },
  {
   "cell_type": "markdown",
   "id": "0a374338-1bd7-49b1-a259-6b20e062b40b",
   "metadata": {},
   "source": [
    "#### Model Evaluation"
   ]
  },
  {
   "cell_type": "code",
   "execution_count": 24,
   "id": "f62a9542-6d18-4eed-9244-2bf17247aaec",
   "metadata": {},
   "outputs": [],
   "source": [
    "# each ML stage has a different distribution of answers\n",
    "valid_answers_list = list(dataframe_obj.df['Q3_ML_Life_Cycle_Effort_Model_Evaluation'])\n",
    "total_answers_int = len(dataframe_obj.df['Q3_ML_Life_Cycle_Effort_Model_Evaluation'])"
   ]
  },
  {
   "cell_type": "code",
   "execution_count": 25,
   "id": "a12b99af-4bdd-4292-bd1c-35680887d91c",
   "metadata": {},
   "outputs": [],
   "source": [
    "replacements = 1000\n",
    "population_sample_size = total_answers_int # equals n - total valid answers\n",
    "\n",
    "bootstrapping_model_evaluation_obj = BootstrappingUtils(valid_answers_list, [], replacements, population_sample_size, 95)"
   ]
  },
  {
   "cell_type": "code",
   "execution_count": 26,
   "id": "0af9426f-b07a-4a1f-a747-c8357287e86f",
   "metadata": {},
   "outputs": [],
   "source": [
    "bootstrapped_model_evaluation_list_data = bootstrapping_model_evaluation_obj.bootstrapping_numerical_fields()"
   ]
  },
  {
   "cell_type": "markdown",
   "id": "fe571276-5ba5-48b0-8015-20b0ff090114",
   "metadata": {},
   "source": [
    "#### Model Deployment"
   ]
  },
  {
   "cell_type": "code",
   "execution_count": 27,
   "id": "9ad511f3-f950-4bb4-8157-fe80330f893e",
   "metadata": {},
   "outputs": [],
   "source": [
    "# each ML stage has a different distribution of answers\n",
    "valid_answers_list = list(dataframe_obj.df['Q3_ML_Life_Cycle_Effort_Model_Deployment'])\n",
    "total_answers_int = len(dataframe_obj.df['Q3_ML_Life_Cycle_Effort_Model_Deployment'])"
   ]
  },
  {
   "cell_type": "code",
   "execution_count": 28,
   "id": "a08c3c62-fb61-4b07-95e7-84e857711316",
   "metadata": {},
   "outputs": [],
   "source": [
    "replacements = 1000\n",
    "population_sample_size = total_answers_int # equals n - total valid answers\n",
    "\n",
    "bootstrapping_model_deployment_obj = BootstrappingUtils(valid_answers_list, [], replacements, population_sample_size, 95)"
   ]
  },
  {
   "cell_type": "code",
   "execution_count": 29,
   "id": "61cdc62d-759c-47ea-9ba8-ec1299162185",
   "metadata": {},
   "outputs": [],
   "source": [
    "bootstrapped_model_deployment_list_data = bootstrapping_model_deployment_obj.bootstrapping_numerical_fields()"
   ]
  },
  {
   "cell_type": "markdown",
   "id": "87b1a466-53fa-476a-aad5-757b5777f200",
   "metadata": {},
   "source": [
    "#### Model Monitoring"
   ]
  },
  {
   "cell_type": "code",
   "execution_count": 30,
   "id": "be8ef580-f801-4810-9f15-643f1aaa6676",
   "metadata": {},
   "outputs": [],
   "source": [
    "# each ML stage has a different distribution of answers\n",
    "valid_answers_list = list(dataframe_obj.df['Q3_ML_Life_Cycle_Effort_Model_Monitoring'])\n",
    "total_answers_int = len(dataframe_obj.df['Q3_ML_Life_Cycle_Effort_Model_Monitoring'])"
   ]
  },
  {
   "cell_type": "code",
   "execution_count": 31,
   "id": "e1ecc0d9-8680-418e-af0e-60b30ead5081",
   "metadata": {},
   "outputs": [],
   "source": [
    "replacements = 1000\n",
    "population_sample_size = total_answers_int # equals n - total valid answers\n",
    "\n",
    "bootstrapping_model_monitoring_obj = BootstrappingUtils(valid_answers_list, [], replacements, population_sample_size, 95)"
   ]
  },
  {
   "cell_type": "code",
   "execution_count": 32,
   "id": "43e910b6-250c-48e7-9370-e8b6e00c3b63",
   "metadata": {},
   "outputs": [],
   "source": [
    "bootstrapped_model_monitoring_list_data = bootstrapping_model_monitoring_obj.bootstrapping_numerical_fields()"
   ]
  },
  {
   "cell_type": "markdown",
   "id": "65737e3e-1bb9-4e8b-a71d-9ad7c9295539",
   "metadata": {},
   "source": [
    "#### Chart"
   ]
  },
  {
   "cell_type": "code",
   "execution_count": 33,
   "id": "a35ad31b-dd95-486b-85a9-7b97af052448",
   "metadata": {},
   "outputs": [
    {
     "name": "stdout",
     "output_type": "stream",
     "text": [
      "188\n",
      "188\n",
      "188\n",
      "188\n",
      "188\n",
      "188\n",
      "188\n"
     ]
    }
   ],
   "source": [
    "print(len(bootstrapped_problem_understanding_list_data['population']))\n",
    "print(len(bootstrapped_data_collection_list_data['population']))\n",
    "print(len(bootstrapped_data_preprocessing_list_data['population']))\n",
    "print(len(bootstrapped_model_creation_list_data['population']))\n",
    "print(len(bootstrapped_model_evaluation_list_data['population']))\n",
    "print(len(bootstrapped_model_deployment_list_data['population']))\n",
    "print(len(bootstrapped_model_monitoring_list_data['population']))"
   ]
  },
  {
   "cell_type": "code",
   "execution_count": 34,
   "id": "51e1124a-400a-4489-ae75-8fc77df3d1a9",
   "metadata": {},
   "outputs": [],
   "source": [
    "indexes = []\n",
    "values = []\n",
    "chart_positions = []\n",
    "for problem_understanding, data_collection, data_preprocessing, model_creation, model_evaluation, model_deployment, model_monitoring in zip(bootstrapped_problem_understanding_list_data['population'], bootstrapped_data_collection_list_data['population'], bootstrapped_data_preprocessing_list_data['population'], bootstrapped_model_creation_list_data['population'], bootstrapped_model_evaluation_list_data['population'], bootstrapped_model_deployment_list_data['population'], bootstrapped_model_monitoring_list_data['population']):\n",
    "    indexes.extend(['Problem Understanding', 'Data Collection', 'Data Pre-Processing', 'Model Creation and Training', \n",
    "                    'Model Evaluation', 'Model Deployment', 'Model Monitoring'])\n",
    "    values.extend([problem_understanding, data_collection, data_preprocessing, model_creation, model_evaluation, model_deployment, model_monitoring])\n",
    "    chart_positions.extend([7, 6, 5, 4, 3, 2, 1])"
   ]
  },
  {
   "cell_type": "code",
   "execution_count": 35,
   "id": "b5dcb4ad-67e8-4015-a2da-95631e2e2c5a",
   "metadata": {},
   "outputs": [],
   "source": [
    "# plot object for bootstrapped data\n",
    "q3_boot_plot = PlotUtils(pd.DataFrame(\n",
    "    data={'Effort': indexes, 'Value': values, 'Chart Position': chart_positions}\n",
    ").sort_values(by=['Chart Position', 'Value'], ascending=False))"
   ]
  },
  {
   "cell_type": "code",
   "execution_count": 36,
   "id": "b3568f48-73e0-49ad-8c2e-4be6debcc4c0",
   "metadata": {},
   "outputs": [
    {
     "data": {
      "image/png": "[encoded data removed]",
      "text/plain": [
       "<Figure size 1012.22x500 with 1 Axes>"
      ]
     },
     "metadata": {},
     "output_type": "display_data"
    }
   ],
   "source": [
    "q3_boot_plot.single_barplot(x_axis=\"Value\", y_axis=\"Effort\", \n",
    "                       title=\"Bootstrapping - 95% confidence \\n How much percentage of effort do you think is spent in each of the seven ML life cycle stages?\",\n",
    "                       x_label=\"Percentage of Answers\", y_label=\"Effort\", x_label_rotation=0, color=\"#429bf5\",\n",
    "                       total_answers=total_answers)"
   ]
  },
  {
   "cell_type": "code",
   "execution_count": 37,
   "id": "5c9416a6-0b0d-4aba-b037-bbfdc6b3d264",
   "metadata": {},
   "outputs": [
    {
     "name": "stdout",
     "output_type": "stream",
     "text": [
      "Option: (Lower Value, Mean, Upper Value)\n",
      "Problem Understanding:: (16.86816972424753, 16.91263829787234, 16.957106871497153)\n",
      "Data Collection:: (16.119244275434657, 16.163356382978726, 16.207468490522796)\n",
      "Data Pre-Processing:: (18.157826913243923, 18.208494680851064, 18.259162448458206)\n",
      "Model Creation:: (15.833827338695754, 15.875015957446807, 15.916204576197861)\n",
      "Model Evaluation:: (10.263792519289407, 10.289840425531915, 10.315888331774424)\n",
      "Model Deployment:: (9.315939291100477, 9.342712765957446, 9.369486240814414)\n",
      "Model Monitoring:: (6.694265683804595, 6.715398936170214, 6.736532188535833)\n"
     ]
    }
   ],
   "source": [
    "# confidence for each option\n",
    "print(\"Option: (Lower Value, Mean, Upper Value)\")\n",
    "print(f\"Problem Understanding:: {bootstrapped_problem_understanding_list_data['confidence']}\")\n",
    "print(f\"Data Collection:: {bootstrapped_data_collection_list_data['confidence']}\")\n",
    "print(f\"Data Pre-Processing:: {bootstrapped_data_preprocessing_list_data['confidence']}\")\n",
    "print(f\"Model Creation:: {bootstrapped_model_creation_list_data['confidence']}\")\n",
    "print(f\"Model Evaluation:: {bootstrapped_model_evaluation_list_data['confidence']}\")\n",
    "print(f\"Model Deployment:: {bootstrapped_model_deployment_list_data['confidence']}\")\n",
    "print(f\"Model Monitoring:: {bootstrapped_model_monitoring_list_data['confidence']}\")"
   ]
  },
  {
   "cell_type": "code",
   "execution_count": 38,
   "id": "d328b96f-3c80-4757-8d79-2013624ab905",
   "metadata": {},
   "outputs": [
    {
     "name": "stdout",
     "output_type": "stream",
     "text": [
      "Option: (Lower Value, Mean, Upper Value)\n",
      "Problem Understanding:: P = 16.913 [16.868, 16.957]\n",
      "Data Collection:: P = 16.163  [16.119, 16.207]\n",
      "Data Pre-Processing:: P = 18.208 [18.158, 18.259]\n",
      "Model Creation:: P = 15.875 [15.834, 15.916]\n",
      "Model Evaluation:: P = 10.29 [10.264, 10.316]\n",
      "Model Deployment:: P = 9.343 [9.316, 9.369]\n",
      "Model Monitoring:: P = 6.715 [6.694, 6.737]\n"
     ]
    }
   ],
   "source": [
    "# confidence for each option\n",
    "print(\"Option: (Lower Value, Mean, Upper Value)\")\n",
    "print(f\"Problem Understanding:: P = {round(bootstrapped_problem_understanding_list_data['confidence'][1], 3)} [{round(bootstrapped_problem_understanding_list_data['confidence'][0], 3)}, {round(bootstrapped_problem_understanding_list_data['confidence'][2], 3)}]\")\n",
    "print(f\"Data Collection:: P = {round(bootstrapped_data_collection_list_data['confidence'][1], 3)}  [{round(bootstrapped_data_collection_list_data['confidence'][0], 3)}, {round(bootstrapped_data_collection_list_data['confidence'][2], 3)}]\")\n",
    "print(f\"Data Pre-Processing:: P = {round(bootstrapped_data_preprocessing_list_data['confidence'][1], 3)} [{round(bootstrapped_data_preprocessing_list_data['confidence'][0], 3)}, {round(bootstrapped_data_preprocessing_list_data['confidence'][2], 3)}]\")\n",
    "print(f\"Model Creation:: P = {round(bootstrapped_model_creation_list_data['confidence'][1], 3)} [{round(bootstrapped_model_creation_list_data['confidence'][0], 3)}, {round(bootstrapped_model_creation_list_data['confidence'][2], 3)}]\")\n",
    "print(f\"Model Evaluation:: P = {round(bootstrapped_model_evaluation_list_data['confidence'][1], 3)} [{round(bootstrapped_model_evaluation_list_data['confidence'][0], 3)}, {round(bootstrapped_model_evaluation_list_data['confidence'][2], 3)}]\")\n",
    "print(f\"Model Deployment:: P = {round(bootstrapped_model_deployment_list_data['confidence'][1], 3)} [{round(bootstrapped_model_deployment_list_data['confidence'][0], 3)}, {round(bootstrapped_model_deployment_list_data['confidence'][2], 3)}]\")\n",
    "print(f\"Model Monitoring:: P = {round(bootstrapped_model_monitoring_list_data['confidence'][1], 3)} [{round(bootstrapped_model_monitoring_list_data['confidence'][0], 3)}, {round(bootstrapped_model_monitoring_list_data['confidence'][2], 3)}]\")"
   ]
  },
  {
   "cell_type": "code",
   "execution_count": null,
   "id": "b504848d-32bf-41a6-9cb8-53c1b076a9f3",
   "metadata": {},
   "outputs": [],
   "source": []
  }
 ],
 "metadata": {
  "kernelspec": {
   "display_name": "Python 3 (ipykernel)",
   "language": "python",
   "name": "python3"
  },
  "language_info": {
   "codemirror_mode": {
    "name": "ipython",
    "version": 3
   },
   "file_extension": ".py",
   "mimetype": "text/x-python",
   "name": "python",
   "nbconvert_exporter": "python",
   "pygments_lexer": "ipython3",
   "version": "3.10.9"
  }
 },
 "nbformat": 4,
 "nbformat_minor": 5
}
